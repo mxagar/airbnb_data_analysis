{
 "cells": [
  {
   "cell_type": "markdown",
   "id": "50ee3a3d-682f-41ea-bf8a-122b36b9a3c4",
   "metadata": {},
   "source": [
    "# AirBnB Data Analysis: Initial Contact with the Dataset"
   ]
  },
  {
   "cell_type": "markdown",
   "id": "88f94109-04d7-4f83-831d-b2c551278a0f",
   "metadata": {},
   "source": [
    "In the current repository, I will analyze the [AirBnB dataset from the Basque Country / Euskadi](http://insideairbnb.com/get-the-data/). The [Basque Country](https://en.wikipedia.org/wiki/Basque_Country_(autonomous_community)) is the region from Spain I am from; after many years living in Germany, I moved back here in 2020. As a popular touristic target on the seaside, the analysis might be valuable for many visitors :-)\n",
    "\n",
    "I will follow standard [CRISP-DM process](https://en.wikipedia.org/wiki/Cross-industry_standard_process_for_data_mining), which usually requires to define some business questions first; then, the data is collected and analyzed following those questions. In the current case, since the dataset was already created, this notebook serves as a first exposure to it, created to formulate the business questions.\n",
    "\n",
    "Notes about the dataset:\n",
    "\n",
    "- Among all the files that compose the dataset, the  most interesting to me are:\n",
    "    - `listings_detailed.csv`: list of all the listed properties and their features\n",
    "    - `reviews_detailed.csv`: reviews associated to the listed properties\n",
    "- Link to the [dataset dictionary](https://docs.google.com/spreadsheets/d/1iWCNJcSutYqpULSQHlNyGInUvHg2BoUGoNRIGa6Szc4/edit#gid=982310896)"
   ]
  },
  {
   "cell_type": "markdown",
   "id": "eae00643-3dfe-4746-9fec-32dc46b375a8",
   "metadata": {},
   "source": [
    "Goals:\n",
    "\n",
    "- Come up with at least three interesting questions.\n",
    "- Extract the necessary data to answer these questions.\n",
    "- Perform necessary cleaning, analysis, and modeling.\n",
    "- Evaluate results.\n",
    "- Share insights in a blog post."
   ]
  },
  {
   "cell_type": "markdown",
   "id": "78c6a9e6-d9ea-4dee-8f9c-a059d6e69a8e",
   "metadata": {},
   "source": [
    "### Overview of contents in this notebook\n",
    "\n",
    "1. Load and Inspect Dataset\n",
    "2. Simplifications and Feature Engineering Decisions\n",
    "3. Definition of Business Questions\n",
    "4. Storing of the Simplified Dataset"
   ]
  },
  {
   "cell_type": "code",
   "execution_count": 118,
   "id": "65eb2d74-873b-4e4a-aeca-ec92bd2e0393",
   "metadata": {},
   "outputs": [],
   "source": [
    "import numpy as np\n",
    "import pandas as pd\n",
    "import matplotlib.pyplot as plt\n",
    "import seaborn as sns\n",
    "import scipy.stats as stats"
   ]
  },
  {
   "cell_type": "markdown",
   "id": "4b55780b-c4c7-4c37-a86d-6afdbb459932",
   "metadata": {},
   "source": [
    "## 1. Load and Inspect Dataset"
   ]
  },
  {
   "cell_type": "code",
   "execution_count": 119,
   "id": "7ea43f4f-6f83-4bff-b64e-45984f221df7",
   "metadata": {},
   "outputs": [],
   "source": [
    "listings_df = pd.read_csv('./data/euskadi_2022_03_31/listings_detailed.csv',encoding='utf-8')\n",
    "reviews_df = pd.read_csv('./data/euskadi_2022_03_31/reviews_detailed.csv',encoding='utf-8')\n",
    "calendar_df = pd.read_csv('./data/euskadi_2022_03_31/calendar_detailed.csv',encoding='utf-8')\n",
    "#listings_df = pd.read_csv('./data/seattle_kaggle/listings.csv')\n",
    "#reviews_df = pd.read_csv('./data/seattle_kaggle/reviews.csv')\n",
    "#calendar_df = pd.read_csv('./data/seattle_kaggle/calendar.csv')"
   ]
  },
  {
   "cell_type": "code",
   "execution_count": 120,
   "id": "78b04dcd-9d9d-4f94-a630-ff0b94bf6340",
   "metadata": {},
   "outputs": [
    {
     "name": "stdout",
     "output_type": "stream",
     "text": [
      "Listings: (5228, 74)\n"
     ]
    },
    {
     "data": {
      "text/html": [
       "<div>\n",
       "<style scoped>\n",
       "    .dataframe tbody tr th:only-of-type {\n",
       "        vertical-align: middle;\n",
       "    }\n",
       "\n",
       "    .dataframe tbody tr th {\n",
       "        vertical-align: top;\n",
       "    }\n",
       "\n",
       "    .dataframe thead th {\n",
       "        text-align: right;\n",
       "    }\n",
       "</style>\n",
       "<table border=\"1\" class=\"dataframe\">\n",
       "  <thead>\n",
       "    <tr style=\"text-align: right;\">\n",
       "      <th></th>\n",
       "      <th>id</th>\n",
       "      <th>listing_url</th>\n",
       "      <th>scrape_id</th>\n",
       "      <th>last_scraped</th>\n",
       "      <th>name</th>\n",
       "      <th>description</th>\n",
       "      <th>neighborhood_overview</th>\n",
       "      <th>picture_url</th>\n",
       "      <th>host_id</th>\n",
       "      <th>host_url</th>\n",
       "      <th>...</th>\n",
       "      <th>review_scores_communication</th>\n",
       "      <th>review_scores_location</th>\n",
       "      <th>review_scores_value</th>\n",
       "      <th>license</th>\n",
       "      <th>instant_bookable</th>\n",
       "      <th>calculated_host_listings_count</th>\n",
       "      <th>calculated_host_listings_count_entire_homes</th>\n",
       "      <th>calculated_host_listings_count_private_rooms</th>\n",
       "      <th>calculated_host_listings_count_shared_rooms</th>\n",
       "      <th>reviews_per_month</th>\n",
       "    </tr>\n",
       "  </thead>\n",
       "  <tbody>\n",
       "    <tr>\n",
       "      <th>0</th>\n",
       "      <td>132068</td>\n",
       "      <td>https://www.airbnb.com/rooms/132068</td>\n",
       "      <td>20220331053302</td>\n",
       "      <td>2022-03-31</td>\n",
       "      <td>Great attic+terrace+parking. Beach views. ESS0...</td>\n",
       "      <td>Amazing  modern, clean &amp; fully equiped flat of...</td>\n",
       "      <td>Gros es el barrio de moda de Donosti. El apart...</td>\n",
       "      <td>https://a0.muscache.com/pictures/22b9f457-1f65...</td>\n",
       "      <td>648938</td>\n",
       "      <td>https://www.airbnb.com/users/show/648938</td>\n",
       "      <td>...</td>\n",
       "      <td>4.97</td>\n",
       "      <td>4.94</td>\n",
       "      <td>4.75</td>\n",
       "      <td>NaN</td>\n",
       "      <td>t</td>\n",
       "      <td>1</td>\n",
       "      <td>1</td>\n",
       "      <td>0</td>\n",
       "      <td>0</td>\n",
       "      <td>4.43</td>\n",
       "    </tr>\n",
       "    <tr>\n",
       "      <th>1</th>\n",
       "      <td>134802</td>\n",
       "      <td>https://www.airbnb.com/rooms/134802</td>\n",
       "      <td>20220331053302</td>\n",
       "      <td>2022-03-31</td>\n",
       "      <td>Hab Luminosa,tranquila,baño privado</td>\n",
       "      <td>&lt;b&gt;The space&lt;/b&gt;&lt;br /&gt;Habitación en piso compa...</td>\n",
       "      <td>Zona tranquila, junto a parque con amplias zon...</td>\n",
       "      <td>https://a0.muscache.com/pictures/0832d126-0847...</td>\n",
       "      <td>661293</td>\n",
       "      <td>https://www.airbnb.com/users/show/661293</td>\n",
       "      <td>...</td>\n",
       "      <td>4.67</td>\n",
       "      <td>4.00</td>\n",
       "      <td>3.83</td>\n",
       "      <td>NaN</td>\n",
       "      <td>t</td>\n",
       "      <td>1</td>\n",
       "      <td>0</td>\n",
       "      <td>1</td>\n",
       "      <td>0</td>\n",
       "      <td>0.06</td>\n",
       "    </tr>\n",
       "    <tr>\n",
       "      <th>2</th>\n",
       "      <td>142760</td>\n",
       "      <td>https://www.airbnb.com/rooms/142760</td>\n",
       "      <td>20220331053302</td>\n",
       "      <td>2022-03-31</td>\n",
       "      <td>Apto San Juan de Gaztelugatxe</td>\n",
       "      <td>&lt;b&gt;The space&lt;/b&gt;&lt;br /&gt;This charming new apartm...</td>\n",
       "      <td>NaN</td>\n",
       "      <td>https://a0.muscache.com/pictures/71900ac6-da9b...</td>\n",
       "      <td>693119</td>\n",
       "      <td>https://www.airbnb.com/users/show/693119</td>\n",
       "      <td>...</td>\n",
       "      <td>4.57</td>\n",
       "      <td>4.62</td>\n",
       "      <td>4.74</td>\n",
       "      <td>NaN</td>\n",
       "      <td>f</td>\n",
       "      <td>1</td>\n",
       "      <td>1</td>\n",
       "      <td>0</td>\n",
       "      <td>0</td>\n",
       "      <td>0.33</td>\n",
       "    </tr>\n",
       "    <tr>\n",
       "      <th>3</th>\n",
       "      <td>309802</td>\n",
       "      <td>https://www.airbnb.com/rooms/309802</td>\n",
       "      <td>20220331053302</td>\n",
       "      <td>2022-03-31</td>\n",
       "      <td>Luxury w/terrace near the beach WIF</td>\n",
       "      <td>&lt;b&gt;The space&lt;/b&gt;&lt;br /&gt;It is located in the pea...</td>\n",
       "      <td>In this neighborhood with a strong personality...</td>\n",
       "      <td>https://a0.muscache.com/pictures/50730214/c462...</td>\n",
       "      <td>1589633</td>\n",
       "      <td>https://www.airbnb.com/users/show/1589633</td>\n",
       "      <td>...</td>\n",
       "      <td>4.20</td>\n",
       "      <td>5.00</td>\n",
       "      <td>4.00</td>\n",
       "      <td>NaN</td>\n",
       "      <td>f</td>\n",
       "      <td>8</td>\n",
       "      <td>7</td>\n",
       "      <td>1</td>\n",
       "      <td>0</td>\n",
       "      <td>0.05</td>\n",
       "    </tr>\n",
       "    <tr>\n",
       "      <th>4</th>\n",
       "      <td>309813</td>\n",
       "      <td>https://www.airbnb.com/rooms/309813</td>\n",
       "      <td>20220331053302</td>\n",
       "      <td>2022-03-31</td>\n",
       "      <td>Near the beach with terrace WIFI</td>\n",
       "      <td>Luxury three bedrooms apartment located in a b...</td>\n",
       "      <td>The apartment is located in the area known as ...</td>\n",
       "      <td>https://a0.muscache.com/pictures/47628802/98ac...</td>\n",
       "      <td>1589633</td>\n",
       "      <td>https://www.airbnb.com/users/show/1589633</td>\n",
       "      <td>...</td>\n",
       "      <td>4.58</td>\n",
       "      <td>4.73</td>\n",
       "      <td>4.64</td>\n",
       "      <td>NaN</td>\n",
       "      <td>f</td>\n",
       "      <td>8</td>\n",
       "      <td>7</td>\n",
       "      <td>1</td>\n",
       "      <td>0</td>\n",
       "      <td>0.10</td>\n",
       "    </tr>\n",
       "  </tbody>\n",
       "</table>\n",
       "<p>5 rows × 74 columns</p>\n",
       "</div>"
      ],
      "text/plain": [
       "       id                          listing_url       scrape_id last_scraped  \\\n",
       "0  132068  https://www.airbnb.com/rooms/132068  20220331053302   2022-03-31   \n",
       "1  134802  https://www.airbnb.com/rooms/134802  20220331053302   2022-03-31   \n",
       "2  142760  https://www.airbnb.com/rooms/142760  20220331053302   2022-03-31   \n",
       "3  309802  https://www.airbnb.com/rooms/309802  20220331053302   2022-03-31   \n",
       "4  309813  https://www.airbnb.com/rooms/309813  20220331053302   2022-03-31   \n",
       "\n",
       "                                                name  \\\n",
       "0  Great attic+terrace+parking. Beach views. ESS0...   \n",
       "1                Hab Luminosa,tranquila,baño privado   \n",
       "2                      Apto San Juan de Gaztelugatxe   \n",
       "3                Luxury w/terrace near the beach WIF   \n",
       "4                   Near the beach with terrace WIFI   \n",
       "\n",
       "                                         description  \\\n",
       "0  Amazing  modern, clean & fully equiped flat of...   \n",
       "1  <b>The space</b><br />Habitación en piso compa...   \n",
       "2  <b>The space</b><br />This charming new apartm...   \n",
       "3  <b>The space</b><br />It is located in the pea...   \n",
       "4  Luxury three bedrooms apartment located in a b...   \n",
       "\n",
       "                               neighborhood_overview  \\\n",
       "0  Gros es el barrio de moda de Donosti. El apart...   \n",
       "1  Zona tranquila, junto a parque con amplias zon...   \n",
       "2                                                NaN   \n",
       "3  In this neighborhood with a strong personality...   \n",
       "4  The apartment is located in the area known as ...   \n",
       "\n",
       "                                         picture_url  host_id  \\\n",
       "0  https://a0.muscache.com/pictures/22b9f457-1f65...   648938   \n",
       "1  https://a0.muscache.com/pictures/0832d126-0847...   661293   \n",
       "2  https://a0.muscache.com/pictures/71900ac6-da9b...   693119   \n",
       "3  https://a0.muscache.com/pictures/50730214/c462...  1589633   \n",
       "4  https://a0.muscache.com/pictures/47628802/98ac...  1589633   \n",
       "\n",
       "                                    host_url  ... review_scores_communication  \\\n",
       "0   https://www.airbnb.com/users/show/648938  ...                        4.97   \n",
       "1   https://www.airbnb.com/users/show/661293  ...                        4.67   \n",
       "2   https://www.airbnb.com/users/show/693119  ...                        4.57   \n",
       "3  https://www.airbnb.com/users/show/1589633  ...                        4.20   \n",
       "4  https://www.airbnb.com/users/show/1589633  ...                        4.58   \n",
       "\n",
       "  review_scores_location review_scores_value license instant_bookable  \\\n",
       "0                   4.94                4.75     NaN                t   \n",
       "1                   4.00                3.83     NaN                t   \n",
       "2                   4.62                4.74     NaN                f   \n",
       "3                   5.00                4.00     NaN                f   \n",
       "4                   4.73                4.64     NaN                f   \n",
       "\n",
       "  calculated_host_listings_count calculated_host_listings_count_entire_homes  \\\n",
       "0                              1                                           1   \n",
       "1                              1                                           0   \n",
       "2                              1                                           1   \n",
       "3                              8                                           7   \n",
       "4                              8                                           7   \n",
       "\n",
       "  calculated_host_listings_count_private_rooms  \\\n",
       "0                                            0   \n",
       "1                                            1   \n",
       "2                                            0   \n",
       "3                                            1   \n",
       "4                                            1   \n",
       "\n",
       "  calculated_host_listings_count_shared_rooms reviews_per_month  \n",
       "0                                           0              4.43  \n",
       "1                                           0              0.06  \n",
       "2                                           0              0.33  \n",
       "3                                           0              0.05  \n",
       "4                                           0              0.10  \n",
       "\n",
       "[5 rows x 74 columns]"
      ]
     },
     "execution_count": 120,
     "metadata": {},
     "output_type": "execute_result"
    }
   ],
   "source": [
    "print(f\"Listings: {listings_df.shape}\")\n",
    "listings_df.head()"
   ]
  },
  {
   "cell_type": "code",
   "execution_count": 121,
   "id": "0873d470-d1fa-4c2c-9a0d-3220a1351e53",
   "metadata": {},
   "outputs": [
    {
     "name": "stdout",
     "output_type": "stream",
     "text": [
      "<class 'pandas.core.frame.DataFrame'>\n",
      "RangeIndex: 5228 entries, 0 to 5227\n",
      "Data columns (total 74 columns):\n",
      " #   Column                                        Non-Null Count  Dtype  \n",
      "---  ------                                        --------------  -----  \n",
      " 0   id                                            5228 non-null   int64  \n",
      " 1   listing_url                                   5228 non-null   object \n",
      " 2   scrape_id                                     5228 non-null   int64  \n",
      " 3   last_scraped                                  5228 non-null   object \n",
      " 4   name                                          5228 non-null   object \n",
      " 5   description                                   5129 non-null   object \n",
      " 6   neighborhood_overview                         2879 non-null   object \n",
      " 7   picture_url                                   5228 non-null   object \n",
      " 8   host_id                                       5228 non-null   int64  \n",
      " 9   host_url                                      5228 non-null   object \n",
      " 10  host_name                                     5228 non-null   object \n",
      " 11  host_since                                    5228 non-null   object \n",
      " 12  host_location                                 5224 non-null   object \n",
      " 13  host_about                                    2620 non-null   object \n",
      " 14  host_response_time                            4460 non-null   object \n",
      " 15  host_response_rate                            4460 non-null   object \n",
      " 16  host_acceptance_rate                          4843 non-null   object \n",
      " 17  host_is_superhost                             5228 non-null   object \n",
      " 18  host_thumbnail_url                            5228 non-null   object \n",
      " 19  host_picture_url                              5228 non-null   object \n",
      " 20  host_neighbourhood                            80 non-null     object \n",
      " 21  host_listings_count                           5228 non-null   int64  \n",
      " 22  host_total_listings_count                     5228 non-null   int64  \n",
      " 23  host_verifications                            5228 non-null   object \n",
      " 24  host_has_profile_pic                          5228 non-null   object \n",
      " 25  host_identity_verified                        5228 non-null   object \n",
      " 26  neighbourhood                                 2879 non-null   object \n",
      " 27  neighbourhood_cleansed                        5228 non-null   object \n",
      " 28  neighbourhood_group_cleansed                  5228 non-null   object \n",
      " 29  latitude                                      5228 non-null   float64\n",
      " 30  longitude                                     5228 non-null   float64\n",
      " 31  property_type                                 5228 non-null   object \n",
      " 32  room_type                                     5228 non-null   object \n",
      " 33  accommodates                                  5228 non-null   int64  \n",
      " 34  bathrooms                                     0 non-null      float64\n",
      " 35  bathrooms_text                                5202 non-null   object \n",
      " 36  bedrooms                                      5106 non-null   float64\n",
      " 37  beds                                          5130 non-null   float64\n",
      " 38  amenities                                     5228 non-null   object \n",
      " 39  price                                         5228 non-null   object \n",
      " 40  minimum_nights                                5228 non-null   int64  \n",
      " 41  maximum_nights                                5228 non-null   int64  \n",
      " 42  minimum_minimum_nights                        5228 non-null   int64  \n",
      " 43  maximum_minimum_nights                        5228 non-null   int64  \n",
      " 44  minimum_maximum_nights                        5228 non-null   int64  \n",
      " 45  maximum_maximum_nights                        5228 non-null   int64  \n",
      " 46  minimum_nights_avg_ntm                        5228 non-null   float64\n",
      " 47  maximum_nights_avg_ntm                        5228 non-null   float64\n",
      " 48  calendar_updated                              0 non-null      float64\n",
      " 49  has_availability                              5228 non-null   object \n",
      " 50  availability_30                               5228 non-null   int64  \n",
      " 51  availability_60                               5228 non-null   int64  \n",
      " 52  availability_90                               5228 non-null   int64  \n",
      " 53  availability_365                              5228 non-null   int64  \n",
      " 54  calendar_last_scraped                         5228 non-null   object \n",
      " 55  number_of_reviews                             5228 non-null   int64  \n",
      " 56  number_of_reviews_ltm                         5228 non-null   int64  \n",
      " 57  number_of_reviews_l30d                        5228 non-null   int64  \n",
      " 58  first_review                                  4394 non-null   object \n",
      " 59  last_review                                   4394 non-null   object \n",
      " 60  review_scores_rating                          4394 non-null   float64\n",
      " 61  review_scores_accuracy                        4375 non-null   float64\n",
      " 62  review_scores_cleanliness                     4375 non-null   float64\n",
      " 63  review_scores_checkin                         4375 non-null   float64\n",
      " 64  review_scores_communication                   4375 non-null   float64\n",
      " 65  review_scores_location                        4375 non-null   float64\n",
      " 66  review_scores_value                           4375 non-null   float64\n",
      " 67  license                                       2729 non-null   object \n",
      " 68  instant_bookable                              5228 non-null   object \n",
      " 69  calculated_host_listings_count                5228 non-null   int64  \n",
      " 70  calculated_host_listings_count_entire_homes   5228 non-null   int64  \n",
      " 71  calculated_host_listings_count_private_rooms  5228 non-null   int64  \n",
      " 72  calculated_host_listings_count_shared_rooms   5228 non-null   int64  \n",
      " 73  reviews_per_month                             4394 non-null   float64\n",
      "dtypes: float64(16), int64(23), object(35)\n",
      "memory usage: 3.0+ MB\n"
     ]
    }
   ],
   "source": [
    "listings_df.info()"
   ]
  },
  {
   "cell_type": "code",
   "execution_count": 122,
   "id": "6c2058ce-bd51-4ac4-aad9-db88979b0704",
   "metadata": {},
   "outputs": [
    {
     "name": "stdout",
     "output_type": "stream",
     "text": [
      "Reviews: (190058, 6)\n"
     ]
    },
    {
     "data": {
      "text/html": [
       "<div>\n",
       "<style scoped>\n",
       "    .dataframe tbody tr th:only-of-type {\n",
       "        vertical-align: middle;\n",
       "    }\n",
       "\n",
       "    .dataframe tbody tr th {\n",
       "        vertical-align: top;\n",
       "    }\n",
       "\n",
       "    .dataframe thead th {\n",
       "        text-align: right;\n",
       "    }\n",
       "</style>\n",
       "<table border=\"1\" class=\"dataframe\">\n",
       "  <thead>\n",
       "    <tr style=\"text-align: right;\">\n",
       "      <th></th>\n",
       "      <th>listing_id</th>\n",
       "      <th>id</th>\n",
       "      <th>date</th>\n",
       "      <th>reviewer_id</th>\n",
       "      <th>reviewer_name</th>\n",
       "      <th>comments</th>\n",
       "    </tr>\n",
       "  </thead>\n",
       "  <tbody>\n",
       "    <tr>\n",
       "      <th>0</th>\n",
       "      <td>132068</td>\n",
       "      <td>297597</td>\n",
       "      <td>2011-06-04</td>\n",
       "      <td>182987</td>\n",
       "      <td>Irina</td>\n",
       "      <td>Mikel's place was outrageous, a perfect combin...</td>\n",
       "    </tr>\n",
       "    <tr>\n",
       "      <th>1</th>\n",
       "      <td>132068</td>\n",
       "      <td>12519461</td>\n",
       "      <td>2014-05-04</td>\n",
       "      <td>5175212</td>\n",
       "      <td>Philippine &amp; Grégoire</td>\n",
       "      <td>Mikel appartment is exactly as it is described...</td>\n",
       "    </tr>\n",
       "    <tr>\n",
       "      <th>2</th>\n",
       "      <td>132068</td>\n",
       "      <td>12600130</td>\n",
       "      <td>2014-05-05</td>\n",
       "      <td>2789268</td>\n",
       "      <td>Alvaro</td>\n",
       "      <td>La experiencia en el apartamento de Mikel fue ...</td>\n",
       "    </tr>\n",
       "    <tr>\n",
       "      <th>3</th>\n",
       "      <td>132068</td>\n",
       "      <td>13253988</td>\n",
       "      <td>2014-05-23</td>\n",
       "      <td>298828</td>\n",
       "      <td>Mayte</td>\n",
       "      <td>Mikel Es una persona amable, el aspartamento e...</td>\n",
       "    </tr>\n",
       "    <tr>\n",
       "      <th>4</th>\n",
       "      <td>132068</td>\n",
       "      <td>13294951</td>\n",
       "      <td>2014-05-24</td>\n",
       "      <td>7736822</td>\n",
       "      <td>Kaela</td>\n",
       "      <td>Absolutely wonderful apartment. Mikel was very...</td>\n",
       "    </tr>\n",
       "  </tbody>\n",
       "</table>\n",
       "</div>"
      ],
      "text/plain": [
       "   listing_id        id        date  reviewer_id          reviewer_name  \\\n",
       "0      132068    297597  2011-06-04       182987                  Irina   \n",
       "1      132068  12519461  2014-05-04      5175212  Philippine & Grégoire   \n",
       "2      132068  12600130  2014-05-05      2789268                 Alvaro   \n",
       "3      132068  13253988  2014-05-23       298828                  Mayte   \n",
       "4      132068  13294951  2014-05-24      7736822                  Kaela   \n",
       "\n",
       "                                            comments  \n",
       "0  Mikel's place was outrageous, a perfect combin...  \n",
       "1  Mikel appartment is exactly as it is described...  \n",
       "2  La experiencia en el apartamento de Mikel fue ...  \n",
       "3  Mikel Es una persona amable, el aspartamento e...  \n",
       "4  Absolutely wonderful apartment. Mikel was very...  "
      ]
     },
     "execution_count": 122,
     "metadata": {},
     "output_type": "execute_result"
    }
   ],
   "source": [
    "# Reviews are written in several languages: at least English and Spanish\n",
    "print(f\"Reviews: {reviews_df.shape}\")\n",
    "reviews_df.head()"
   ]
  },
  {
   "cell_type": "code",
   "execution_count": 123,
   "id": "1efb2283-fcfc-4026-9f9c-29644c73ad09",
   "metadata": {},
   "outputs": [
    {
     "name": "stdout",
     "output_type": "stream",
     "text": [
      "Calendar: (1908220, 7)\n"
     ]
    },
    {
     "data": {
      "text/html": [
       "<div>\n",
       "<style scoped>\n",
       "    .dataframe tbody tr th:only-of-type {\n",
       "        vertical-align: middle;\n",
       "    }\n",
       "\n",
       "    .dataframe tbody tr th {\n",
       "        vertical-align: top;\n",
       "    }\n",
       "\n",
       "    .dataframe thead th {\n",
       "        text-align: right;\n",
       "    }\n",
       "</style>\n",
       "<table border=\"1\" class=\"dataframe\">\n",
       "  <thead>\n",
       "    <tr style=\"text-align: right;\">\n",
       "      <th></th>\n",
       "      <th>listing_id</th>\n",
       "      <th>date</th>\n",
       "      <th>available</th>\n",
       "      <th>price</th>\n",
       "      <th>adjusted_price</th>\n",
       "      <th>minimum_nights</th>\n",
       "      <th>maximum_nights</th>\n",
       "    </tr>\n",
       "  </thead>\n",
       "  <tbody>\n",
       "    <tr>\n",
       "      <th>0</th>\n",
       "      <td>132068</td>\n",
       "      <td>2022-03-31</td>\n",
       "      <td>f</td>\n",
       "      <td>$130.00</td>\n",
       "      <td>$130.00</td>\n",
       "      <td>1</td>\n",
       "      <td>63</td>\n",
       "    </tr>\n",
       "    <tr>\n",
       "      <th>1</th>\n",
       "      <td>132068</td>\n",
       "      <td>2022-04-01</td>\n",
       "      <td>f</td>\n",
       "      <td>$160.00</td>\n",
       "      <td>$160.00</td>\n",
       "      <td>1</td>\n",
       "      <td>63</td>\n",
       "    </tr>\n",
       "    <tr>\n",
       "      <th>2</th>\n",
       "      <td>132068</td>\n",
       "      <td>2022-04-02</td>\n",
       "      <td>f</td>\n",
       "      <td>$160.00</td>\n",
       "      <td>$160.00</td>\n",
       "      <td>1</td>\n",
       "      <td>63</td>\n",
       "    </tr>\n",
       "    <tr>\n",
       "      <th>3</th>\n",
       "      <td>132068</td>\n",
       "      <td>2022-04-03</td>\n",
       "      <td>t</td>\n",
       "      <td>$130.00</td>\n",
       "      <td>$130.00</td>\n",
       "      <td>1</td>\n",
       "      <td>63</td>\n",
       "    </tr>\n",
       "    <tr>\n",
       "      <th>4</th>\n",
       "      <td>132068</td>\n",
       "      <td>2022-04-04</td>\n",
       "      <td>t</td>\n",
       "      <td>$130.00</td>\n",
       "      <td>$130.00</td>\n",
       "      <td>1</td>\n",
       "      <td>63</td>\n",
       "    </tr>\n",
       "  </tbody>\n",
       "</table>\n",
       "</div>"
      ],
      "text/plain": [
       "   listing_id        date available    price adjusted_price  minimum_nights  \\\n",
       "0      132068  2022-03-31         f  $130.00        $130.00               1   \n",
       "1      132068  2022-04-01         f  $160.00        $160.00               1   \n",
       "2      132068  2022-04-02         f  $160.00        $160.00               1   \n",
       "3      132068  2022-04-03         t  $130.00        $130.00               1   \n",
       "4      132068  2022-04-04         t  $130.00        $130.00               1   \n",
       "\n",
       "   maximum_nights  \n",
       "0              63  \n",
       "1              63  \n",
       "2              63  \n",
       "3              63  \n",
       "4              63  "
      ]
     },
     "execution_count": 123,
     "metadata": {},
     "output_type": "execute_result"
    }
   ],
   "source": [
    "print(f\"Calendar: {calendar_df.shape}\")\n",
    "calendar_df.head()"
   ]
  },
  {
   "cell_type": "code",
   "execution_count": 124,
   "id": "63ad6910-c21e-452f-9047-3e9e4057273b",
   "metadata": {},
   "outputs": [],
   "source": [
    "# Some location names are not correctly encoded?\n",
    "# Fix location/neighborhood names; even thhough UTF-8 is used, names where encoded differently?\n",
    "listings_df['neighbourhood_group_cleansed'] = listings_df['neighbourhood_group_cleansed'].replace({'Gipuzkoa':'Gipuzkoa',\n",
    "                                                                                                   'Ãlava':'Araba',\n",
    "                                                                                                   'Bizkaia': 'Bizkaia'})"
   ]
  },
  {
   "cell_type": "code",
   "execution_count": 125,
   "id": "2cfdf30d-995d-427a-a260-d2bbdc054268",
   "metadata": {},
   "outputs": [
    {
     "data": {
      "text/plain": [
       "Gipuzkoa    2534\n",
       "Bizkaia     2223\n",
       "Araba        471\n",
       "Name: neighbourhood_group_cleansed, dtype: int64"
      ]
     },
     "execution_count": 125,
     "metadata": {},
     "output_type": "execute_result"
    }
   ],
   "source": [
    "# Neighborhood groups are Spanish \"provincias\"\n",
    "listings_df[\"neighbourhood_group_cleansed\"].value_counts()"
   ]
  },
  {
   "cell_type": "code",
   "execution_count": 126,
   "id": "7da0f07e-b6ae-436b-a554-8f0fe57db135",
   "metadata": {},
   "outputs": [],
   "source": [
    "# Some location names are not correctly encoded?\n",
    "# Fix location/neighborhood names; even thhough UTF-8 is used, names where encoded differently?\n",
    "listings_df['neighbourhood_cleansed'] = listings_df['neighbourhood_cleansed'].replace({'Donostia-San SebastiÃ¡n':'Donostia-San Sebastian',\n",
    "                                                                                       'UrduÃ±a-OrduÃ±a':'Urduna-Orduna',\n",
    "                                                                                       'ValdegovÃ­a':'Valdegovia',\n",
    "                                                                                       'Mungai':'Mungia'})"
   ]
  },
  {
   "cell_type": "code",
   "execution_count": 127,
   "id": "17d9e2d7-16a7-406c-ae60-cd96601f69c4",
   "metadata": {},
   "outputs": [
    {
     "name": "stdout",
     "output_type": "stream",
     "text": [
      "Percent of listings in most listed 60 / 196 neighborhoods: 0.8928844682478958\n"
     ]
    },
    {
     "data": {
      "text/plain": [
       "<AxesSubplot:>"
      ]
     },
     "execution_count": 127,
     "metadata": {},
     "output_type": "execute_result"
    },
    {
     "data": {
      "image/png": "[encoded data removed]",
      "text/plain": [
       "<Figure size 1440x360 with 1 Axes>"
      ]
     },
     "metadata": {
      "needs_background": "light"
     },
     "output_type": "display_data"
    }
   ],
   "source": [
    "# There are almost 200 city/towns \n",
    "all_neighbourhoods = listings_df[\"neighbourhood_cleansed\"].value_counts()\n",
    "num_listings_per_neighborhood = all_neighbourhoods/all_neighbourhoods.sum()\n",
    "num_neighborhoods = 60\n",
    "print(f\"Percent of listings in most listed {num_neighborhoods} / {len(all_neighbourhoods)} neighborhoods: {num_listings_per_neighborhood[0:num_neighborhoods-1].sum()}\")\n",
    "#num_listings_per_neighborhood[0:num_neighborhoods-1].sum()\n",
    "plt.figure(figsize=(20,5))\n",
    "all_neighbourhoods[0:num_neighborhoods-1].plot(kind=\"bar\")"
   ]
  },
  {
   "cell_type": "code",
   "execution_count": 128,
   "id": "8a36e701-5707-4617-b05d-5be5a8463603",
   "metadata": {},
   "outputs": [
    {
     "data": {
      "text/plain": [
       "Index(['Donostia-San Sebastian', 'Bilbao', 'Vitoria-Gasteiz', 'Hondarribia',\n",
       "       'Zarautz', 'Getxo', 'Irun', 'Bermeo', 'Bakio', 'Lekeitio', 'Sopelana',\n",
       "       'Getaria', 'Mundaka', 'Barakaldo', 'Orio', 'Laguardia', 'Oiartzun',\n",
       "       'Zumaia', 'Mutriku', 'Deba', 'Karrantza Harana', 'Pasaia',\n",
       "       'Portugalete', 'Urnieta', 'Errenteria', 'Gorliz', 'Gautegiz Arteaga',\n",
       "       'Azpeitia', 'Aia', 'Ibarrangelu', 'Mungia', 'Plentzia', 'Lasarte-Oria',\n",
       "       'Labastida', 'Santurtzi', 'Ea', 'Zuia', 'Azkoitia', 'Valdegovia',\n",
       "       'Busturia', 'Elciego', 'Sopuerta', 'Hernani', 'Gernika-Lumo', 'Mendexa',\n",
       "       'Eibar', 'Asteasu', 'Segura', 'Urduna-Orduna', 'Markina-Xemein',\n",
       "       'Leioa', 'Lanciego', 'Astigarraga', 'Durango', 'Sestao', 'Derio',\n",
       "       'Ortuella', 'Amurrio', 'Samaniego'],\n",
       "      dtype='object')"
      ]
     },
     "execution_count": 128,
     "metadata": {},
     "output_type": "execute_result"
    }
   ],
   "source": [
    "all_selected_locations = list(all_neighbourhoods[0:num_neighborhoods-1].index)\n",
    "all_neighbourhoods[0:num_neighborhoods-1].index"
   ]
  },
  {
   "cell_type": "code",
   "execution_count": 129,
   "id": "4629fe59-ad2a-43d2-9895-8973675722ee",
   "metadata": {},
   "outputs": [],
   "source": [
    "# Locations with a beach in less than 2km (checked manually in Google Maps)\n",
    "# New feature that could explain price/reviews\n",
    "beach_locations = ['Donostia-San Sebastian', 'Hondarribia',\n",
    "       'Zarautz', 'Getxo', 'Irun', 'Bermeo', 'Bakio', 'Lekeitio', 'Sopelana',\n",
    "       'Getaria', 'Mundaka', 'Orio', 'Zumaia', 'Mutriku', 'Deba', 'Portugalete',\n",
    "       'Gorliz', 'Gautegiz Arteaga', 'Ibarrangelu', 'Plentzia', 'Santurtzi', 'Ea',\n",
    "       'Busturia', 'Gernika-Lumo', 'Mendexa', 'Leioa', 'Astigarraga', 'Sestao',\n",
    "       'Ortuella']"
   ]
  },
  {
   "cell_type": "code",
   "execution_count": 130,
   "id": "b24c3319-f095-4448-ba9c-2bbdff4fcaa1",
   "metadata": {},
   "outputs": [
    {
     "data": {
      "text/plain": [
       "29"
      ]
     },
     "execution_count": 130,
     "metadata": {},
     "output_type": "execute_result"
    }
   ],
   "source": [
    "# Half of the selected locations are coastal places or are close to a beach\n",
    "len(beach_locations)"
   ]
  },
  {
   "cell_type": "code",
   "execution_count": 131,
   "id": "a726c53c-7db3-402e-a0f2-67f3f02f014f",
   "metadata": {},
   "outputs": [
    {
     "data": {
      "text/plain": [
       "<AxesSubplot:xlabel='review_scores_rating', ylabel='Count'>"
      ]
     },
     "execution_count": 131,
     "metadata": {},
     "output_type": "execute_result"
    },
    {
     "data": {
      "image/png": "[encoded data removed]",
      "text/plain": [
       "<Figure size 1440x360 with 1 Axes>"
      ]
     },
     "metadata": {
      "needs_background": "light"
     },
     "output_type": "display_data"
    }
   ],
   "source": [
    "# Review scores are mainly concentrated in the range 4-5\n",
    "plt.figure(figsize=(20,5))\n",
    "sns.histplot(listings_df['review_scores_rating'],color='red',alpha=0.5)\n",
    "sns.histplot(listings_df['review_scores_value'],color='green',alpha=0.5)\n",
    "sns.histplot(listings_df['review_scores_accuracy'],color='blue',alpha=0.5)"
   ]
  },
  {
   "cell_type": "code",
   "execution_count": 132,
   "id": "5b69f852-506b-49d7-a573-123d40eeed1a",
   "metadata": {},
   "outputs": [
    {
     "data": {
      "text/plain": [
       "1 bath               1932\n",
       "2 baths              1182\n",
       "1 private bath        598\n",
       "1 shared bath         515\n",
       "1.5 baths             292\n",
       "3 baths               168\n",
       "1.5 shared baths       92\n",
       "2 shared baths         87\n",
       "2.5 baths              72\n",
       "4 baths                38\n",
       "3.5 baths              27\n",
       "5 baths                23\n",
       "4 shared baths         19\n",
       "6 baths                18\n",
       "3 shared baths         17\n",
       "0 shared baths         14\n",
       "Half-bath              12\n",
       "2.5 shared baths       11\n",
       "8 baths                10\n",
       "5.5 baths              10\n",
       "4.5 baths              10\n",
       "Shared half-bath        9\n",
       "6.5 baths               8\n",
       "0 baths                 8\n",
       "3.5 shared baths        7\n",
       "7 baths                 4\n",
       "4.5 shared baths        3\n",
       "8 shared baths          3\n",
       "7.5 shared baths        2\n",
       "6 shared baths          2\n",
       "8.5 baths               2\n",
       "7 shared baths          1\n",
       "5 shared baths          1\n",
       "9.5 baths               1\n",
       "11 baths                1\n",
       "5.5 shared baths        1\n",
       "Private half-bath       1\n",
       "7.5 baths               1\n",
       "Name: bathrooms_text, dtype: int64"
      ]
     },
     "execution_count": 132,
     "metadata": {},
     "output_type": "execute_result"
    }
   ],
   "source": [
    "# The bathroom is presumably an important feature\n",
    "# Which categories are defined?\n",
    "listings_df['bathrooms_text'].value_counts()"
   ]
  },
  {
   "cell_type": "code",
   "execution_count": 133,
   "id": "4f2c8587-9cbe-4fe7-ad36-65792ee61185",
   "metadata": {},
   "outputs": [
    {
     "data": {
      "text/plain": [
       "Entire home/apt    3535\n",
       "Private room       1605\n",
       "Hotel room           57\n",
       "Shared room          31\n",
       "Name: room_type, dtype: int64"
      ]
     },
     "execution_count": 133,
     "metadata": {},
     "output_type": "execute_result"
    }
   ],
   "source": [
    "# The room type is presumably an important feature\n",
    "# Which categories are defined?\n",
    "listings_df['room_type'].value_counts()"
   ]
  },
  {
   "cell_type": "code",
   "execution_count": 134,
   "id": "d187386e-3351-47fa-9fa3-e304cf874404",
   "metadata": {},
   "outputs": [],
   "source": [
    "# Price is encoded as a string; convert it to float\n",
    "listings_df['price'] = listings_df['price'].replace('[\\$,]', '', regex=True).astype(float)"
   ]
  },
  {
   "cell_type": "code",
   "execution_count": 135,
   "id": "6b0f305a-f8fa-4bf7-9778-c634522fead5",
   "metadata": {},
   "outputs": [
    {
     "data": {
      "text/plain": [
       "count     5228.000000\n",
       "mean       153.575363\n",
       "std        459.766990\n",
       "min          8.000000\n",
       "25%         69.000000\n",
       "50%        100.000000\n",
       "75%        159.000000\n",
       "max      16800.000000\n",
       "Name: price, dtype: float64"
      ]
     },
     "execution_count": 135,
     "metadata": {},
     "output_type": "execute_result"
    }
   ],
   "source": [
    "# There are some outliers in terms of price\n",
    "listings_df['price'].describe()"
   ]
  },
  {
   "cell_type": "code",
   "execution_count": 136,
   "id": "e2f5b44c-1a0b-4ddd-b55b-0e5bd3b647db",
   "metadata": {},
   "outputs": [
    {
     "data": {
      "text/plain": [
       "26"
      ]
     },
     "execution_count": 136,
     "metadata": {},
     "output_type": "execute_result"
    }
   ],
   "source": [
    "# Number of properties with a price larger than 1000 EUR/USD\n",
    "listings_df[listings_df.price > 1000]['price'].count()"
   ]
  },
  {
   "cell_type": "code",
   "execution_count": 137,
   "id": "6eec6056-524b-4793-8538-4577af6683b2",
   "metadata": {},
   "outputs": [
    {
     "data": {
      "text/plain": [
       "0.004973221117061974"
      ]
     },
     "execution_count": 137,
     "metadata": {},
     "output_type": "execute_result"
    }
   ],
   "source": [
    "# Less than 0.4% of the properties have a price larger than 1000 EUR/USD\n",
    "# Those are probably outliers\n",
    "listings_df[listings_df.price > 1000]['price'].count()/listings_df['price'].count()"
   ]
  },
  {
   "cell_type": "code",
   "execution_count": 138,
   "id": "14c85d93-7aea-4acc-b821-b568a4b82601",
   "metadata": {},
   "outputs": [
    {
     "data": {
      "text/plain": [
       "<AxesSubplot:ylabel='Frequency'>"
      ]
     },
     "execution_count": 138,
     "metadata": {},
     "output_type": "execute_result"
    },
    {
     "data": {
      "image/png": "[encoded data removed]",
      "text/plain": [
       "<Figure size 1440x360 with 1 Axes>"
      ]
     },
     "metadata": {
      "needs_background": "light"
     },
     "output_type": "display_data"
    }
   ],
   "source": [
    "# Price distribution below 1000 EUR/USD\n",
    "plt.figure(figsize=(20,5))\n",
    "listings_df[listings_df.price < 1000]['price'].plot(kind=\"hist\", bins=1000)"
   ]
  },
  {
   "cell_type": "code",
   "execution_count": 139,
   "id": "98689448-e850-4e56-9efd-0c8081d688d2",
   "metadata": {},
   "outputs": [
    {
     "data": {
      "text/plain": [
       "Index(['id', 'listing_url', 'scrape_id', 'last_scraped', 'name', 'description',\n",
       "       'neighborhood_overview', 'picture_url', 'host_id', 'host_url',\n",
       "       'host_name', 'host_since', 'host_location', 'host_about',\n",
       "       'host_response_time', 'host_response_rate', 'host_acceptance_rate',\n",
       "       'host_is_superhost', 'host_thumbnail_url', 'host_picture_url',\n",
       "       'host_neighbourhood', 'host_listings_count',\n",
       "       'host_total_listings_count', 'host_verifications',\n",
       "       'host_has_profile_pic', 'host_identity_verified', 'neighbourhood',\n",
       "       'neighbourhood_cleansed', 'neighbourhood_group_cleansed', 'latitude',\n",
       "       'longitude', 'property_type', 'room_type', 'accommodates', 'bathrooms',\n",
       "       'bathrooms_text', 'bedrooms', 'beds', 'amenities', 'price',\n",
       "       'minimum_nights', 'maximum_nights', 'minimum_minimum_nights',\n",
       "       'maximum_minimum_nights', 'minimum_maximum_nights',\n",
       "       'maximum_maximum_nights', 'minimum_nights_avg_ntm',\n",
       "       'maximum_nights_avg_ntm', 'calendar_updated', 'has_availability',\n",
       "       'availability_30', 'availability_60', 'availability_90',\n",
       "       'availability_365', 'calendar_last_scraped', 'number_of_reviews',\n",
       "       'number_of_reviews_ltm', 'number_of_reviews_l30d', 'first_review',\n",
       "       'last_review', 'review_scores_rating', 'review_scores_accuracy',\n",
       "       'review_scores_cleanliness', 'review_scores_checkin',\n",
       "       'review_scores_communication', 'review_scores_location',\n",
       "       'review_scores_value', 'license', 'instant_bookable',\n",
       "       'calculated_host_listings_count',\n",
       "       'calculated_host_listings_count_entire_homes',\n",
       "       'calculated_host_listings_count_private_rooms',\n",
       "       'calculated_host_listings_count_shared_rooms', 'reviews_per_month'],\n",
       "      dtype='object')"
      ]
     },
     "execution_count": 139,
     "metadata": {},
     "output_type": "execute_result"
    }
   ],
   "source": [
    "# All columns in listings_df\n",
    "# Not all are relevant\n",
    "listings_df.columns"
   ]
  },
  {
   "cell_type": "code",
   "execution_count": 140,
   "id": "b570bbba-4c29-44a8-841b-2819d61f9c66",
   "metadata": {},
   "outputs": [],
   "source": [
    "# Manual selection of relevant columns\n",
    "# Initial drop; feature engineering selection needs to be done yet\n",
    "# Can be removed: 'scrape_id', 'last_scraped', 'picture_url', 'host_url', 'host_thumbnail_url', 'host_picture_url', 'bathrooms', 'calendar_last_scraped'\n",
    "selected_features = ['id', 'name', 'listing_url', 'description',\n",
    "       'neighborhood_overview', 'host_id', 'host_name', 'host_since', 'host_location', 'host_about',\n",
    "       'host_response_time', 'host_response_rate', 'host_acceptance_rate',\n",
    "       'host_is_superhost', \n",
    "       'host_neighbourhood', 'host_listings_count',\n",
    "       'host_total_listings_count', 'host_verifications',\n",
    "       'host_has_profile_pic', 'host_identity_verified', 'neighbourhood',\n",
    "       'neighbourhood_cleansed', 'neighbourhood_group_cleansed', 'latitude',\n",
    "       'longitude', 'property_type', 'room_type', 'accommodates', \n",
    "       'bathrooms_text', 'bedrooms', 'beds', 'amenities', 'price',\n",
    "       'minimum_nights', 'maximum_nights', 'minimum_minimum_nights',\n",
    "       'maximum_minimum_nights', 'minimum_maximum_nights',\n",
    "       'maximum_maximum_nights', 'minimum_nights_avg_ntm',\n",
    "       'maximum_nights_avg_ntm', 'calendar_updated', 'has_availability',\n",
    "       'availability_30', 'availability_60', 'availability_90',\n",
    "       'availability_365', 'number_of_reviews',\n",
    "       'number_of_reviews_ltm', 'number_of_reviews_l30d', 'first_review',\n",
    "       'last_review', 'review_scores_rating', 'review_scores_accuracy',\n",
    "       'review_scores_cleanliness', 'review_scores_checkin',\n",
    "       'review_scores_communication', 'review_scores_location',\n",
    "       'review_scores_value', 'license', 'instant_bookable',\n",
    "       'calculated_host_listings_count',\n",
    "       'calculated_host_listings_count_entire_homes',\n",
    "       'calculated_host_listings_count_private_rooms',\n",
    "       'calculated_host_listings_count_shared_rooms', 'reviews_per_month']"
   ]
  },
  {
   "cell_type": "code",
   "execution_count": 141,
   "id": "b6bf18a7-5f0d-4a65-8fd2-8fa5c068d16b",
   "metadata": {},
   "outputs": [
    {
     "data": {
      "text/plain": [
       "Index(['name', 'listing_url', 'description', 'neighborhood_overview',\n",
       "       'host_name', 'host_since', 'host_location', 'host_about',\n",
       "       'host_response_time', 'host_response_rate', 'host_acceptance_rate',\n",
       "       'host_is_superhost', 'host_neighbourhood', 'host_verifications',\n",
       "       'host_has_profile_pic', 'host_identity_verified', 'neighbourhood',\n",
       "       'neighbourhood_cleansed', 'neighbourhood_group_cleansed',\n",
       "       'property_type', 'room_type', 'bathrooms_text', 'amenities',\n",
       "       'has_availability', 'first_review', 'last_review', 'license',\n",
       "       'instant_bookable'],\n",
       "      dtype='object')"
      ]
     },
     "execution_count": 141,
     "metadata": {},
     "output_type": "execute_result"
    }
   ],
   "source": [
    "# Strings: some feeature engineering is required\n",
    "listings_df[selected_features].select_dtypes(['object']).columns"
   ]
  },
  {
   "cell_type": "code",
   "execution_count": 142,
   "id": "5fb3f1e1-0f77-4c53-b792-6afe9704bdc4",
   "metadata": {},
   "outputs": [
    {
     "data": {
      "text/plain": [
       "Index(['latitude', 'longitude', 'bedrooms', 'beds', 'price',\n",
       "       'minimum_nights_avg_ntm', 'maximum_nights_avg_ntm', 'calendar_updated',\n",
       "       'review_scores_rating', 'review_scores_accuracy',\n",
       "       'review_scores_cleanliness', 'review_scores_checkin',\n",
       "       'review_scores_communication', 'review_scores_location',\n",
       "       'review_scores_value', 'reviews_per_month'],\n",
       "      dtype='object')"
      ]
     },
     "execution_count": 142,
     "metadata": {},
     "output_type": "execute_result"
    }
   ],
   "source": [
    "# Float values\n",
    "listings_df[selected_features].select_dtypes(['float']).columns"
   ]
  },
  {
   "cell_type": "code",
   "execution_count": 143,
   "id": "83a9aab1-b374-49e9-ab24-0f4f18d08b49",
   "metadata": {},
   "outputs": [
    {
     "data": {
      "text/plain": [
       "Index(['id', 'host_id', 'host_listings_count', 'host_total_listings_count',\n",
       "       'accommodates', 'minimum_nights', 'maximum_nights',\n",
       "       'minimum_minimum_nights', 'maximum_minimum_nights',\n",
       "       'minimum_maximum_nights', 'maximum_maximum_nights', 'availability_30',\n",
       "       'availability_60', 'availability_90', 'availability_365',\n",
       "       'number_of_reviews', 'number_of_reviews_ltm', 'number_of_reviews_l30d',\n",
       "       'calculated_host_listings_count',\n",
       "       'calculated_host_listings_count_entire_homes',\n",
       "       'calculated_host_listings_count_private_rooms',\n",
       "       'calculated_host_listings_count_shared_rooms'],\n",
       "      dtype='object')"
      ]
     },
     "execution_count": 143,
     "metadata": {},
     "output_type": "execute_result"
    }
   ],
   "source": [
    "# Integer values\n",
    "listings_df[selected_features].select_dtypes(['int']).columns"
   ]
  },
  {
   "cell_type": "markdown",
   "id": "46f2cee9-9ba9-4d3d-a010-a972a968421c",
   "metadata": {},
   "source": [
    "## 2. Simplifications and Feature Engineering Decisions"
   ]
  },
  {
   "cell_type": "markdown",
   "id": "0bf87122-57b6-456f-a7bd-950eaddfa3cf",
   "metadata": {},
   "source": [
    "Some simplifications:\n",
    "\n",
    "- I focus on the `listings_detailed.csv` table, and maybe on the `reviews_detailed.csv`later.\n",
    "- Only the first 60 (of 196) locations with most listings considered in `listings`; they amount to 89% of the listings. I will add some manual features based on the location (like is the location closer than 2km to a beach), so the reduction easens the analysis without probably changing the conclusions.\n",
    "- Some columns from `listings` will be dropped: URLs, scrapping info, etc.\n",
    "\n",
    "Some feature engineering ideas:\n",
    "\n",
    "- license: has or not (1,0)\n",
    "- review scores: use mean\n",
    "- first_review: days since today\n",
    "- last_review: days since today\n",
    "- has_availability: 1,0\n",
    "- price: value\n",
    "- amenities: detect which (set) + get dummies\n",
    "- bath_text: parse and get dummies: maybe break down to num_baths and bath_shared\n",
    "- room_type: detect which + dummies\n",
    "- property_type: detect which + dummies\n",
    "- host_identity_verified: 1,0\n",
    "- host_prof_pic: has or not: 1,0\n",
    "- host_verifications: detect which + dummies\n",
    "- host_is_superhost: 1,0\n",
    "- host_response_rate: extract number\n",
    "- host_acceptance_rate: extract number\n",
    "- host_response_time: detect categories + get dummies\n",
    "- host_about: has text or not (1,0)\n",
    "- host_location: same as property or not (1,0)\n",
    "- host_since: days since today\n",
    "- description: break down to is English / Spanish?"
   ]
  },
  {
   "cell_type": "markdown",
   "id": "502ad2b0-8ba4-4316-b62f-a3619b0baaf1",
   "metadata": {},
   "source": [
    "## 3. Definition of Business Questions"
   ]
  },
  {
   "cell_type": "markdown",
   "id": "d48e705e-b8f3-4cdd-9700-733701cca71e",
   "metadata": {},
   "source": [
    "1. Can the features in `listings` predict the mean **price**? Which are the most important features that increase the **price**? Are there any bargains (i.e., properties with high reviews that have a greater predicted price than the actual).\n",
    "2. Donostia-San Sebastian and Bilbao have the majority of the listings. Which are the most important differences between both cities in terms of features?\n",
    "3. The Basque Country is on the seaside; however, some locations have direct access to a nearby beach in less than 2 km. Which are the most important differences between locations with beach access and locations without?\n",
    "4. EXTRA: Is it possible to predict the mean review score with the review texts? Which are the most impactful words that are associated with higher review scores?"
   ]
  },
  {
   "cell_type": "markdown",
   "id": "153444a0-1678-40d6-987b-cfb475e0c526",
   "metadata": {},
   "source": [
    "## 4. Storing of the Simplified Dataset"
   ]
  },
  {
   "cell_type": "code",
   "execution_count": 144,
   "id": "df8623f7-9b2b-4bf1-9948-d11189be512a",
   "metadata": {},
   "outputs": [
    {
     "data": {
      "text/plain": [
       "(5228, 74)"
      ]
     },
     "execution_count": 144,
     "metadata": {},
     "output_type": "execute_result"
    }
   ],
   "source": [
    "# Initial size\n",
    "listings_df.shape"
   ]
  },
  {
   "cell_type": "code",
   "execution_count": 145,
   "id": "d9bfe18b-0857-4241-9246-16a53a651c96",
   "metadata": {},
   "outputs": [],
   "source": [
    "# Remove price outliers\n",
    "listings = listings_df[listings_df.price <= 1000]"
   ]
  },
  {
   "cell_type": "code",
   "execution_count": 146,
   "id": "578d3977-c838-4c47-b1ac-9880c010d663",
   "metadata": {},
   "outputs": [],
   "source": [
    "# Take only relevant features\n",
    "listings = listings[selected_features]"
   ]
  },
  {
   "cell_type": "code",
   "execution_count": 147,
   "id": "4be0c065-eb05-4a1d-bd95-7bd8af97d2c1",
   "metadata": {},
   "outputs": [],
   "source": [
    "# Take only items from all_selected_locations\n",
    "listings['selected_location'] = listings['neighbourhood_cleansed'].apply(lambda x: 1 if x in all_selected_locations else 0)\n",
    "listings = listings[listings.selected_location == 1]\n",
    "listings.drop(['selected_location'], axis=1, inplace=True)"
   ]
  },
  {
   "cell_type": "code",
   "execution_count": 148,
   "id": "21a6d5b6-b66d-4ca3-aaa0-7aeb74d6ed7e",
   "metadata": {},
   "outputs": [
    {
     "data": {
      "text/plain": [
       "(4642, 66)"
      ]
     },
     "execution_count": 148,
     "metadata": {},
     "output_type": "execute_result"
    }
   ],
   "source": [
    "listings.shape"
   ]
  },
  {
   "cell_type": "code",
   "execution_count": 149,
   "id": "a251369b-2ce0-4346-b966-441aed435969",
   "metadata": {},
   "outputs": [],
   "source": [
    "# New feature: has_beach - if beach access in less than 2km\n",
    "listings['has_beach'] = listings['neighbourhood_cleansed'].apply(lambda x: 1 if x in beach_locations else 0)"
   ]
  },
  {
   "cell_type": "code",
   "execution_count": 150,
   "id": "11d9dc23-a138-43ae-81d2-fb08e7524c7e",
   "metadata": {},
   "outputs": [
    {
     "data": {
      "text/plain": [
       "0.6072813442481689"
      ]
     },
     "execution_count": 150,
     "metadata": {},
     "output_type": "execute_result"
    }
   ],
   "source": [
    "# Percent of listings associated with a location with access to a beach\n",
    "listings['has_beach'].sum()/listings.shape[0]"
   ]
  },
  {
   "cell_type": "code",
   "execution_count": 151,
   "id": "5da04dc5-4922-439e-bb0b-9d4e4376f834",
   "metadata": {},
   "outputs": [
    {
     "data": {
      "text/plain": [
       "(4642, 67)"
      ]
     },
     "execution_count": 151,
     "metadata": {},
     "output_type": "execute_result"
    }
   ],
   "source": [
    "# Final shape\n",
    "listings.shape"
   ]
  },
  {
   "cell_type": "code",
   "execution_count": 152,
   "id": "a70f3673-3629-4843-a7e1-9e355eceefa3",
   "metadata": {},
   "outputs": [
    {
     "data": {
      "text/html": [
       "<div>\n",
       "<style scoped>\n",
       "    .dataframe tbody tr th:only-of-type {\n",
       "        vertical-align: middle;\n",
       "    }\n",
       "\n",
       "    .dataframe tbody tr th {\n",
       "        vertical-align: top;\n",
       "    }\n",
       "\n",
       "    .dataframe thead th {\n",
       "        text-align: right;\n",
       "    }\n",
       "</style>\n",
       "<table border=\"1\" class=\"dataframe\">\n",
       "  <thead>\n",
       "    <tr style=\"text-align: right;\">\n",
       "      <th></th>\n",
       "      <th>id</th>\n",
       "      <th>name</th>\n",
       "      <th>listing_url</th>\n",
       "      <th>description</th>\n",
       "      <th>neighborhood_overview</th>\n",
       "      <th>host_id</th>\n",
       "      <th>host_name</th>\n",
       "      <th>host_since</th>\n",
       "      <th>host_location</th>\n",
       "      <th>host_about</th>\n",
       "      <th>...</th>\n",
       "      <th>review_scores_location</th>\n",
       "      <th>review_scores_value</th>\n",
       "      <th>license</th>\n",
       "      <th>instant_bookable</th>\n",
       "      <th>calculated_host_listings_count</th>\n",
       "      <th>calculated_host_listings_count_entire_homes</th>\n",
       "      <th>calculated_host_listings_count_private_rooms</th>\n",
       "      <th>calculated_host_listings_count_shared_rooms</th>\n",
       "      <th>reviews_per_month</th>\n",
       "      <th>has_beach</th>\n",
       "    </tr>\n",
       "  </thead>\n",
       "  <tbody>\n",
       "    <tr>\n",
       "      <th>0</th>\n",
       "      <td>132068</td>\n",
       "      <td>Great attic+terrace+parking. Beach views. ESS0...</td>\n",
       "      <td>https://www.airbnb.com/rooms/132068</td>\n",
       "      <td>Amazing  modern, clean &amp; fully equiped flat of...</td>\n",
       "      <td>Gros es el barrio de moda de Donosti. El apart...</td>\n",
       "      <td>648938</td>\n",
       "      <td>Mikel</td>\n",
       "      <td>2011-05-31</td>\n",
       "      <td>San Sebastian, Basque Country, Spain</td>\n",
       "      <td>Nací y crecí en San Sebastian. Al igual que vo...</td>\n",
       "      <td>...</td>\n",
       "      <td>4.94</td>\n",
       "      <td>4.75</td>\n",
       "      <td>NaN</td>\n",
       "      <td>t</td>\n",
       "      <td>1</td>\n",
       "      <td>1</td>\n",
       "      <td>0</td>\n",
       "      <td>0</td>\n",
       "      <td>4.43</td>\n",
       "      <td>1</td>\n",
       "    </tr>\n",
       "    <tr>\n",
       "      <th>1</th>\n",
       "      <td>134802</td>\n",
       "      <td>Hab Luminosa,tranquila,baño privado</td>\n",
       "      <td>https://www.airbnb.com/rooms/134802</td>\n",
       "      <td>&lt;b&gt;The space&lt;/b&gt;&lt;br /&gt;Habitación en piso compa...</td>\n",
       "      <td>Zona tranquila, junto a parque con amplias zon...</td>\n",
       "      <td>661293</td>\n",
       "      <td>Roberto</td>\n",
       "      <td>2011-06-03</td>\n",
       "      <td>Bilbao, Basque Country, Spain</td>\n",
       "      <td>No me gusta describirme, porque seguramente no...</td>\n",
       "      <td>...</td>\n",
       "      <td>4.00</td>\n",
       "      <td>3.83</td>\n",
       "      <td>NaN</td>\n",
       "      <td>t</td>\n",
       "      <td>1</td>\n",
       "      <td>0</td>\n",
       "      <td>1</td>\n",
       "      <td>0</td>\n",
       "      <td>0.06</td>\n",
       "      <td>0</td>\n",
       "    </tr>\n",
       "  </tbody>\n",
       "</table>\n",
       "<p>2 rows × 67 columns</p>\n",
       "</div>"
      ],
      "text/plain": [
       "       id                                               name  \\\n",
       "0  132068  Great attic+terrace+parking. Beach views. ESS0...   \n",
       "1  134802                Hab Luminosa,tranquila,baño privado   \n",
       "\n",
       "                           listing_url  \\\n",
       "0  https://www.airbnb.com/rooms/132068   \n",
       "1  https://www.airbnb.com/rooms/134802   \n",
       "\n",
       "                                         description  \\\n",
       "0  Amazing  modern, clean & fully equiped flat of...   \n",
       "1  <b>The space</b><br />Habitación en piso compa...   \n",
       "\n",
       "                               neighborhood_overview  host_id host_name  \\\n",
       "0  Gros es el barrio de moda de Donosti. El apart...   648938     Mikel   \n",
       "1  Zona tranquila, junto a parque con amplias zon...   661293   Roberto   \n",
       "\n",
       "   host_since                         host_location  \\\n",
       "0  2011-05-31  San Sebastian, Basque Country, Spain   \n",
       "1  2011-06-03         Bilbao, Basque Country, Spain   \n",
       "\n",
       "                                          host_about  ...  \\\n",
       "0  Nací y crecí en San Sebastian. Al igual que vo...  ...   \n",
       "1  No me gusta describirme, porque seguramente no...  ...   \n",
       "\n",
       "  review_scores_location review_scores_value license instant_bookable  \\\n",
       "0                   4.94                4.75     NaN                t   \n",
       "1                   4.00                3.83     NaN                t   \n",
       "\n",
       "  calculated_host_listings_count  calculated_host_listings_count_entire_homes  \\\n",
       "0                              1                                            1   \n",
       "1                              1                                            0   \n",
       "\n",
       "   calculated_host_listings_count_private_rooms  \\\n",
       "0                                             0   \n",
       "1                                             1   \n",
       "\n",
       "  calculated_host_listings_count_shared_rooms reviews_per_month has_beach  \n",
       "0                                           0              4.43         1  \n",
       "1                                           0              0.06         0  \n",
       "\n",
       "[2 rows x 67 columns]"
      ]
     },
     "execution_count": 152,
     "metadata": {},
     "output_type": "execute_result"
    }
   ],
   "source": [
    "listings.head(2)"
   ]
  },
  {
   "cell_type": "code",
   "execution_count": 153,
   "id": "bb72a748-5414-4c2a-80f9-545b381af90f",
   "metadata": {},
   "outputs": [
    {
     "data": {
      "text/html": [
       "<div>\n",
       "<style scoped>\n",
       "    .dataframe tbody tr th:only-of-type {\n",
       "        vertical-align: middle;\n",
       "    }\n",
       "\n",
       "    .dataframe tbody tr th {\n",
       "        vertical-align: top;\n",
       "    }\n",
       "\n",
       "    .dataframe thead th {\n",
       "        text-align: right;\n",
       "    }\n",
       "</style>\n",
       "<table border=\"1\" class=\"dataframe\">\n",
       "  <thead>\n",
       "    <tr style=\"text-align: right;\">\n",
       "      <th></th>\n",
       "      <th>id</th>\n",
       "      <th>name</th>\n",
       "      <th>listing_url</th>\n",
       "      <th>description</th>\n",
       "      <th>neighborhood_overview</th>\n",
       "      <th>host_id</th>\n",
       "      <th>host_name</th>\n",
       "      <th>host_since</th>\n",
       "      <th>host_location</th>\n",
       "      <th>host_about</th>\n",
       "      <th>...</th>\n",
       "      <th>review_scores_location</th>\n",
       "      <th>review_scores_value</th>\n",
       "      <th>license</th>\n",
       "      <th>instant_bookable</th>\n",
       "      <th>calculated_host_listings_count</th>\n",
       "      <th>calculated_host_listings_count_entire_homes</th>\n",
       "      <th>calculated_host_listings_count_private_rooms</th>\n",
       "      <th>calculated_host_listings_count_shared_rooms</th>\n",
       "      <th>reviews_per_month</th>\n",
       "      <th>has_beach</th>\n",
       "    </tr>\n",
       "  </thead>\n",
       "  <tbody>\n",
       "    <tr>\n",
       "      <th>5226</th>\n",
       "      <td>49258914</td>\n",
       "      <td>Plage à 15 min et dégustation de pintxo à Irun...</td>\n",
       "      <td>https://www.airbnb.com/rooms/49258914</td>\n",
       "      <td>Charmant T2 situé au cœur du centre ville d'He...</td>\n",
       "      <td>NaN</td>\n",
       "      <td>9015799</td>\n",
       "      <td>Maite</td>\n",
       "      <td>2013-09-23</td>\n",
       "      <td>Hendaye, Nouvelle-Aquitaine, France</td>\n",
       "      <td>Laissez votre voiture dans les places de parki...</td>\n",
       "      <td>...</td>\n",
       "      <td>NaN</td>\n",
       "      <td>NaN</td>\n",
       "      <td>NaN</td>\n",
       "      <td>f</td>\n",
       "      <td>1</td>\n",
       "      <td>1</td>\n",
       "      <td>0</td>\n",
       "      <td>0</td>\n",
       "      <td>NaN</td>\n",
       "      <td>1</td>\n",
       "    </tr>\n",
       "    <tr>\n",
       "      <th>5227</th>\n",
       "      <td>17170605</td>\n",
       "      <td>Duplex céntrico en primera línea de playa.</td>\n",
       "      <td>https://www.airbnb.com/rooms/17170605</td>\n",
       "      <td>Duplex en primera línea de playa y en el centr...</td>\n",
       "      <td>El apartamento se encuentra en primera línea d...</td>\n",
       "      <td>44871756</td>\n",
       "      <td>Teresa</td>\n",
       "      <td>2015-09-22</td>\n",
       "      <td>Zarautz, Euskadi, Spain</td>\n",
       "      <td>NaN</td>\n",
       "      <td>...</td>\n",
       "      <td>4.99</td>\n",
       "      <td>4.79</td>\n",
       "      <td>ESS00673</td>\n",
       "      <td>f</td>\n",
       "      <td>1</td>\n",
       "      <td>1</td>\n",
       "      <td>0</td>\n",
       "      <td>0</td>\n",
       "      <td>1.38</td>\n",
       "      <td>1</td>\n",
       "    </tr>\n",
       "  </tbody>\n",
       "</table>\n",
       "<p>2 rows × 67 columns</p>\n",
       "</div>"
      ],
      "text/plain": [
       "            id                                               name  \\\n",
       "5226  49258914  Plage à 15 min et dégustation de pintxo à Irun...   \n",
       "5227  17170605         Duplex céntrico en primera línea de playa.   \n",
       "\n",
       "                                listing_url  \\\n",
       "5226  https://www.airbnb.com/rooms/49258914   \n",
       "5227  https://www.airbnb.com/rooms/17170605   \n",
       "\n",
       "                                            description  \\\n",
       "5226  Charmant T2 situé au cœur du centre ville d'He...   \n",
       "5227  Duplex en primera línea de playa y en el centr...   \n",
       "\n",
       "                                  neighborhood_overview   host_id host_name  \\\n",
       "5226                                                NaN   9015799     Maite   \n",
       "5227  El apartamento se encuentra en primera línea d...  44871756    Teresa   \n",
       "\n",
       "      host_since                        host_location  \\\n",
       "5226  2013-09-23  Hendaye, Nouvelle-Aquitaine, France   \n",
       "5227  2015-09-22              Zarautz, Euskadi, Spain   \n",
       "\n",
       "                                             host_about  ...  \\\n",
       "5226  Laissez votre voiture dans les places de parki...  ...   \n",
       "5227                                                NaN  ...   \n",
       "\n",
       "     review_scores_location review_scores_value   license instant_bookable  \\\n",
       "5226                    NaN                 NaN       NaN                f   \n",
       "5227                   4.99                4.79  ESS00673                f   \n",
       "\n",
       "     calculated_host_listings_count  \\\n",
       "5226                              1   \n",
       "5227                              1   \n",
       "\n",
       "      calculated_host_listings_count_entire_homes  \\\n",
       "5226                                            1   \n",
       "5227                                            1   \n",
       "\n",
       "      calculated_host_listings_count_private_rooms  \\\n",
       "5226                                             0   \n",
       "5227                                             0   \n",
       "\n",
       "     calculated_host_listings_count_shared_rooms reviews_per_month has_beach  \n",
       "5226                                           0               NaN         1  \n",
       "5227                                           0              1.38         1  \n",
       "\n",
       "[2 rows x 67 columns]"
      ]
     },
     "execution_count": 153,
     "metadata": {},
     "output_type": "execute_result"
    }
   ],
   "source": [
    "listings.tail(2)"
   ]
  },
  {
   "cell_type": "code",
   "execution_count": 154,
   "id": "e8ffc0d2-29c0-4721-90b4-1e0526a83ab2",
   "metadata": {},
   "outputs": [
    {
     "name": "stdout",
     "output_type": "stream",
     "text": [
      "<class 'pandas.core.frame.DataFrame'>\n",
      "Int64Index: 4642 entries, 0 to 5227\n",
      "Data columns (total 67 columns):\n",
      " #   Column                                        Non-Null Count  Dtype  \n",
      "---  ------                                        --------------  -----  \n",
      " 0   id                                            4642 non-null   int64  \n",
      " 1   name                                          4642 non-null   object \n",
      " 2   listing_url                                   4642 non-null   object \n",
      " 3   description                                   4554 non-null   object \n",
      " 4   neighborhood_overview                         2555 non-null   object \n",
      " 5   host_id                                       4642 non-null   int64  \n",
      " 6   host_name                                     4642 non-null   object \n",
      " 7   host_since                                    4642 non-null   object \n",
      " 8   host_location                                 4638 non-null   object \n",
      " 9   host_about                                    2385 non-null   object \n",
      " 10  host_response_time                            3989 non-null   object \n",
      " 11  host_response_rate                            3989 non-null   object \n",
      " 12  host_acceptance_rate                          4318 non-null   object \n",
      " 13  host_is_superhost                             4642 non-null   object \n",
      " 14  host_neighbourhood                            72 non-null     object \n",
      " 15  host_listings_count                           4642 non-null   int64  \n",
      " 16  host_total_listings_count                     4642 non-null   int64  \n",
      " 17  host_verifications                            4642 non-null   object \n",
      " 18  host_has_profile_pic                          4642 non-null   object \n",
      " 19  host_identity_verified                        4642 non-null   object \n",
      " 20  neighbourhood                                 2555 non-null   object \n",
      " 21  neighbourhood_cleansed                        4642 non-null   object \n",
      " 22  neighbourhood_group_cleansed                  4642 non-null   object \n",
      " 23  latitude                                      4642 non-null   float64\n",
      " 24  longitude                                     4642 non-null   float64\n",
      " 25  property_type                                 4642 non-null   object \n",
      " 26  room_type                                     4642 non-null   object \n",
      " 27  accommodates                                  4642 non-null   int64  \n",
      " 28  bathrooms_text                                4618 non-null   object \n",
      " 29  bedrooms                                      4534 non-null   float64\n",
      " 30  beds                                          4551 non-null   float64\n",
      " 31  amenities                                     4642 non-null   object \n",
      " 32  price                                         4642 non-null   float64\n",
      " 33  minimum_nights                                4642 non-null   int64  \n",
      " 34  maximum_nights                                4642 non-null   int64  \n",
      " 35  minimum_minimum_nights                        4642 non-null   int64  \n",
      " 36  maximum_minimum_nights                        4642 non-null   int64  \n",
      " 37  minimum_maximum_nights                        4642 non-null   int64  \n",
      " 38  maximum_maximum_nights                        4642 non-null   int64  \n",
      " 39  minimum_nights_avg_ntm                        4642 non-null   float64\n",
      " 40  maximum_nights_avg_ntm                        4642 non-null   float64\n",
      " 41  calendar_updated                              0 non-null      float64\n",
      " 42  has_availability                              4642 non-null   object \n",
      " 43  availability_30                               4642 non-null   int64  \n",
      " 44  availability_60                               4642 non-null   int64  \n",
      " 45  availability_90                               4642 non-null   int64  \n",
      " 46  availability_365                              4642 non-null   int64  \n",
      " 47  number_of_reviews                             4642 non-null   int64  \n",
      " 48  number_of_reviews_ltm                         4642 non-null   int64  \n",
      " 49  number_of_reviews_l30d                        4642 non-null   int64  \n",
      " 50  first_review                                  3931 non-null   object \n",
      " 51  last_review                                   3931 non-null   object \n",
      " 52  review_scores_rating                          3931 non-null   float64\n",
      " 53  review_scores_accuracy                        3915 non-null   float64\n",
      " 54  review_scores_cleanliness                     3915 non-null   float64\n",
      " 55  review_scores_checkin                         3915 non-null   float64\n",
      " 56  review_scores_communication                   3915 non-null   float64\n",
      " 57  review_scores_location                        3915 non-null   float64\n",
      " 58  review_scores_value                           3915 non-null   float64\n",
      " 59  license                                       2451 non-null   object \n",
      " 60  instant_bookable                              4642 non-null   object \n",
      " 61  calculated_host_listings_count                4642 non-null   int64  \n",
      " 62  calculated_host_listings_count_entire_homes   4642 non-null   int64  \n",
      " 63  calculated_host_listings_count_private_rooms  4642 non-null   int64  \n",
      " 64  calculated_host_listings_count_shared_rooms   4642 non-null   int64  \n",
      " 65  reviews_per_month                             3931 non-null   float64\n",
      " 66  has_beach                                     4642 non-null   int64  \n",
      "dtypes: float64(16), int64(23), object(28)\n",
      "memory usage: 2.4+ MB\n"
     ]
    }
   ],
   "source": [
    "# Final features\n",
    "listings.info()"
   ]
  },
  {
   "cell_type": "code",
   "execution_count": 155,
   "id": "fd317af6-2bb8-40a5-9dce-6f26533571c7",
   "metadata": {},
   "outputs": [],
   "source": [
    "filename = './data/euskadi_2022_03_31/listings_detailed_reduced.csv'\n",
    "listings.to_csv(filename, index=False, header=True)"
   ]
  },
  {
   "cell_type": "code",
   "execution_count": 156,
   "id": "31f67819-5638-49bf-ac7a-58c98184e3ef",
   "metadata": {},
   "outputs": [],
   "source": [
    "listings = pd.read_csv(filename)"
   ]
  },
  {
   "cell_type": "code",
   "execution_count": 157,
   "id": "080617fe-8da5-406b-ad60-119c13ef79f5",
   "metadata": {},
   "outputs": [
    {
     "data": {
      "text/plain": [
       "(4642, 67)"
      ]
     },
     "execution_count": 157,
     "metadata": {},
     "output_type": "execute_result"
    }
   ],
   "source": [
    "listings.shape"
   ]
  },
  {
   "cell_type": "code",
   "execution_count": 158,
   "id": "27b7a639-b8d3-4da5-8c2c-f54ae004e7e4",
   "metadata": {},
   "outputs": [
    {
     "data": {
      "text/html": [
       "<div>\n",
       "<style scoped>\n",
       "    .dataframe tbody tr th:only-of-type {\n",
       "        vertical-align: middle;\n",
       "    }\n",
       "\n",
       "    .dataframe tbody tr th {\n",
       "        vertical-align: top;\n",
       "    }\n",
       "\n",
       "    .dataframe thead th {\n",
       "        text-align: right;\n",
       "    }\n",
       "</style>\n",
       "<table border=\"1\" class=\"dataframe\">\n",
       "  <thead>\n",
       "    <tr style=\"text-align: right;\">\n",
       "      <th></th>\n",
       "      <th>id</th>\n",
       "      <th>name</th>\n",
       "      <th>listing_url</th>\n",
       "      <th>description</th>\n",
       "      <th>neighborhood_overview</th>\n",
       "      <th>host_id</th>\n",
       "      <th>host_name</th>\n",
       "      <th>host_since</th>\n",
       "      <th>host_location</th>\n",
       "      <th>host_about</th>\n",
       "      <th>...</th>\n",
       "      <th>review_scores_location</th>\n",
       "      <th>review_scores_value</th>\n",
       "      <th>license</th>\n",
       "      <th>instant_bookable</th>\n",
       "      <th>calculated_host_listings_count</th>\n",
       "      <th>calculated_host_listings_count_entire_homes</th>\n",
       "      <th>calculated_host_listings_count_private_rooms</th>\n",
       "      <th>calculated_host_listings_count_shared_rooms</th>\n",
       "      <th>reviews_per_month</th>\n",
       "      <th>has_beach</th>\n",
       "    </tr>\n",
       "  </thead>\n",
       "  <tbody>\n",
       "    <tr>\n",
       "      <th>0</th>\n",
       "      <td>132068</td>\n",
       "      <td>Great attic+terrace+parking. Beach views. ESS0...</td>\n",
       "      <td>https://www.airbnb.com/rooms/132068</td>\n",
       "      <td>Amazing  modern, clean &amp; fully equiped flat of...</td>\n",
       "      <td>Gros es el barrio de moda de Donosti. El apart...</td>\n",
       "      <td>648938</td>\n",
       "      <td>Mikel</td>\n",
       "      <td>2011-05-31</td>\n",
       "      <td>San Sebastian, Basque Country, Spain</td>\n",
       "      <td>Nací y crecí en San Sebastian. Al igual que vo...</td>\n",
       "      <td>...</td>\n",
       "      <td>4.94</td>\n",
       "      <td>4.75</td>\n",
       "      <td>NaN</td>\n",
       "      <td>t</td>\n",
       "      <td>1</td>\n",
       "      <td>1</td>\n",
       "      <td>0</td>\n",
       "      <td>0</td>\n",
       "      <td>4.43</td>\n",
       "      <td>1</td>\n",
       "    </tr>\n",
       "    <tr>\n",
       "      <th>1</th>\n",
       "      <td>134802</td>\n",
       "      <td>Hab Luminosa,tranquila,baño privado</td>\n",
       "      <td>https://www.airbnb.com/rooms/134802</td>\n",
       "      <td>&lt;b&gt;The space&lt;/b&gt;&lt;br /&gt;Habitación en piso compa...</td>\n",
       "      <td>Zona tranquila, junto a parque con amplias zon...</td>\n",
       "      <td>661293</td>\n",
       "      <td>Roberto</td>\n",
       "      <td>2011-06-03</td>\n",
       "      <td>Bilbao, Basque Country, Spain</td>\n",
       "      <td>No me gusta describirme, porque seguramente no...</td>\n",
       "      <td>...</td>\n",
       "      <td>4.00</td>\n",
       "      <td>3.83</td>\n",
       "      <td>NaN</td>\n",
       "      <td>t</td>\n",
       "      <td>1</td>\n",
       "      <td>0</td>\n",
       "      <td>1</td>\n",
       "      <td>0</td>\n",
       "      <td>0.06</td>\n",
       "      <td>0</td>\n",
       "    </tr>\n",
       "  </tbody>\n",
       "</table>\n",
       "<p>2 rows × 67 columns</p>\n",
       "</div>"
      ],
      "text/plain": [
       "       id                                               name  \\\n",
       "0  132068  Great attic+terrace+parking. Beach views. ESS0...   \n",
       "1  134802                Hab Luminosa,tranquila,baño privado   \n",
       "\n",
       "                           listing_url  \\\n",
       "0  https://www.airbnb.com/rooms/132068   \n",
       "1  https://www.airbnb.com/rooms/134802   \n",
       "\n",
       "                                         description  \\\n",
       "0  Amazing  modern, clean & fully equiped flat of...   \n",
       "1  <b>The space</b><br />Habitación en piso compa...   \n",
       "\n",
       "                               neighborhood_overview  host_id host_name  \\\n",
       "0  Gros es el barrio de moda de Donosti. El apart...   648938     Mikel   \n",
       "1  Zona tranquila, junto a parque con amplias zon...   661293   Roberto   \n",
       "\n",
       "   host_since                         host_location  \\\n",
       "0  2011-05-31  San Sebastian, Basque Country, Spain   \n",
       "1  2011-06-03         Bilbao, Basque Country, Spain   \n",
       "\n",
       "                                          host_about  ...  \\\n",
       "0  Nací y crecí en San Sebastian. Al igual que vo...  ...   \n",
       "1  No me gusta describirme, porque seguramente no...  ...   \n",
       "\n",
       "  review_scores_location review_scores_value license instant_bookable  \\\n",
       "0                   4.94                4.75     NaN                t   \n",
       "1                   4.00                3.83     NaN                t   \n",
       "\n",
       "  calculated_host_listings_count  calculated_host_listings_count_entire_homes  \\\n",
       "0                              1                                            1   \n",
       "1                              1                                            0   \n",
       "\n",
       "   calculated_host_listings_count_private_rooms  \\\n",
       "0                                             0   \n",
       "1                                             1   \n",
       "\n",
       "  calculated_host_listings_count_shared_rooms reviews_per_month has_beach  \n",
       "0                                           0              4.43         1  \n",
       "1                                           0              0.06         0  \n",
       "\n",
       "[2 rows x 67 columns]"
      ]
     },
     "execution_count": 158,
     "metadata": {},
     "output_type": "execute_result"
    }
   ],
   "source": [
    "listings.head(2)"
   ]
  },
  {
   "cell_type": "code",
   "execution_count": 159,
   "id": "eeb1fed1-eeb2-4298-8c4f-7a3165294d9e",
   "metadata": {},
   "outputs": [
    {
     "data": {
      "text/html": [
       "<div>\n",
       "<style scoped>\n",
       "    .dataframe tbody tr th:only-of-type {\n",
       "        vertical-align: middle;\n",
       "    }\n",
       "\n",
       "    .dataframe tbody tr th {\n",
       "        vertical-align: top;\n",
       "    }\n",
       "\n",
       "    .dataframe thead th {\n",
       "        text-align: right;\n",
       "    }\n",
       "</style>\n",
       "<table border=\"1\" class=\"dataframe\">\n",
       "  <thead>\n",
       "    <tr style=\"text-align: right;\">\n",
       "      <th></th>\n",
       "      <th>id</th>\n",
       "      <th>name</th>\n",
       "      <th>listing_url</th>\n",
       "      <th>description</th>\n",
       "      <th>neighborhood_overview</th>\n",
       "      <th>host_id</th>\n",
       "      <th>host_name</th>\n",
       "      <th>host_since</th>\n",
       "      <th>host_location</th>\n",
       "      <th>host_about</th>\n",
       "      <th>...</th>\n",
       "      <th>review_scores_location</th>\n",
       "      <th>review_scores_value</th>\n",
       "      <th>license</th>\n",
       "      <th>instant_bookable</th>\n",
       "      <th>calculated_host_listings_count</th>\n",
       "      <th>calculated_host_listings_count_entire_homes</th>\n",
       "      <th>calculated_host_listings_count_private_rooms</th>\n",
       "      <th>calculated_host_listings_count_shared_rooms</th>\n",
       "      <th>reviews_per_month</th>\n",
       "      <th>has_beach</th>\n",
       "    </tr>\n",
       "  </thead>\n",
       "  <tbody>\n",
       "    <tr>\n",
       "      <th>4640</th>\n",
       "      <td>49258914</td>\n",
       "      <td>Plage à 15 min et dégustation de pintxo à Irun...</td>\n",
       "      <td>https://www.airbnb.com/rooms/49258914</td>\n",
       "      <td>Charmant T2 situé au cœur du centre ville d'He...</td>\n",
       "      <td>NaN</td>\n",
       "      <td>9015799</td>\n",
       "      <td>Maite</td>\n",
       "      <td>2013-09-23</td>\n",
       "      <td>Hendaye, Nouvelle-Aquitaine, France</td>\n",
       "      <td>Laissez votre voiture dans les places de parki...</td>\n",
       "      <td>...</td>\n",
       "      <td>NaN</td>\n",
       "      <td>NaN</td>\n",
       "      <td>NaN</td>\n",
       "      <td>f</td>\n",
       "      <td>1</td>\n",
       "      <td>1</td>\n",
       "      <td>0</td>\n",
       "      <td>0</td>\n",
       "      <td>NaN</td>\n",
       "      <td>1</td>\n",
       "    </tr>\n",
       "    <tr>\n",
       "      <th>4641</th>\n",
       "      <td>17170605</td>\n",
       "      <td>Duplex céntrico en primera línea de playa.</td>\n",
       "      <td>https://www.airbnb.com/rooms/17170605</td>\n",
       "      <td>Duplex en primera línea de playa y en el centr...</td>\n",
       "      <td>El apartamento se encuentra en primera línea d...</td>\n",
       "      <td>44871756</td>\n",
       "      <td>Teresa</td>\n",
       "      <td>2015-09-22</td>\n",
       "      <td>Zarautz, Euskadi, Spain</td>\n",
       "      <td>NaN</td>\n",
       "      <td>...</td>\n",
       "      <td>4.99</td>\n",
       "      <td>4.79</td>\n",
       "      <td>ESS00673</td>\n",
       "      <td>f</td>\n",
       "      <td>1</td>\n",
       "      <td>1</td>\n",
       "      <td>0</td>\n",
       "      <td>0</td>\n",
       "      <td>1.38</td>\n",
       "      <td>1</td>\n",
       "    </tr>\n",
       "  </tbody>\n",
       "</table>\n",
       "<p>2 rows × 67 columns</p>\n",
       "</div>"
      ],
      "text/plain": [
       "            id                                               name  \\\n",
       "4640  49258914  Plage à 15 min et dégustation de pintxo à Irun...   \n",
       "4641  17170605         Duplex céntrico en primera línea de playa.   \n",
       "\n",
       "                                listing_url  \\\n",
       "4640  https://www.airbnb.com/rooms/49258914   \n",
       "4641  https://www.airbnb.com/rooms/17170605   \n",
       "\n",
       "                                            description  \\\n",
       "4640  Charmant T2 situé au cœur du centre ville d'He...   \n",
       "4641  Duplex en primera línea de playa y en el centr...   \n",
       "\n",
       "                                  neighborhood_overview   host_id host_name  \\\n",
       "4640                                                NaN   9015799     Maite   \n",
       "4641  El apartamento se encuentra en primera línea d...  44871756    Teresa   \n",
       "\n",
       "      host_since                        host_location  \\\n",
       "4640  2013-09-23  Hendaye, Nouvelle-Aquitaine, France   \n",
       "4641  2015-09-22              Zarautz, Euskadi, Spain   \n",
       "\n",
       "                                             host_about  ...  \\\n",
       "4640  Laissez votre voiture dans les places de parki...  ...   \n",
       "4641                                                NaN  ...   \n",
       "\n",
       "     review_scores_location review_scores_value   license instant_bookable  \\\n",
       "4640                    NaN                 NaN       NaN                f   \n",
       "4641                   4.99                4.79  ESS00673                f   \n",
       "\n",
       "     calculated_host_listings_count  \\\n",
       "4640                              1   \n",
       "4641                              1   \n",
       "\n",
       "      calculated_host_listings_count_entire_homes  \\\n",
       "4640                                            1   \n",
       "4641                                            1   \n",
       "\n",
       "      calculated_host_listings_count_private_rooms  \\\n",
       "4640                                             0   \n",
       "4641                                             0   \n",
       "\n",
       "     calculated_host_listings_count_shared_rooms reviews_per_month has_beach  \n",
       "4640                                           0               NaN         1  \n",
       "4641                                           0              1.38         1  \n",
       "\n",
       "[2 rows x 67 columns]"
      ]
     },
     "execution_count": 159,
     "metadata": {},
     "output_type": "execute_result"
    }
   ],
   "source": [
    "listings.tail(2)"
   ]
  },
  {
   "cell_type": "code",
   "execution_count": 160,
   "id": "eacb69ed-4df8-4c34-9bc9-0dffced5add4",
   "metadata": {},
   "outputs": [
    {
     "name": "stdout",
     "output_type": "stream",
     "text": [
      "<class 'pandas.core.frame.DataFrame'>\n",
      "RangeIndex: 4642 entries, 0 to 4641\n",
      "Data columns (total 67 columns):\n",
      " #   Column                                        Non-Null Count  Dtype  \n",
      "---  ------                                        --------------  -----  \n",
      " 0   id                                            4642 non-null   int64  \n",
      " 1   name                                          4642 non-null   object \n",
      " 2   listing_url                                   4642 non-null   object \n",
      " 3   description                                   4554 non-null   object \n",
      " 4   neighborhood_overview                         2555 non-null   object \n",
      " 5   host_id                                       4642 non-null   int64  \n",
      " 6   host_name                                     4642 non-null   object \n",
      " 7   host_since                                    4642 non-null   object \n",
      " 8   host_location                                 4638 non-null   object \n",
      " 9   host_about                                    2385 non-null   object \n",
      " 10  host_response_time                            3989 non-null   object \n",
      " 11  host_response_rate                            3989 non-null   object \n",
      " 12  host_acceptance_rate                          4318 non-null   object \n",
      " 13  host_is_superhost                             4642 non-null   object \n",
      " 14  host_neighbourhood                            72 non-null     object \n",
      " 15  host_listings_count                           4642 non-null   int64  \n",
      " 16  host_total_listings_count                     4642 non-null   int64  \n",
      " 17  host_verifications                            4642 non-null   object \n",
      " 18  host_has_profile_pic                          4642 non-null   object \n",
      " 19  host_identity_verified                        4642 non-null   object \n",
      " 20  neighbourhood                                 2555 non-null   object \n",
      " 21  neighbourhood_cleansed                        4642 non-null   object \n",
      " 22  neighbourhood_group_cleansed                  4642 non-null   object \n",
      " 23  latitude                                      4642 non-null   float64\n",
      " 24  longitude                                     4642 non-null   float64\n",
      " 25  property_type                                 4642 non-null   object \n",
      " 26  room_type                                     4642 non-null   object \n",
      " 27  accommodates                                  4642 non-null   int64  \n",
      " 28  bathrooms_text                                4618 non-null   object \n",
      " 29  bedrooms                                      4534 non-null   float64\n",
      " 30  beds                                          4551 non-null   float64\n",
      " 31  amenities                                     4642 non-null   object \n",
      " 32  price                                         4642 non-null   float64\n",
      " 33  minimum_nights                                4642 non-null   int64  \n",
      " 34  maximum_nights                                4642 non-null   int64  \n",
      " 35  minimum_minimum_nights                        4642 non-null   int64  \n",
      " 36  maximum_minimum_nights                        4642 non-null   int64  \n",
      " 37  minimum_maximum_nights                        4642 non-null   int64  \n",
      " 38  maximum_maximum_nights                        4642 non-null   int64  \n",
      " 39  minimum_nights_avg_ntm                        4642 non-null   float64\n",
      " 40  maximum_nights_avg_ntm                        4642 non-null   float64\n",
      " 41  calendar_updated                              0 non-null      float64\n",
      " 42  has_availability                              4642 non-null   object \n",
      " 43  availability_30                               4642 non-null   int64  \n",
      " 44  availability_60                               4642 non-null   int64  \n",
      " 45  availability_90                               4642 non-null   int64  \n",
      " 46  availability_365                              4642 non-null   int64  \n",
      " 47  number_of_reviews                             4642 non-null   int64  \n",
      " 48  number_of_reviews_ltm                         4642 non-null   int64  \n",
      " 49  number_of_reviews_l30d                        4642 non-null   int64  \n",
      " 50  first_review                                  3931 non-null   object \n",
      " 51  last_review                                   3931 non-null   object \n",
      " 52  review_scores_rating                          3931 non-null   float64\n",
      " 53  review_scores_accuracy                        3915 non-null   float64\n",
      " 54  review_scores_cleanliness                     3915 non-null   float64\n",
      " 55  review_scores_checkin                         3915 non-null   float64\n",
      " 56  review_scores_communication                   3915 non-null   float64\n",
      " 57  review_scores_location                        3915 non-null   float64\n",
      " 58  review_scores_value                           3915 non-null   float64\n",
      " 59  license                                       2451 non-null   object \n",
      " 60  instant_bookable                              4642 non-null   object \n",
      " 61  calculated_host_listings_count                4642 non-null   int64  \n",
      " 62  calculated_host_listings_count_entire_homes   4642 non-null   int64  \n",
      " 63  calculated_host_listings_count_private_rooms  4642 non-null   int64  \n",
      " 64  calculated_host_listings_count_shared_rooms   4642 non-null   int64  \n",
      " 65  reviews_per_month                             3931 non-null   float64\n",
      " 66  has_beach                                     4642 non-null   int64  \n",
      "dtypes: float64(16), int64(23), object(28)\n",
      "memory usage: 2.4+ MB\n"
     ]
    }
   ],
   "source": [
    "listings.info()"
   ]
  },
  {
   "cell_type": "code",
   "execution_count": 161,
   "id": "c45f372a-ab31-40fd-af46-668dc8664d94",
   "metadata": {},
   "outputs": [
    {
     "data": {
      "text/plain": [
       "Series([], Name: neighbourhood_cleansed, dtype: object)"
      ]
     },
     "execution_count": 161,
     "metadata": {},
     "output_type": "execute_result"
    }
   ],
   "source": [
    "listings[listings['has_beach'].isnull()]['neighbourhood_cleansed']"
   ]
  },
  {
   "cell_type": "code",
   "execution_count": null,
   "id": "39fb9221-f94f-411a-a84f-31e87dfe07a1",
   "metadata": {},
   "outputs": [],
   "source": []
  },
  {
   "cell_type": "code",
   "execution_count": null,
   "id": "03876776-68fd-44fa-be6b-64626300c25b",
   "metadata": {},
   "outputs": [],
   "source": []
  },
  {
   "cell_type": "code",
   "execution_count": null,
   "id": "f2257160-8c0b-4b45-91cd-b8f32e0c361e",
   "metadata": {},
   "outputs": [],
   "source": []
  }
 ],
 "metadata": {
  "kernelspec": {
   "display_name": "Python 3 (ipykernel)",
   "language": "python",
   "name": "python3"
  },
  "language_info": {
   "codemirror_mode": {
    "name": "ipython",
    "version": 3
   },
   "file_extension": ".py",
   "mimetype": "text/x-python",
   "name": "python",
   "nbconvert_exporter": "python",
   "pygments_lexer": "ipython3",
   "version": "3.7.13"
  }
 },
 "nbformat": 4,
 "nbformat_minor": 5
}
