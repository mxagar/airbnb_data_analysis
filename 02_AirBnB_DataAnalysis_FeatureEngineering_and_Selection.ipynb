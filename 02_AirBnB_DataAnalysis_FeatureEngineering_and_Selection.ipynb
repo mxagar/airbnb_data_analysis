{
 "cells": [
  {
   "cell_type": "markdown",
   "id": "14bae18a-e40b-41c5-a068-1cd8cc423d3b",
   "metadata": {},
   "source": [
    "# AirBnB Data Analysis: Feature Engineering and Selection"
   ]
  },
  {
   "cell_type": "markdown",
   "id": "10f7141a-182e-4260-b6a1-523ae9c8509f",
   "metadata": {},
   "source": [
    "In the current repository, I will analyze the [AirBnB dataset from the Basque Country / Euskadi](http://insideairbnb.com/get-the-data/). The [Basque Country](https://en.wikipedia.org/wiki/Basque_Country_(autonomous_community)) is the region from Spain I am from; after many years living in Germany, I moved back here in 2020. As a popular touristic target on the seaside, the analysis might be valuable for many visitors :-)\n",
    "\n",
    "The first notebook `00_AirBnB_DataAnalysis_Initial_Tests.ipynb` has defined the main business questions, related to:\n",
    "\n",
    "1. Most important features for price prediction (= target)\n",
    "2. Difference in features between the two most important cities: Donostia-San Sebastian & Bilbao\n",
    "3. Difference in features between cities with beach access and without\n",
    "4. EXTRA: Predict review score from review texts\n",
    "\n",
    "Now, the usual data science process continues:\n",
    "\n",
    "1. Data cleaning and Preparation\n",
    "2. Exploratory Data Analysis\n",
    "3. **Feature Engineering**\n",
    "4. **Feature Selection**\n",
    "5. Modelling\n",
    "6. Model Scoring & Inferences\n",
    "7. Answering and presenting the Business Questions\n",
    "\n",
    "The previous notebook `01_AirBnB_DataAnalysis_DataCleaning_EDA.ipynb` has performed the Data Cleaning and the Exploratory Data Analysis (EDA).\n",
    "\n",
    "This notebook focuses on the next two steps: **Feature Engineering** and **Feature Selection**. Any transformations done in the EDA part of the previous notebook are re-done here. The file saved after the Data Cleaning is the input for the current notebook.\n",
    "\n",
    "### Overview of Contents in the Current Notebook\n",
    "\n",
    "1. Load Cleaned Dataset\n",
    "2. Feature Engineering\n",
    "    - 2.1 Transformations from the EDA"
   ]
  },
  {
   "cell_type": "code",
   "execution_count": 1,
   "id": "3f232abd-239c-421b-9f8a-af36d99ca0d2",
   "metadata": {},
   "outputs": [],
   "source": [
    "import numpy as np\n",
    "import pandas as pd\n",
    "import matplotlib.pyplot as plt\n",
    "import seaborn as sns\n",
    "import scipy.stats as stats\n",
    "import datetime\n",
    "\n",
    "# Display all the columns of the dataframe in the notebook\n",
    "pd.pandas.set_option('display.max_columns', None)"
   ]
  },
  {
   "cell_type": "markdown",
   "id": "eb586cfa-f9bb-4784-a38f-03d48dda0dc2",
   "metadata": {},
   "source": [
    "## 1. Load Cleaned Dataset"
   ]
  },
  {
   "cell_type": "code",
   "execution_count": 2,
   "id": "79c46878-08c9-4fc9-bf94-e63ca629580f",
   "metadata": {},
   "outputs": [],
   "source": [
    "filename = './data/euskadi_2022_03_31/listings_detailed_reduced_clean.csv'\n",
    "data = pd.read_csv(filename)"
   ]
  },
  {
   "cell_type": "code",
   "execution_count": 3,
   "id": "f6e02ba6-8e2b-4aa2-b07b-c4d092d23701",
   "metadata": {},
   "outputs": [],
   "source": [
    "# Make a copy of the original\n",
    "df = data.copy()"
   ]
  },
  {
   "cell_type": "code",
   "execution_count": 4,
   "id": "f8ede826-ecdf-4625-80ea-3cc494e259b9",
   "metadata": {},
   "outputs": [
    {
     "data": {
      "text/plain": [
       "(3931, 56)"
      ]
     },
     "execution_count": 4,
     "metadata": {},
     "output_type": "execute_result"
    }
   ],
   "source": [
    "df.shape"
   ]
  },
  {
   "cell_type": "code",
   "execution_count": 5,
   "id": "4c2a098f-fad2-4d83-bd59-4e2c42173fff",
   "metadata": {},
   "outputs": [
    {
     "data": {
      "text/html": [
       "<div>\n",
       "<style scoped>\n",
       "    .dataframe tbody tr th:only-of-type {\n",
       "        vertical-align: middle;\n",
       "    }\n",
       "\n",
       "    .dataframe tbody tr th {\n",
       "        vertical-align: top;\n",
       "    }\n",
       "\n",
       "    .dataframe thead th {\n",
       "        text-align: right;\n",
       "    }\n",
       "</style>\n",
       "<table border=\"1\" class=\"dataframe\">\n",
       "  <thead>\n",
       "    <tr style=\"text-align: right;\">\n",
       "      <th></th>\n",
       "      <th>id</th>\n",
       "      <th>name</th>\n",
       "      <th>listing_url</th>\n",
       "      <th>description</th>\n",
       "      <th>host_id</th>\n",
       "      <th>host_name</th>\n",
       "      <th>host_since</th>\n",
       "      <th>host_response_time</th>\n",
       "      <th>host_response_rate</th>\n",
       "      <th>host_acceptance_rate</th>\n",
       "      <th>host_is_superhost</th>\n",
       "      <th>host_listings_count</th>\n",
       "      <th>host_total_listings_count</th>\n",
       "      <th>host_verifications</th>\n",
       "      <th>host_has_profile_pic</th>\n",
       "      <th>host_identity_verified</th>\n",
       "      <th>neighbourhood_cleansed</th>\n",
       "      <th>neighbourhood_group_cleansed</th>\n",
       "      <th>latitude</th>\n",
       "      <th>longitude</th>\n",
       "      <th>property_type</th>\n",
       "      <th>room_type</th>\n",
       "      <th>accommodates</th>\n",
       "      <th>bathrooms_text</th>\n",
       "      <th>bedrooms</th>\n",
       "      <th>beds</th>\n",
       "      <th>amenities</th>\n",
       "      <th>price</th>\n",
       "      <th>minimum_nights</th>\n",
       "      <th>maximum_nights</th>\n",
       "      <th>minimum_minimum_nights</th>\n",
       "      <th>maximum_minimum_nights</th>\n",
       "      <th>minimum_maximum_nights</th>\n",
       "      <th>maximum_maximum_nights</th>\n",
       "      <th>minimum_nights_avg_ntm</th>\n",
       "      <th>maximum_nights_avg_ntm</th>\n",
       "      <th>has_availability</th>\n",
       "      <th>availability_30</th>\n",
       "      <th>availability_60</th>\n",
       "      <th>availability_90</th>\n",
       "      <th>availability_365</th>\n",
       "      <th>number_of_reviews</th>\n",
       "      <th>number_of_reviews_ltm</th>\n",
       "      <th>number_of_reviews_l30d</th>\n",
       "      <th>first_review</th>\n",
       "      <th>last_review</th>\n",
       "      <th>instant_bookable</th>\n",
       "      <th>calculated_host_listings_count</th>\n",
       "      <th>calculated_host_listings_count_entire_homes</th>\n",
       "      <th>calculated_host_listings_count_private_rooms</th>\n",
       "      <th>calculated_host_listings_count_shared_rooms</th>\n",
       "      <th>reviews_per_month</th>\n",
       "      <th>has_beach</th>\n",
       "      <th>review_scores_average</th>\n",
       "      <th>license_reported</th>\n",
       "      <th>host_location_nearby</th>\n",
       "    </tr>\n",
       "  </thead>\n",
       "  <tbody>\n",
       "    <tr>\n",
       "      <th>0</th>\n",
       "      <td>132068</td>\n",
       "      <td>Great attic+terrace+parking. Beach views. ESS0...</td>\n",
       "      <td>https://www.airbnb.com/rooms/132068</td>\n",
       "      <td>Amazing  modern, clean &amp; fully equiped flat of...</td>\n",
       "      <td>648938</td>\n",
       "      <td>Mikel</td>\n",
       "      <td>2011-05-31</td>\n",
       "      <td>within an hour</td>\n",
       "      <td>100%</td>\n",
       "      <td>100%</td>\n",
       "      <td>t</td>\n",
       "      <td>1</td>\n",
       "      <td>1</td>\n",
       "      <td>['email', 'phone', 'reviews', 'jumio', 'govern...</td>\n",
       "      <td>t</td>\n",
       "      <td>t</td>\n",
       "      <td>Donostia-San Sebastian</td>\n",
       "      <td>Gipuzkoa</td>\n",
       "      <td>43.32520</td>\n",
       "      <td>-1.97209</td>\n",
       "      <td>Entire condo</td>\n",
       "      <td>Entire home/apt</td>\n",
       "      <td>4</td>\n",
       "      <td>1 bath</td>\n",
       "      <td>2.0</td>\n",
       "      <td>3.0</td>\n",
       "      <td>[\"Cooking basics\", \"Iron\", \"Host greets you\", ...</td>\n",
       "      <td>147.0</td>\n",
       "      <td>1</td>\n",
       "      <td>63</td>\n",
       "      <td>1</td>\n",
       "      <td>2</td>\n",
       "      <td>63</td>\n",
       "      <td>63</td>\n",
       "      <td>1.6</td>\n",
       "      <td>63.0</td>\n",
       "      <td>t</td>\n",
       "      <td>6</td>\n",
       "      <td>12</td>\n",
       "      <td>14</td>\n",
       "      <td>226</td>\n",
       "      <td>584</td>\n",
       "      <td>65</td>\n",
       "      <td>2</td>\n",
       "      <td>2011-06-04</td>\n",
       "      <td>2022-03-27</td>\n",
       "      <td>t</td>\n",
       "      <td>1</td>\n",
       "      <td>1</td>\n",
       "      <td>0</td>\n",
       "      <td>0</td>\n",
       "      <td>4.43</td>\n",
       "      <td>1</td>\n",
       "      <td>4.884286</td>\n",
       "      <td>0</td>\n",
       "      <td>0.0</td>\n",
       "    </tr>\n",
       "    <tr>\n",
       "      <th>1</th>\n",
       "      <td>134802</td>\n",
       "      <td>Hab Luminosa,tranquila,baño privado</td>\n",
       "      <td>https://www.airbnb.com/rooms/134802</td>\n",
       "      <td>&lt;b&gt;The space&lt;/b&gt;&lt;br /&gt;Habitación en piso compa...</td>\n",
       "      <td>661293</td>\n",
       "      <td>Roberto</td>\n",
       "      <td>2011-06-03</td>\n",
       "      <td>within an hour</td>\n",
       "      <td>100%</td>\n",
       "      <td>100%</td>\n",
       "      <td>f</td>\n",
       "      <td>2</td>\n",
       "      <td>2</td>\n",
       "      <td>['email', 'phone', 'reviews', 'jumio', 'govern...</td>\n",
       "      <td>t</td>\n",
       "      <td>t</td>\n",
       "      <td>Bilbao</td>\n",
       "      <td>Bizkaia</td>\n",
       "      <td>43.24987</td>\n",
       "      <td>-2.93956</td>\n",
       "      <td>Private room in rental unit</td>\n",
       "      <td>Private room</td>\n",
       "      <td>1</td>\n",
       "      <td>1 private bath</td>\n",
       "      <td>1.0</td>\n",
       "      <td>1.0</td>\n",
       "      <td>[\"Dishwasher\", \"Laundromat nearby\", \"Drying ra...</td>\n",
       "      <td>39.0</td>\n",
       "      <td>3</td>\n",
       "      <td>120</td>\n",
       "      <td>3</td>\n",
       "      <td>3</td>\n",
       "      <td>1125</td>\n",
       "      <td>1125</td>\n",
       "      <td>3.0</td>\n",
       "      <td>1125.0</td>\n",
       "      <td>t</td>\n",
       "      <td>0</td>\n",
       "      <td>0</td>\n",
       "      <td>0</td>\n",
       "      <td>0</td>\n",
       "      <td>7</td>\n",
       "      <td>0</td>\n",
       "      <td>0</td>\n",
       "      <td>2012-07-16</td>\n",
       "      <td>2020-11-30</td>\n",
       "      <td>t</td>\n",
       "      <td>1</td>\n",
       "      <td>0</td>\n",
       "      <td>1</td>\n",
       "      <td>0</td>\n",
       "      <td>0.06</td>\n",
       "      <td>0</td>\n",
       "      <td>4.284286</td>\n",
       "      <td>0</td>\n",
       "      <td>0.0</td>\n",
       "    </tr>\n",
       "    <tr>\n",
       "      <th>2</th>\n",
       "      <td>142760</td>\n",
       "      <td>Apto San Juan de Gaztelugatxe</td>\n",
       "      <td>https://www.airbnb.com/rooms/142760</td>\n",
       "      <td>&lt;b&gt;The space&lt;/b&gt;&lt;br /&gt;This charming new apartm...</td>\n",
       "      <td>693119</td>\n",
       "      <td>Maitane</td>\n",
       "      <td>2011-06-12</td>\n",
       "      <td>within an hour</td>\n",
       "      <td>100%</td>\n",
       "      <td>100%</td>\n",
       "      <td>t</td>\n",
       "      <td>2</td>\n",
       "      <td>2</td>\n",
       "      <td>['email', 'phone', 'facebook', 'reviews', 'jum...</td>\n",
       "      <td>t</td>\n",
       "      <td>t</td>\n",
       "      <td>Busturia</td>\n",
       "      <td>Bizkaia</td>\n",
       "      <td>43.39062</td>\n",
       "      <td>-2.69470</td>\n",
       "      <td>Entire rental unit</td>\n",
       "      <td>Entire home/apt</td>\n",
       "      <td>2</td>\n",
       "      <td>1 bath</td>\n",
       "      <td>1.0</td>\n",
       "      <td>1.0</td>\n",
       "      <td>[\"Dishwasher\", \"Private patio or balcony\", \"Co...</td>\n",
       "      <td>119.0</td>\n",
       "      <td>6</td>\n",
       "      <td>730</td>\n",
       "      <td>6</td>\n",
       "      <td>6</td>\n",
       "      <td>730</td>\n",
       "      <td>730</td>\n",
       "      <td>6.0</td>\n",
       "      <td>730.0</td>\n",
       "      <td>t</td>\n",
       "      <td>29</td>\n",
       "      <td>59</td>\n",
       "      <td>89</td>\n",
       "      <td>332</td>\n",
       "      <td>43</td>\n",
       "      <td>4</td>\n",
       "      <td>0</td>\n",
       "      <td>2011-08-17</td>\n",
       "      <td>2021-08-29</td>\n",
       "      <td>f</td>\n",
       "      <td>1</td>\n",
       "      <td>1</td>\n",
       "      <td>0</td>\n",
       "      <td>0</td>\n",
       "      <td>0.33</td>\n",
       "      <td>1</td>\n",
       "      <td>4.704286</td>\n",
       "      <td>0</td>\n",
       "      <td>0.0</td>\n",
       "    </tr>\n",
       "    <tr>\n",
       "      <th>3</th>\n",
       "      <td>309802</td>\n",
       "      <td>Luxury w/terrace near the beach WIF</td>\n",
       "      <td>https://www.airbnb.com/rooms/309802</td>\n",
       "      <td>&lt;b&gt;The space&lt;/b&gt;&lt;br /&gt;It is located in the pea...</td>\n",
       "      <td>1589633</td>\n",
       "      <td>Emy</td>\n",
       "      <td>2012-01-10</td>\n",
       "      <td>within a few hours</td>\n",
       "      <td>100%</td>\n",
       "      <td>97%</td>\n",
       "      <td>f</td>\n",
       "      <td>9</td>\n",
       "      <td>9</td>\n",
       "      <td>['email', 'phone', 'facebook', 'reviews', 'jum...</td>\n",
       "      <td>t</td>\n",
       "      <td>f</td>\n",
       "      <td>Donostia-San Sebastian</td>\n",
       "      <td>Gipuzkoa</td>\n",
       "      <td>43.31582</td>\n",
       "      <td>-2.00394</td>\n",
       "      <td>Entire rental unit</td>\n",
       "      <td>Entire home/apt</td>\n",
       "      <td>6</td>\n",
       "      <td>2 baths</td>\n",
       "      <td>2.0</td>\n",
       "      <td>5.0</td>\n",
       "      <td>[\"Dishwasher\", \"Backyard\", \"Cooking basics\", \"...</td>\n",
       "      <td>190.0</td>\n",
       "      <td>3</td>\n",
       "      <td>1125</td>\n",
       "      <td>3</td>\n",
       "      <td>3</td>\n",
       "      <td>1125</td>\n",
       "      <td>1125</td>\n",
       "      <td>3.0</td>\n",
       "      <td>1125.0</td>\n",
       "      <td>t</td>\n",
       "      <td>23</td>\n",
       "      <td>39</td>\n",
       "      <td>60</td>\n",
       "      <td>274</td>\n",
       "      <td>5</td>\n",
       "      <td>1</td>\n",
       "      <td>0</td>\n",
       "      <td>2014-05-06</td>\n",
       "      <td>2021-10-06</td>\n",
       "      <td>f</td>\n",
       "      <td>8</td>\n",
       "      <td>7</td>\n",
       "      <td>1</td>\n",
       "      <td>0</td>\n",
       "      <td>0.05</td>\n",
       "      <td>1</td>\n",
       "      <td>4.171429</td>\n",
       "      <td>0</td>\n",
       "      <td>0.0</td>\n",
       "    </tr>\n",
       "    <tr>\n",
       "      <th>4</th>\n",
       "      <td>309813</td>\n",
       "      <td>Near the beach with terrace WIFI</td>\n",
       "      <td>https://www.airbnb.com/rooms/309813</td>\n",
       "      <td>Luxury three bedrooms apartment located in a b...</td>\n",
       "      <td>1589633</td>\n",
       "      <td>Emy</td>\n",
       "      <td>2012-01-10</td>\n",
       "      <td>within a few hours</td>\n",
       "      <td>100%</td>\n",
       "      <td>97%</td>\n",
       "      <td>f</td>\n",
       "      <td>9</td>\n",
       "      <td>9</td>\n",
       "      <td>['email', 'phone', 'facebook', 'reviews', 'jum...</td>\n",
       "      <td>t</td>\n",
       "      <td>f</td>\n",
       "      <td>Donostia-San Sebastian</td>\n",
       "      <td>Gipuzkoa</td>\n",
       "      <td>43.31478</td>\n",
       "      <td>-1.98734</td>\n",
       "      <td>Entire rental unit</td>\n",
       "      <td>Entire home/apt</td>\n",
       "      <td>8</td>\n",
       "      <td>2 baths</td>\n",
       "      <td>3.0</td>\n",
       "      <td>5.0</td>\n",
       "      <td>[\"Dishwasher\", \"Cooking basics\", \"Air conditio...</td>\n",
       "      <td>180.0</td>\n",
       "      <td>31</td>\n",
       "      <td>124</td>\n",
       "      <td>31</td>\n",
       "      <td>31</td>\n",
       "      <td>124</td>\n",
       "      <td>124</td>\n",
       "      <td>31.0</td>\n",
       "      <td>124.0</td>\n",
       "      <td>t</td>\n",
       "      <td>28</td>\n",
       "      <td>45</td>\n",
       "      <td>75</td>\n",
       "      <td>300</td>\n",
       "      <td>12</td>\n",
       "      <td>0</td>\n",
       "      <td>0</td>\n",
       "      <td>2012-03-15</td>\n",
       "      <td>2018-06-02</td>\n",
       "      <td>f</td>\n",
       "      <td>8</td>\n",
       "      <td>7</td>\n",
       "      <td>1</td>\n",
       "      <td>0</td>\n",
       "      <td>0.10</td>\n",
       "      <td>1</td>\n",
       "      <td>4.675714</td>\n",
       "      <td>0</td>\n",
       "      <td>0.0</td>\n",
       "    </tr>\n",
       "  </tbody>\n",
       "</table>\n",
       "</div>"
      ],
      "text/plain": [
       "       id                                               name  \\\n",
       "0  132068  Great attic+terrace+parking. Beach views. ESS0...   \n",
       "1  134802                Hab Luminosa,tranquila,baño privado   \n",
       "2  142760                      Apto San Juan de Gaztelugatxe   \n",
       "3  309802                Luxury w/terrace near the beach WIF   \n",
       "4  309813                   Near the beach with terrace WIFI   \n",
       "\n",
       "                           listing_url  \\\n",
       "0  https://www.airbnb.com/rooms/132068   \n",
       "1  https://www.airbnb.com/rooms/134802   \n",
       "2  https://www.airbnb.com/rooms/142760   \n",
       "3  https://www.airbnb.com/rooms/309802   \n",
       "4  https://www.airbnb.com/rooms/309813   \n",
       "\n",
       "                                         description  host_id host_name  \\\n",
       "0  Amazing  modern, clean & fully equiped flat of...   648938     Mikel   \n",
       "1  <b>The space</b><br />Habitación en piso compa...   661293   Roberto   \n",
       "2  <b>The space</b><br />This charming new apartm...   693119   Maitane   \n",
       "3  <b>The space</b><br />It is located in the pea...  1589633       Emy   \n",
       "4  Luxury three bedrooms apartment located in a b...  1589633       Emy   \n",
       "\n",
       "   host_since  host_response_time host_response_rate host_acceptance_rate  \\\n",
       "0  2011-05-31      within an hour               100%                 100%   \n",
       "1  2011-06-03      within an hour               100%                 100%   \n",
       "2  2011-06-12      within an hour               100%                 100%   \n",
       "3  2012-01-10  within a few hours               100%                  97%   \n",
       "4  2012-01-10  within a few hours               100%                  97%   \n",
       "\n",
       "  host_is_superhost  host_listings_count  host_total_listings_count  \\\n",
       "0                 t                    1                          1   \n",
       "1                 f                    2                          2   \n",
       "2                 t                    2                          2   \n",
       "3                 f                    9                          9   \n",
       "4                 f                    9                          9   \n",
       "\n",
       "                                  host_verifications host_has_profile_pic  \\\n",
       "0  ['email', 'phone', 'reviews', 'jumio', 'govern...                    t   \n",
       "1  ['email', 'phone', 'reviews', 'jumio', 'govern...                    t   \n",
       "2  ['email', 'phone', 'facebook', 'reviews', 'jum...                    t   \n",
       "3  ['email', 'phone', 'facebook', 'reviews', 'jum...                    t   \n",
       "4  ['email', 'phone', 'facebook', 'reviews', 'jum...                    t   \n",
       "\n",
       "  host_identity_verified  neighbourhood_cleansed neighbourhood_group_cleansed  \\\n",
       "0                      t  Donostia-San Sebastian                     Gipuzkoa   \n",
       "1                      t                  Bilbao                      Bizkaia   \n",
       "2                      t                Busturia                      Bizkaia   \n",
       "3                      f  Donostia-San Sebastian                     Gipuzkoa   \n",
       "4                      f  Donostia-San Sebastian                     Gipuzkoa   \n",
       "\n",
       "   latitude  longitude                property_type        room_type  \\\n",
       "0  43.32520   -1.97209                 Entire condo  Entire home/apt   \n",
       "1  43.24987   -2.93956  Private room in rental unit     Private room   \n",
       "2  43.39062   -2.69470           Entire rental unit  Entire home/apt   \n",
       "3  43.31582   -2.00394           Entire rental unit  Entire home/apt   \n",
       "4  43.31478   -1.98734           Entire rental unit  Entire home/apt   \n",
       "\n",
       "   accommodates  bathrooms_text  bedrooms  beds  \\\n",
       "0             4          1 bath       2.0   3.0   \n",
       "1             1  1 private bath       1.0   1.0   \n",
       "2             2          1 bath       1.0   1.0   \n",
       "3             6         2 baths       2.0   5.0   \n",
       "4             8         2 baths       3.0   5.0   \n",
       "\n",
       "                                           amenities  price  minimum_nights  \\\n",
       "0  [\"Cooking basics\", \"Iron\", \"Host greets you\", ...  147.0               1   \n",
       "1  [\"Dishwasher\", \"Laundromat nearby\", \"Drying ra...   39.0               3   \n",
       "2  [\"Dishwasher\", \"Private patio or balcony\", \"Co...  119.0               6   \n",
       "3  [\"Dishwasher\", \"Backyard\", \"Cooking basics\", \"...  190.0               3   \n",
       "4  [\"Dishwasher\", \"Cooking basics\", \"Air conditio...  180.0              31   \n",
       "\n",
       "   maximum_nights  minimum_minimum_nights  maximum_minimum_nights  \\\n",
       "0              63                       1                       2   \n",
       "1             120                       3                       3   \n",
       "2             730                       6                       6   \n",
       "3            1125                       3                       3   \n",
       "4             124                      31                      31   \n",
       "\n",
       "   minimum_maximum_nights  maximum_maximum_nights  minimum_nights_avg_ntm  \\\n",
       "0                      63                      63                     1.6   \n",
       "1                    1125                    1125                     3.0   \n",
       "2                     730                     730                     6.0   \n",
       "3                    1125                    1125                     3.0   \n",
       "4                     124                     124                    31.0   \n",
       "\n",
       "   maximum_nights_avg_ntm has_availability  availability_30  availability_60  \\\n",
       "0                    63.0                t                6               12   \n",
       "1                  1125.0                t                0                0   \n",
       "2                   730.0                t               29               59   \n",
       "3                  1125.0                t               23               39   \n",
       "4                   124.0                t               28               45   \n",
       "\n",
       "   availability_90  availability_365  number_of_reviews  \\\n",
       "0               14               226                584   \n",
       "1                0                 0                  7   \n",
       "2               89               332                 43   \n",
       "3               60               274                  5   \n",
       "4               75               300                 12   \n",
       "\n",
       "   number_of_reviews_ltm  number_of_reviews_l30d first_review last_review  \\\n",
       "0                     65                       2   2011-06-04  2022-03-27   \n",
       "1                      0                       0   2012-07-16  2020-11-30   \n",
       "2                      4                       0   2011-08-17  2021-08-29   \n",
       "3                      1                       0   2014-05-06  2021-10-06   \n",
       "4                      0                       0   2012-03-15  2018-06-02   \n",
       "\n",
       "  instant_bookable  calculated_host_listings_count  \\\n",
       "0                t                               1   \n",
       "1                t                               1   \n",
       "2                f                               1   \n",
       "3                f                               8   \n",
       "4                f                               8   \n",
       "\n",
       "   calculated_host_listings_count_entire_homes  \\\n",
       "0                                            1   \n",
       "1                                            0   \n",
       "2                                            1   \n",
       "3                                            7   \n",
       "4                                            7   \n",
       "\n",
       "   calculated_host_listings_count_private_rooms  \\\n",
       "0                                             0   \n",
       "1                                             1   \n",
       "2                                             0   \n",
       "3                                             1   \n",
       "4                                             1   \n",
       "\n",
       "   calculated_host_listings_count_shared_rooms  reviews_per_month  has_beach  \\\n",
       "0                                            0               4.43          1   \n",
       "1                                            0               0.06          0   \n",
       "2                                            0               0.33          1   \n",
       "3                                            0               0.05          1   \n",
       "4                                            0               0.10          1   \n",
       "\n",
       "   review_scores_average  license_reported  host_location_nearby  \n",
       "0               4.884286                 0                   0.0  \n",
       "1               4.284286                 0                   0.0  \n",
       "2               4.704286                 0                   0.0  \n",
       "3               4.171429                 0                   0.0  \n",
       "4               4.675714                 0                   0.0  "
      ]
     },
     "execution_count": 5,
     "metadata": {},
     "output_type": "execute_result"
    }
   ],
   "source": [
    "df.head()"
   ]
  },
  {
   "cell_type": "markdown",
   "id": "eac1d9ad-a722-4f31-9645-16e7b912348d",
   "metadata": {},
   "source": [
    "## 2. Feature Engineering"
   ]
  },
  {
   "cell_type": "markdown",
   "id": "789ae194-3f68-4f28-96e4-66f9c114f4e7",
   "metadata": {},
   "source": [
    "First the transformations defined during the EDA are applied. Then, new transformations are defined and applied."
   ]
  },
  {
   "cell_type": "markdown",
   "id": "f18479d5-d350-4dba-ae23-6670388931da",
   "metadata": {},
   "source": [
    "### 2.1 Transformations from the EDA"
   ]
  },
  {
   "cell_type": "markdown",
   "id": "4995a382-cd4b-44a6-8a88-268bf0604c21",
   "metadata": {},
   "source": [
    "#### Get Feature Names and Types"
   ]
  },
  {
   "cell_type": "code",
   "execution_count": 6,
   "id": "ef540fa6-3ea5-41a2-9c38-4fcf8d6a0069",
   "metadata": {},
   "outputs": [
    {
     "data": {
      "text/plain": [
       "['name',\n",
       " 'listing_url',\n",
       " 'description',\n",
       " 'host_name',\n",
       " 'host_since',\n",
       " 'host_response_time',\n",
       " 'host_response_rate',\n",
       " 'host_acceptance_rate',\n",
       " 'host_is_superhost',\n",
       " 'host_verifications',\n",
       " 'host_has_profile_pic',\n",
       " 'host_identity_verified',\n",
       " 'neighbourhood_cleansed',\n",
       " 'neighbourhood_group_cleansed',\n",
       " 'property_type',\n",
       " 'room_type',\n",
       " 'bathrooms_text',\n",
       " 'amenities',\n",
       " 'has_availability',\n",
       " 'first_review',\n",
       " 'last_review',\n",
       " 'instant_bookable']"
      ]
     },
     "execution_count": 6,
     "metadata": {},
     "output_type": "execute_result"
    }
   ],
   "source": [
    "# Strings: some feature engineering is require\n",
    "categorical_cols = list(df.select_dtypes(['object']).columns)\n",
    "categorical_cols"
   ]
  },
  {
   "cell_type": "code",
   "execution_count": 7,
   "id": "dfae0c1f-00b7-4e2e-95d0-4c5a13644b3c",
   "metadata": {},
   "outputs": [],
   "source": [
    "# Almost all categorical variables need to be encoded\n",
    "# but some can be directly dropped for modelling;\n",
    "# manual selection of the ones to drop\n",
    "categorical_cols_drop = ['listing_url', 'host_verifications']"
   ]
  },
  {
   "cell_type": "code",
   "execution_count": 8,
   "id": "49e83ba8-fddd-4602-8548-1bf1989e814c",
   "metadata": {},
   "outputs": [
    {
     "data": {
      "text/plain": [
       "['latitude',\n",
       " 'longitude',\n",
       " 'bedrooms',\n",
       " 'beds',\n",
       " 'price',\n",
       " 'minimum_nights_avg_ntm',\n",
       " 'maximum_nights_avg_ntm',\n",
       " 'reviews_per_month',\n",
       " 'review_scores_average',\n",
       " 'host_location_nearby',\n",
       " 'id',\n",
       " 'host_id',\n",
       " 'host_listings_count',\n",
       " 'host_total_listings_count',\n",
       " 'accommodates',\n",
       " 'minimum_nights',\n",
       " 'maximum_nights',\n",
       " 'minimum_minimum_nights',\n",
       " 'maximum_minimum_nights',\n",
       " 'minimum_maximum_nights',\n",
       " 'maximum_maximum_nights',\n",
       " 'availability_30',\n",
       " 'availability_60',\n",
       " 'availability_90',\n",
       " 'availability_365',\n",
       " 'number_of_reviews',\n",
       " 'number_of_reviews_ltm',\n",
       " 'number_of_reviews_l30d',\n",
       " 'calculated_host_listings_count',\n",
       " 'calculated_host_listings_count_entire_homes',\n",
       " 'calculated_host_listings_count_private_rooms',\n",
       " 'calculated_host_listings_count_shared_rooms',\n",
       " 'has_beach',\n",
       " 'license_reported']"
      ]
     },
     "execution_count": 8,
     "metadata": {},
     "output_type": "execute_result"
    }
   ],
   "source": [
    "# Floats: scaling is required probably\n",
    "float_cols = list(df.select_dtypes(['float']).columns)\n",
    "# Integers: scaling is required probably\n",
    "int_cols = list(df.select_dtypes(['int']).columns)\n",
    "numerical_cols = float_cols + int_cols\n",
    "numerical_cols"
   ]
  },
  {
   "cell_type": "code",
   "execution_count": 9,
   "id": "15bab86b-6e7b-4895-8f69-1144556b4cb1",
   "metadata": {},
   "outputs": [],
   "source": [
    "# Many numerical variables need to be transformed\n",
    "# but some can be directly dropped for modelling;\n",
    "# manual selection of the ones to drop\n",
    "numerical_cols_drop = ['id', 'host_id', 'host_listings_count']"
   ]
  },
  {
   "cell_type": "markdown",
   "id": "f801f4b2-23aa-4371-a690-60a7a0669ab6",
   "metadata": {},
   "source": [
    "#### Numerical Transformation (from EDA)"
   ]
  },
  {
   "cell_type": "code",
   "execution_count": 10,
   "id": "5a084848-1611-4c2a-bb26-05b475695dcf",
   "metadata": {},
   "outputs": [],
   "source": [
    "# From the EDA:\n",
    "# Selection of candidates for a logarithmic-family transoformation.\n",
    "# I choose the Yeo-Johnson transformation.\n",
    "# The selection is done visually: the scatterplots variable-target are better when\n",
    "# - larger spread\n",
    "# - homogeneous density\n",
    "# In the following, numerical variables are classified in subgroups\n",
    "# after the visual inspection of the plots\n",
    "\n",
    "# Numerical variables that are categorical\n",
    "numerical_categorical = [\n",
    "    'host_location_nearby',\n",
    "    'has_beach',\n",
    "    'license_reported'\n",
    "]\n",
    "\n",
    "# Numerical variables that will be binarized\n",
    "numerical_binarized = ['calculated_host_listings_count_shared_rooms']\n",
    "\n",
    "# Variables kept for transformation\n",
    "numerical_transform = [\n",
    "     'bedrooms',\n",
    "     'beds',\n",
    "     'price',\n",
    "     'minimum_nights_avg_ntm',\n",
    "     'maximum_nights_avg_ntm',\n",
    "     'reviews_per_month',\n",
    "     'host_total_listings_count',\n",
    "     'accommodates',\n",
    "     'minimum_nights',\n",
    "     'maximum_nights',\n",
    "     'minimum_minimum_nights',\n",
    "     'maximum_minimum_nights',\n",
    "     'minimum_maximum_nights',\n",
    "     'maximum_maximum_nights',\n",
    "     'number_of_reviews',\n",
    "     'number_of_reviews_ltm',\n",
    "     'calculated_host_listings_count',\n",
    "     'calculated_host_listings_count_entire_homes',\n",
    "     'calculated_host_listings_count_private_rooms'\n",
    "]\n",
    "\n",
    "# Numerical variables left as they are (acceptable distribution)\n",
    "numerical_other = [\n",
    "    'latitude',\n",
    "    'longitude',\n",
    "    'review_scores_average',\n",
    "    'availability_30',\n",
    "    'availability_60',\n",
    "    'availability_90',\n",
    "    'availability_365',\n",
    "    'number_of_reviews_l30d'\n",
    "]\n",
    "\n",
    "assert len(numerical_cols) == \\\n",
    "       len(numerical_categorical) + \\\n",
    "       len(numerical_binarized) + \\\n",
    "       len(numerical_transform) + \\\n",
    "       len(numerical_other) + len(numerical_cols_drop)"
   ]
  },
  {
   "cell_type": "code",
   "execution_count": 11,
   "id": "6102b7d8-3ac5-41f4-af7e-79e8c19d15e3",
   "metadata": {},
   "outputs": [],
   "source": [
    "# Transform the numerical variables with Yeo-Johnson\n",
    "# and store the parameters\n",
    "numerical_transform_params = {}\n",
    "for var in numerical_transform:\n",
    "    df[var], param = stats.yeojohnson(df[var])\n",
    "    numerical_transform_params[var] = param"
   ]
  },
  {
   "cell_type": "code",
   "execution_count": 12,
   "id": "ad502a8d-6cef-459e-9c22-1bf15b7e6e23",
   "metadata": {},
   "outputs": [
    {
     "data": {
      "text/plain": [
       "{'bedrooms': -1.0402070267879564,\n",
       " 'beds': -0.3059395762251768,\n",
       " 'price': 0.05645391686478171,\n",
       " 'minimum_nights_avg_ntm': -1.031548319186732,\n",
       " 'maximum_nights_avg_ntm': 1.292039894445428,\n",
       " 'reviews_per_month': -0.8558329195885959,\n",
       " 'host_total_listings_count': -0.4225374548348586,\n",
       " 'accommodates': -0.12653943892207856,\n",
       " 'minimum_nights': -1.247377597286875,\n",
       " 'maximum_nights': 0.6802531557453844,\n",
       " 'minimum_minimum_nights': -1.3449216078756545,\n",
       " 'maximum_minimum_nights': -0.7245278768913469,\n",
       " 'minimum_maximum_nights': 1.0508654684971468,\n",
       " 'maximum_maximum_nights': 1.3370553390198696,\n",
       " 'number_of_reviews': -0.031191513332035344,\n",
       " 'number_of_reviews_ltm': -0.014480286216331528,\n",
       " 'calculated_host_listings_count': -0.7715543804115744,\n",
       " 'calculated_host_listings_count_entire_homes': -0.566660556641371,\n",
       " 'calculated_host_listings_count_private_rooms': -1.5063543096526493}"
      ]
     },
     "execution_count": 12,
     "metadata": {},
     "output_type": "execute_result"
    }
   ],
   "source": [
    "# Yeo-Johnso Transformation parameters\n",
    "numerical_transform_params"
   ]
  },
  {
   "cell_type": "code",
   "execution_count": 13,
   "id": "febc8065-1c3c-4408-b557-92ea2256a21e",
   "metadata": {},
   "outputs": [
    {
     "name": "stdout",
     "output_type": "stream",
     "text": [
      "Numer of numerical columns ready to be scaled: 27\n"
     ]
    },
    {
     "data": {
      "text/plain": [
       "['bedrooms',\n",
       " 'beds',\n",
       " 'price',\n",
       " 'minimum_nights_avg_ntm',\n",
       " 'maximum_nights_avg_ntm',\n",
       " 'reviews_per_month',\n",
       " 'host_total_listings_count',\n",
       " 'accommodates',\n",
       " 'minimum_nights',\n",
       " 'maximum_nights',\n",
       " 'minimum_minimum_nights',\n",
       " 'maximum_minimum_nights',\n",
       " 'minimum_maximum_nights',\n",
       " 'maximum_maximum_nights',\n",
       " 'number_of_reviews',\n",
       " 'number_of_reviews_ltm',\n",
       " 'calculated_host_listings_count',\n",
       " 'calculated_host_listings_count_entire_homes',\n",
       " 'calculated_host_listings_count_private_rooms',\n",
       " 'latitude',\n",
       " 'longitude',\n",
       " 'review_scores_average',\n",
       " 'availability_30',\n",
       " 'availability_60',\n",
       " 'availability_90',\n",
       " 'availability_365',\n",
       " 'number_of_reviews_l30d']"
      ]
     },
     "execution_count": 13,
     "metadata": {},
     "output_type": "execute_result"
    }
   ],
   "source": [
    "# Numerical variables; note that columns to be dropped are not considered\n",
    "numerical_cols = numerical_transform + numerical_other\n",
    "print(f'Numer of numerical columns ready to be scaled: {len(numerical_cols)}')\n",
    "numerical_cols"
   ]
  },
  {
   "cell_type": "markdown",
   "id": "1fa9e869-b385-4559-bf6e-a88e957fca26",
   "metadata": {},
   "source": [
    "#### Categorical Transformation (from EDA)"
   ]
  },
  {
   "cell_type": "code",
   "execution_count": 14,
   "id": "97159e9f-9304-4d15-b458-5c0d6f3e4f0a",
   "metadata": {},
   "outputs": [
    {
     "data": {
      "text/plain": [
       "['name',\n",
       " 'listing_url',\n",
       " 'description',\n",
       " 'host_name',\n",
       " 'host_since',\n",
       " 'host_response_time',\n",
       " 'host_response_rate',\n",
       " 'host_acceptance_rate',\n",
       " 'host_is_superhost',\n",
       " 'host_verifications',\n",
       " 'host_has_profile_pic',\n",
       " 'host_identity_verified',\n",
       " 'neighbourhood_cleansed',\n",
       " 'neighbourhood_group_cleansed',\n",
       " 'property_type',\n",
       " 'room_type',\n",
       " 'bathrooms_text',\n",
       " 'amenities',\n",
       " 'has_availability',\n",
       " 'first_review',\n",
       " 'last_review',\n",
       " 'instant_bookable',\n",
       " 'host_location_nearby',\n",
       " 'has_beach',\n",
       " 'license_reported',\n",
       " 'calculated_host_listings_count_shared_rooms']"
      ]
     },
     "execution_count": 14,
     "metadata": {},
     "output_type": "execute_result"
    }
   ],
   "source": [
    "# Get a list of all categorical variables\n",
    "categorical_cols = categorical_cols + numerical_categorical + numerical_binarized\n",
    "categorical_cols"
   ]
  },
  {
   "cell_type": "code",
   "execution_count": 15,
   "id": "2c443e55-8e67-4c97-8e3c-31b1b3424c4a",
   "metadata": {},
   "outputs": [],
   "source": [
    "# Some categorcial variables are binary and their category values\n",
    "# should be mapped from (t,f) -> (1,0)\n",
    "binary_mappings = {'t': 1, 'f': 0}\n",
    "binary_vars = [\n",
    "    'host_is_superhost',\n",
    "    'host_has_profile_pic',\n",
    "    'host_identity_verified',\n",
    "    'has_availability',\n",
    "    'instant_bookable'\n",
    "]\n",
    "for var in binary_vars:\n",
    "    df[var] = df[var].map(binary_mappings)"
   ]
  },
  {
   "cell_type": "code",
   "execution_count": 16,
   "id": "2fdf26bd-e28c-4533-b9c7-10651650eb2e",
   "metadata": {},
   "outputs": [],
   "source": [
    "# Similarly, the categories of some variables are mapped\n",
    "# for a an easier handling when they are converted to dummies\n",
    "df['host_response_time'].replace({\"within an hour\":'hour',\n",
    "                                  \"within a few hours\":'few_hours',\n",
    "                                  \"within a day\":'day',\n",
    "                                  \"a few days or more\":'few_days'},inplace=True)\n",
    "df['room_type'].replace({\"Entire home/apt\":'home',\n",
    "                         \"Private room\":'room_private',\n",
    "                         \"Shared room\":'room_shared',\n",
    "                         \"Hotel room\":'room_hotel'},inplace=True)"
   ]
  },
  {
   "cell_type": "code",
   "execution_count": 17,
   "id": "51083719-e9d3-4312-b26b-b5b1f3568a83",
   "metadata": {},
   "outputs": [],
   "source": [
    "# These variables are percentages encoded as strings:\n",
    "# host_response_rate, host_acceptance_rate\n",
    "try:\n",
    "    for col in ['host_response_rate', 'host_acceptance_rate']:\n",
    "        df[col] = df[col].apply(lambda pcnt: float(pcnt.split(\"%\")[0])/100.0)\n",
    "except AttributeError as err:\n",
    "    print(\"Values already converted!\")"
   ]
  },
  {
   "cell_type": "markdown",
   "id": "ac4d492a-6092-4862-b17f-75bd224c72b7",
   "metadata": {},
   "source": [
    "#### Variables with Many Categories: Property Type"
   ]
  },
  {
   "cell_type": "markdown",
   "id": "5d6119fc-1950-4b55-8ae4-a616e5a7c72c",
   "metadata": {},
   "source": [
    "The categories of `property_type` are many and with long names; for an easier handling as dummy variables, a bidirectional mapping between original category names and integers is defined. The integers are ordered, assigning lower values to property types which have lower median prices."
   ]
  },
  {
   "cell_type": "code",
   "execution_count": 18,
   "id": "9cd3b104-3b11-40ac-8451-dda23d1779df",
   "metadata": {},
   "outputs": [
    {
     "data": {
      "text/plain": [
       "['Shared room in hostel',\n",
       " 'Shared room in cottage',\n",
       " 'Shared room in farm stay',\n",
       " 'Shared room in bed and breakfast',\n",
       " 'Campsite',\n",
       " 'Shared room in rental unit',\n",
       " 'Private room in floor',\n",
       " 'Shared room in tent',\n",
       " 'Private room in condo',\n",
       " 'Private room in tiny home',\n",
       " 'Private room in camper/rv',\n",
       " 'Private room in townhouse',\n",
       " 'Private room in rental unit',\n",
       " 'Bus',\n",
       " 'Private room in home',\n",
       " 'Private room in casa particular',\n",
       " 'Private room',\n",
       " 'Private room in villa',\n",
       " 'Private room in guesthouse',\n",
       " 'Private room in serviced apartment',\n",
       " 'Room in hostel',\n",
       " 'Private room in chalet',\n",
       " 'Private room in cottage',\n",
       " 'Private room in guest suite',\n",
       " 'Private room in bed and breakfast',\n",
       " 'Private room in hostel',\n",
       " 'Camper/RV',\n",
       " 'Room in hotel',\n",
       " 'Private room in loft',\n",
       " 'Entire loft',\n",
       " 'Entire vacation home',\n",
       " 'Tiny home',\n",
       " 'Room in boutique hotel',\n",
       " 'Room in bed and breakfast',\n",
       " 'Floor',\n",
       " 'Entire guest suite',\n",
       " 'Entire condo',\n",
       " 'Entire guesthouse',\n",
       " 'Casa particular',\n",
       " 'Entire rental unit',\n",
       " 'Private room in boat',\n",
       " 'Room in aparthotel',\n",
       " 'Entire serviced apartment',\n",
       " 'Boat',\n",
       " 'Private room in castle',\n",
       " 'Entire home',\n",
       " 'Entire bungalow',\n",
       " 'Barn',\n",
       " 'Room in serviced apartment',\n",
       " 'Entire townhouse',\n",
       " 'Farm stay',\n",
       " 'Entire cottage',\n",
       " 'Entire chalet',\n",
       " 'Entire villa']"
      ]
     },
     "execution_count": 18,
     "metadata": {},
     "output_type": "execute_result"
    }
   ],
   "source": [
    "property_type_list = list(df.groupby('property_type')['price'].median().sort_values(ascending=True).index)\n",
    "property_type_list"
   ]
  },
  {
   "cell_type": "code",
   "execution_count": 19,
   "id": "c83f7cd2-0aa1-4e76-af5a-cbc19b4f8ed6",
   "metadata": {},
   "outputs": [],
   "source": [
    "# Create mapping dictionary\n",
    "property_type_dict = {}\n",
    "for i, property_type in enumerate(property_type_list):\n",
    "    property_type_dict[property_type] = str(i+1)"
   ]
  },
  {
   "cell_type": "code",
   "execution_count": 20,
   "id": "3e9a1cff-f474-46b4-8c7f-f7c3dc7f00c8",
   "metadata": {},
   "outputs": [],
   "source": [
    "# Map the values\n",
    "df['property_type'] = df['property_type'].map(property_type_dict)"
   ]
  },
  {
   "cell_type": "markdown",
   "id": "37425bcb-d521-41c9-a5f5-40e7bc8ee856",
   "metadata": {},
   "source": [
    "#### Recap: Which are the Missing Categorical Variables to Process?"
   ]
  },
  {
   "cell_type": "markdown",
   "id": "4d57a302-5e43-4f90-a272-06553eb6836d",
   "metadata": {},
   "source": [
    "In the following, the categorical variables are classified in groups for a better overview:\n",
    "\n",
    "- `categorical_cols_todo_date`: extract days until today\n",
    "- `categorical_cols_todo_text`: identify text language: English / Other\n",
    "- `categorical_cols_todo_special`: one-by-one processing\n",
    "- `categorical_cols_todo_dummify`: ready to convert into dummy variables\n",
    "- `categorical_cols_ready`: nothing to be done\n",
    "\n",
    "The sum of all of them yield the set of features that need to be taken from the group of categorical variables"
   ]
  },
  {
   "cell_type": "code",
   "execution_count": 21,
   "id": "516fb782-5ab1-4edd-94f1-391afa8fe5c2",
   "metadata": {},
   "outputs": [],
   "source": [
    "categorical_cols_drop = [\n",
    "    'listing_url',\n",
    "    'host_verifications',\n",
    "    'host_name',\n",
    "]\n",
    "\n",
    "categorical_cols_todo = [\n",
    "    'name',\n",
    "    'description',\n",
    "    'host_since',\n",
    "    'host_response_time',\n",
    "    'neighbourhood_cleansed',\n",
    "    'neighbourhood_group_cleansed',\n",
    "    'property_type',\n",
    "    'room_type',\n",
    "    'bathrooms_text',\n",
    "    'amenities',\n",
    "    'first_review',\n",
    "    'last_review',\n",
    "    'calculated_host_listings_count_shared_rooms'\n",
    "]\n",
    "\n",
    "categorical_cols_todo_text = [\n",
    "    'name',\n",
    "    'description'\n",
    "]\n",
    "\n",
    "categorical_cols_todo_date = [\n",
    "    'host_since',\n",
    "    'first_review',\n",
    "    'last_review',\n",
    "]\n",
    "\n",
    "categorical_cols_todo_dummify = [\n",
    "    'host_response_time',\n",
    "    'neighbourhood_cleansed',\n",
    "    'neighbourhood_group_cleansed',\n",
    "    'property_type',\n",
    "    'room_type',\n",
    "]\n",
    "\n",
    "categorical_cols_todo_special = [\n",
    "    'bathrooms_text', # extract features\n",
    "    'amenities', # extract categories in set\n",
    "    'calculated_host_listings_count_shared_rooms' # binarize\n",
    "]\n",
    "\n",
    "assert len(categorical_cols_todo) == \\\n",
    "       len(categorical_cols_todo_text) + \\\n",
    "       len(categorical_cols_todo_date) + \\\n",
    "       len(categorical_cols_todo_dummify) + \\\n",
    "       len(categorical_cols_todo_special)\n",
    "\n",
    "categorical_cols_ready = [\n",
    "    'host_response_rate',\n",
    "    'host_acceptance_rate',\n",
    "    'host_is_superhost',\n",
    "    'host_has_profile_pic',\n",
    "    'host_identity_verified',\n",
    "    'has_availability',\n",
    "    'instant_bookable',\n",
    "    'host_location_nearby',\n",
    "    'has_beach',\n",
    "    'license_reported',\n",
    "]"
   ]
  },
  {
   "cell_type": "code",
   "execution_count": 22,
   "id": "a1a3f7f2-589c-4103-898b-21729bf8a89c",
   "metadata": {},
   "outputs": [
    {
     "name": "stdout",
     "output_type": "stream",
     "text": [
      "<class 'pandas.core.frame.DataFrame'>\n",
      "RangeIndex: 3931 entries, 0 to 3930\n",
      "Data columns (total 10 columns):\n",
      " #   Column                  Non-Null Count  Dtype  \n",
      "---  ------                  --------------  -----  \n",
      " 0   host_response_rate      3931 non-null   float64\n",
      " 1   host_acceptance_rate    3931 non-null   float64\n",
      " 2   host_is_superhost       3931 non-null   int64  \n",
      " 3   host_has_profile_pic    3931 non-null   int64  \n",
      " 4   host_identity_verified  3931 non-null   int64  \n",
      " 5   has_availability        3931 non-null   int64  \n",
      " 6   instant_bookable        3931 non-null   int64  \n",
      " 7   host_location_nearby    3931 non-null   float64\n",
      " 8   has_beach               3931 non-null   int64  \n",
      " 9   license_reported        3931 non-null   int64  \n",
      "dtypes: float64(3), int64(7)\n",
      "memory usage: 307.2 KB\n"
     ]
    }
   ],
   "source": [
    "df[categorical_cols_ready].info()"
   ]
  },
  {
   "cell_type": "markdown",
   "id": "263b661b-e628-45b8-964f-5e7a4164fd43",
   "metadata": {},
   "source": [
    "### 2.2 Extract Variable to Remain with"
   ]
  },
  {
   "cell_type": "code",
   "execution_count": 23,
   "id": "128a46d5-75a3-4073-9814-391b42a4c34a",
   "metadata": {},
   "outputs": [],
   "source": [
    "# Features\n",
    "X = df[numerical_cols+categorical_cols_ready+categorical_cols_todo].copy()\n",
    "X.drop('price',axis=1,inplace=True)\n",
    "# Target\n",
    "y = df['price'].copy()"
   ]
  },
  {
   "cell_type": "code",
   "execution_count": 24,
   "id": "7f00e5be-dde9-440f-a71b-ba122b30fb99",
   "metadata": {},
   "outputs": [
    {
     "name": "stdout",
     "output_type": "stream",
     "text": [
      "<class 'pandas.core.frame.DataFrame'>\n",
      "RangeIndex: 3931 entries, 0 to 3930\n",
      "Data columns (total 49 columns):\n",
      " #   Column                                        Non-Null Count  Dtype  \n",
      "---  ------                                        --------------  -----  \n",
      " 0   bedrooms                                      3931 non-null   float64\n",
      " 1   beds                                          3931 non-null   float64\n",
      " 2   minimum_nights_avg_ntm                        3931 non-null   float64\n",
      " 3   maximum_nights_avg_ntm                        3931 non-null   float64\n",
      " 4   reviews_per_month                             3931 non-null   float64\n",
      " 5   host_total_listings_count                     3931 non-null   float64\n",
      " 6   accommodates                                  3931 non-null   float64\n",
      " 7   minimum_nights                                3931 non-null   float64\n",
      " 8   maximum_nights                                3931 non-null   float64\n",
      " 9   minimum_minimum_nights                        3931 non-null   float64\n",
      " 10  maximum_minimum_nights                        3931 non-null   float64\n",
      " 11  minimum_maximum_nights                        3931 non-null   float64\n",
      " 12  maximum_maximum_nights                        3931 non-null   float64\n",
      " 13  number_of_reviews                             3931 non-null   float64\n",
      " 14  number_of_reviews_ltm                         3931 non-null   float64\n",
      " 15  calculated_host_listings_count                3931 non-null   float64\n",
      " 16  calculated_host_listings_count_entire_homes   3931 non-null   float64\n",
      " 17  calculated_host_listings_count_private_rooms  3931 non-null   float64\n",
      " 18  latitude                                      3931 non-null   float64\n",
      " 19  longitude                                     3931 non-null   float64\n",
      " 20  review_scores_average                         3931 non-null   float64\n",
      " 21  availability_30                               3931 non-null   int64  \n",
      " 22  availability_60                               3931 non-null   int64  \n",
      " 23  availability_90                               3931 non-null   int64  \n",
      " 24  availability_365                              3931 non-null   int64  \n",
      " 25  number_of_reviews_l30d                        3931 non-null   int64  \n",
      " 26  host_response_rate                            3931 non-null   float64\n",
      " 27  host_acceptance_rate                          3931 non-null   float64\n",
      " 28  host_is_superhost                             3931 non-null   int64  \n",
      " 29  host_has_profile_pic                          3931 non-null   int64  \n",
      " 30  host_identity_verified                        3931 non-null   int64  \n",
      " 31  has_availability                              3931 non-null   int64  \n",
      " 32  instant_bookable                              3931 non-null   int64  \n",
      " 33  host_location_nearby                          3931 non-null   float64\n",
      " 34  has_beach                                     3931 non-null   int64  \n",
      " 35  license_reported                              3931 non-null   int64  \n",
      " 36  name                                          3931 non-null   object \n",
      " 37  description                                   3931 non-null   object \n",
      " 38  host_since                                    3931 non-null   object \n",
      " 39  host_response_time                            3931 non-null   object \n",
      " 40  neighbourhood_cleansed                        3931 non-null   object \n",
      " 41  neighbourhood_group_cleansed                  3931 non-null   object \n",
      " 42  property_type                                 3931 non-null   object \n",
      " 43  room_type                                     3931 non-null   object \n",
      " 44  bathrooms_text                                3931 non-null   object \n",
      " 45  amenities                                     3931 non-null   object \n",
      " 46  first_review                                  3931 non-null   object \n",
      " 47  last_review                                   3931 non-null   object \n",
      " 48  calculated_host_listings_count_shared_rooms   3931 non-null   int64  \n",
      "dtypes: float64(24), int64(13), object(12)\n",
      "memory usage: 1.5+ MB\n"
     ]
    }
   ],
   "source": [
    "X.info()"
   ]
  },
  {
   "cell_type": "markdown",
   "id": "ab90db1d-e18d-47e1-9d25-4b018d8f90bf",
   "metadata": {},
   "source": [
    "### 2.3 Encoding of Other Categorical Variables"
   ]
  },
  {
   "cell_type": "markdown",
   "id": "edaa96e6-69a9-44c4-8ce5-f8bc98c4b54c",
   "metadata": {},
   "source": [
    "#### Date: `categorical_cols_todo_date`"
   ]
  },
  {
   "cell_type": "code",
   "execution_count": 25,
   "id": "a71faf52-9324-49ea-b412-e7f1ae2f7258",
   "metadata": {},
   "outputs": [
    {
     "data": {
      "text/plain": [
       "['host_since', 'first_review', 'last_review']"
      ]
     },
     "execution_count": 25,
     "metadata": {},
     "output_type": "execute_result"
    }
   ],
   "source": [
    "categorical_cols_todo_date"
   ]
  },
  {
   "cell_type": "code",
   "execution_count": 26,
   "id": "75bd977b-1bb5-44e8-ba16-00afccbe31d9",
   "metadata": {},
   "outputs": [
    {
     "data": {
      "text/html": [
       "<div>\n",
       "<style scoped>\n",
       "    .dataframe tbody tr th:only-of-type {\n",
       "        vertical-align: middle;\n",
       "    }\n",
       "\n",
       "    .dataframe tbody tr th {\n",
       "        vertical-align: top;\n",
       "    }\n",
       "\n",
       "    .dataframe thead th {\n",
       "        text-align: right;\n",
       "    }\n",
       "</style>\n",
       "<table border=\"1\" class=\"dataframe\">\n",
       "  <thead>\n",
       "    <tr style=\"text-align: right;\">\n",
       "      <th></th>\n",
       "      <th>host_since</th>\n",
       "      <th>first_review</th>\n",
       "      <th>last_review</th>\n",
       "    </tr>\n",
       "  </thead>\n",
       "  <tbody>\n",
       "    <tr>\n",
       "      <th>0</th>\n",
       "      <td>2011-05-31</td>\n",
       "      <td>2011-06-04</td>\n",
       "      <td>2022-03-27</td>\n",
       "    </tr>\n",
       "    <tr>\n",
       "      <th>1</th>\n",
       "      <td>2011-06-03</td>\n",
       "      <td>2012-07-16</td>\n",
       "      <td>2020-11-30</td>\n",
       "    </tr>\n",
       "    <tr>\n",
       "      <th>2</th>\n",
       "      <td>2011-06-12</td>\n",
       "      <td>2011-08-17</td>\n",
       "      <td>2021-08-29</td>\n",
       "    </tr>\n",
       "    <tr>\n",
       "      <th>3</th>\n",
       "      <td>2012-01-10</td>\n",
       "      <td>2014-05-06</td>\n",
       "      <td>2021-10-06</td>\n",
       "    </tr>\n",
       "    <tr>\n",
       "      <th>4</th>\n",
       "      <td>2012-01-10</td>\n",
       "      <td>2012-03-15</td>\n",
       "      <td>2018-06-02</td>\n",
       "    </tr>\n",
       "  </tbody>\n",
       "</table>\n",
       "</div>"
      ],
      "text/plain": [
       "   host_since first_review last_review\n",
       "0  2011-05-31   2011-06-04  2022-03-27\n",
       "1  2011-06-03   2012-07-16  2020-11-30\n",
       "2  2011-06-12   2011-08-17  2021-08-29\n",
       "3  2012-01-10   2014-05-06  2021-10-06\n",
       "4  2012-01-10   2012-03-15  2018-06-02"
      ]
     },
     "execution_count": 26,
     "metadata": {},
     "output_type": "execute_result"
    }
   ],
   "source": [
    "X[categorical_cols_todo_date].head()"
   ]
  },
  {
   "cell_type": "code",
   "execution_count": 27,
   "id": "406b8bfc-d404-4d30-83ab-6485d2db1125",
   "metadata": {},
   "outputs": [],
   "source": [
    "# We convert the dates to days since today\n",
    "today = datetime.datetime(2022,6,17)\n",
    "for col in categorical_cols_todo_date:\n",
    "    X[col] = pd.to_datetime(X[col], format='%Y-%m-%d')\n",
    "    X[col] = X[col].apply(lambda col: int((today-col).days))"
   ]
  },
  {
   "cell_type": "code",
   "execution_count": 28,
   "id": "15ae5481-a155-4893-ac5f-51a8cc8b1571",
   "metadata": {},
   "outputs": [
    {
     "data": {
      "text/html": [
       "<div>\n",
       "<style scoped>\n",
       "    .dataframe tbody tr th:only-of-type {\n",
       "        vertical-align: middle;\n",
       "    }\n",
       "\n",
       "    .dataframe tbody tr th {\n",
       "        vertical-align: top;\n",
       "    }\n",
       "\n",
       "    .dataframe thead th {\n",
       "        text-align: right;\n",
       "    }\n",
       "</style>\n",
       "<table border=\"1\" class=\"dataframe\">\n",
       "  <thead>\n",
       "    <tr style=\"text-align: right;\">\n",
       "      <th></th>\n",
       "      <th>host_since</th>\n",
       "      <th>first_review</th>\n",
       "      <th>last_review</th>\n",
       "    </tr>\n",
       "  </thead>\n",
       "  <tbody>\n",
       "    <tr>\n",
       "      <th>0</th>\n",
       "      <td>4035</td>\n",
       "      <td>4031</td>\n",
       "      <td>82</td>\n",
       "    </tr>\n",
       "    <tr>\n",
       "      <th>1</th>\n",
       "      <td>4032</td>\n",
       "      <td>3623</td>\n",
       "      <td>564</td>\n",
       "    </tr>\n",
       "    <tr>\n",
       "      <th>2</th>\n",
       "      <td>4023</td>\n",
       "      <td>3957</td>\n",
       "      <td>292</td>\n",
       "    </tr>\n",
       "    <tr>\n",
       "      <th>3</th>\n",
       "      <td>3811</td>\n",
       "      <td>2964</td>\n",
       "      <td>254</td>\n",
       "    </tr>\n",
       "    <tr>\n",
       "      <th>4</th>\n",
       "      <td>3811</td>\n",
       "      <td>3746</td>\n",
       "      <td>1476</td>\n",
       "    </tr>\n",
       "  </tbody>\n",
       "</table>\n",
       "</div>"
      ],
      "text/plain": [
       "   host_since  first_review  last_review\n",
       "0        4035          4031           82\n",
       "1        4032          3623          564\n",
       "2        4023          3957          292\n",
       "3        3811          2964          254\n",
       "4        3811          3746         1476"
      ]
     },
     "execution_count": 28,
     "metadata": {},
     "output_type": "execute_result"
    }
   ],
   "source": [
    "X[categorical_cols_todo_date].head()"
   ]
  },
  {
   "cell_type": "markdown",
   "id": "41ef56fc-f22b-4a97-a46b-f2475deaa255",
   "metadata": {},
   "source": [
    "#### Text Language: `categorical_cols_todo_text`"
   ]
  },
  {
   "cell_type": "markdown",
   "id": "5ca4cee2-d55e-4dd6-8f58-f8fba46fc637",
   "metadata": {},
   "source": [
    "We will extract the language of the text."
   ]
  },
  {
   "cell_type": "code",
   "execution_count": 29,
   "id": "3adc5240-44f1-40f4-bf88-820d355454b2",
   "metadata": {},
   "outputs": [
    {
     "data": {
      "text/plain": [
       "['name', 'description']"
      ]
     },
     "execution_count": 29,
     "metadata": {},
     "output_type": "execute_result"
    }
   ],
   "source": [
    "categorical_cols_todo_text"
   ]
  },
  {
   "cell_type": "code",
   "execution_count": 30,
   "id": "1a1632fb-4277-481e-8d14-06b80ea1ac23",
   "metadata": {},
   "outputs": [
    {
     "data": {
      "text/plain": [
       "0       Great attic+terrace+parking. Beach views. ESS0...\n",
       "1                     Hab Luminosa,tranquila,baño privado\n",
       "2                           Apto San Juan de Gaztelugatxe\n",
       "3                     Luxury w/terrace near the beach WIF\n",
       "4                        Near the beach with terrace WIFI\n",
       "                              ...                        \n",
       "3926     Apartment Virgen del Valle-(Breakfast included).\n",
       "3927                                      Chambre Tantana\n",
       "3928                                  Appartement Urrugne\n",
       "3929                    RiojaValley: Apartamento TRUJALES\n",
       "3930           Duplex céntrico en primera línea de playa.\n",
       "Name: name, Length: 3931, dtype: object"
      ]
     },
     "execution_count": 30,
     "metadata": {},
     "output_type": "execute_result"
    }
   ],
   "source": [
    "X['name']"
   ]
  },
  {
   "cell_type": "code",
   "execution_count": 31,
   "id": "410f7a54-558e-4153-9852-399286c8c63c",
   "metadata": {},
   "outputs": [],
   "source": [
    "import spacy\n",
    "from spacy_langdetect import LanguageDetector\n",
    "from spacy.language import Language\n",
    "\n",
    "# Now, we need to create a factory for the LanguageDetector added to the pipe\n",
    "@Language.factory('language_detector')\n",
    "def language_detector(nlp, name):\n",
    "    return LanguageDetector()"
   ]
  },
  {
   "cell_type": "code",
   "execution_count": 32,
   "id": "f0738046-fac3-40c2-b2e4-320a0b762db4",
   "metadata": {},
   "outputs": [],
   "source": [
    "# We load our English model\n",
    "nlp = spacy.load('en_core_web_sm')"
   ]
  },
  {
   "cell_type": "code",
   "execution_count": 33,
   "id": "c591524f-6851-407a-a636-013d42638dac",
   "metadata": {},
   "outputs": [
    {
     "data": {
      "text/plain": [
       "<spacy_langdetect.spacy_langdetect.LanguageDetector at 0x7f9774828f10>"
      ]
     },
     "execution_count": 33,
     "metadata": {},
     "output_type": "execute_result"
    }
   ],
   "source": [
    "#nlp.add_pipe(LanguageDetector(), name='language_detector', last=True)\n",
    "nlp.add_pipe('language_detector', last=True)"
   ]
  },
  {
   "cell_type": "code",
   "execution_count": 34,
   "id": "54dedf59-ba83-4488-8236-38b34ad14d7e",
   "metadata": {},
   "outputs": [
    {
     "name": "stdout",
     "output_type": "stream",
     "text": [
      "{'language': 'en', 'score': 0.9999957680106812}\n",
      "{'language': 'es', 'score': 0.9999944609018205}\n",
      "{'language': 'de', 'score': 0.9999990058434678}\n",
      "{'language': 'fr', 'score': 0.9999968229377125}\n"
     ]
    }
   ],
   "source": [
    "# Small test with the most expected languages\n",
    "text1 = 'This is an english text.'\n",
    "text2 = 'Este es un texto en castellano.'\n",
    "text3 = 'Dieser Text ist auf Deutsch.'\n",
    "text4 = 'Le Text est en Francais.'\n",
    "texts = [text1, text2, text3, text4]\n",
    "for text in texts:\n",
    "    doc = nlp(text)\n",
    "    # Document level language detection.\n",
    "    print(doc._.language)"
   ]
  },
  {
   "cell_type": "code",
   "execution_count": 35,
   "id": "24dee552-befd-4c2e-bb40-6d7e2a406183",
   "metadata": {},
   "outputs": [],
   "source": [
    "# Define language detection function to apply\n",
    "def detect_language(text):\n",
    "    doc = nlp(text)\n",
    "    return doc._.language['language']"
   ]
  },
  {
   "cell_type": "code",
   "execution_count": 36,
   "id": "890fac01-bce0-4682-9809-460606a06cab",
   "metadata": {},
   "outputs": [],
   "source": [
    "for col in categorical_cols_todo_text:\n",
    "    X[col+'_language'] = X[col].apply(detect_language)"
   ]
  },
  {
   "cell_type": "code",
   "execution_count": 42,
   "id": "d8a221f9-cdb4-4f5d-af44-4798c20558f7",
   "metadata": {},
   "outputs": [
    {
     "data": {
      "image/png": "[encoded data removed]",
      "text/plain": [
       "<Figure size 864x432 with 1 Axes>"
      ]
     },
     "metadata": {
      "needs_background": "light"
     },
     "output_type": "display_data"
    },
    {
     "data": {
      "image/png": "[encoded data removed]",
      "text/plain": [
       "<Figure size 864x432 with 1 Axes>"
      ]
     },
     "metadata": {
      "needs_background": "light"
     },
     "output_type": "display_data"
    }
   ],
   "source": [
    "# A visualization of the languages\n",
    "for col in categorical_cols_todo_text:\n",
    "    plt.figure(figsize=(12,6))\n",
    "    X[col+'_language'].value_counts().plot(kind='bar')\n",
    "    plt.title(col+'_language')\n",
    "    plt.show()"
   ]
  },
  {
   "cell_type": "markdown",
   "id": "14f1c7c4-a964-4f93-b5f0-02989b9db5f7",
   "metadata": {},
   "source": [
    "Decision: we drop `name_language` and compress `description_language` to `['en', 'es', 'fr', 'other']`. Reasons:\n",
    "\n",
    "- Maybe it is better to focus on one text field instead of two.\n",
    "- The majority of languages are English and Spanish; however, French visitors are very common in the region."
   ]
  },
  {
   "cell_type": "code",
   "execution_count": 43,
   "id": "dc5ea6bd-ebef-4769-9e7f-3dfbd43a699a",
   "metadata": {},
   "outputs": [],
   "source": [
    "# Drop name-related fiels\n",
    "X.drop(['name', 'name_language'],axis=1,inplace=True)"
   ]
  },
  {
   "cell_type": "code",
   "execution_count": 46,
   "id": "4092f5ae-0ca9-4110-ac84-57b8ea3e33dd",
   "metadata": {},
   "outputs": [
    {
     "data": {
      "text/plain": [
       "False"
      ]
     },
     "execution_count": 46,
     "metadata": {},
     "output_type": "execute_result"
    }
   ],
   "source": [
    "# Quick check\n",
    "'name_language' in X.columns"
   ]
  },
  {
   "cell_type": "code",
   "execution_count": 56,
   "id": "ff61ca32-c15b-4a74-8391-3d42d8140863",
   "metadata": {},
   "outputs": [
    {
     "data": {
      "text/plain": [
       "array(['en', 'es', 'other', 'fr'], dtype=object)"
      ]
     },
     "execution_count": 56,
     "metadata": {},
     "output_type": "execute_result"
    }
   ],
   "source": [
    "# Which are all the different languages that were detected?\n",
    "X['description_language'].unique()"
   ]
  },
  {
   "cell_type": "code",
   "execution_count": 57,
   "id": "a7c3bcd2-ddf4-4d4c-9cff-1f69f09c7e40",
   "metadata": {},
   "outputs": [],
   "source": [
    "# Manually group the minority languages together\n",
    "X['description_language'].replace({'de':'other',\n",
    "                                   'pt':'other',\n",
    "                                   'da':'other',\n",
    "                                   'ca':'other',\n",
    "                                   'hr':'other',\n",
    "                                   'it':'other',\n",
    "                                   'fi':'other',\n",
    "                                   'sv':'other',\n",
    "                                   'vi':'other'},inplace=True)"
   ]
  },
  {
   "cell_type": "code",
   "execution_count": 58,
   "id": "0c42eaa2-e4e5-4b4f-927b-965ee48446f2",
   "metadata": {},
   "outputs": [
    {
     "data": {
      "text/plain": [
       "array(['en', 'es', 'other', 'fr'], dtype=object)"
      ]
     },
     "execution_count": 58,
     "metadata": {},
     "output_type": "execute_result"
    }
   ],
   "source": [
    "X['description_language'].unique()"
   ]
  },
  {
   "cell_type": "code",
   "execution_count": 59,
   "id": "b4533c34-e844-4f8a-9fd6-20796e1d0133",
   "metadata": {},
   "outputs": [
    {
     "data": {
      "image/png": "[encoded data removed]",
      "text/plain": [
       "<Figure size 864x432 with 1 Axes>"
      ]
     },
     "metadata": {
      "needs_background": "light"
     },
     "output_type": "display_data"
    }
   ],
   "source": [
    "plt.figure(figsize=(12,6))\n",
    "X['description_language'].value_counts().plot(kind='bar')\n",
    "plt.title('decription_language')\n",
    "plt.show()"
   ]
  },
  {
   "cell_type": "code",
   "execution_count": 60,
   "id": "e0881897-9208-4095-a0c7-86b0ec7c6545",
   "metadata": {},
   "outputs": [
    {
     "data": {
      "text/plain": [
       "0"
      ]
     },
     "execution_count": 60,
     "metadata": {},
     "output_type": "execute_result"
    }
   ],
   "source": [
    "# Check if we have created any NaN values\n",
    "X['description_language'].isnull().sum()"
   ]
  },
  {
   "cell_type": "code",
   "execution_count": 90,
   "id": "9dd67774-949d-4485-85ab-fd74e1c55593",
   "metadata": {},
   "outputs": [
    {
     "data": {
      "text/plain": [
       "['neighbourhood_group_cleansed',\n",
       " 'property_type',\n",
       " 'host_response_time',\n",
       " 'neighbourhood_cleansed',\n",
       " 'description_language',\n",
       " 'room_type']"
      ]
     },
     "execution_count": 90,
     "metadata": {},
     "output_type": "execute_result"
    }
   ],
   "source": [
    "# Add the new generated column to the list to be dummified\n",
    "categorical_cols_todo_dummify = list(categorical_cols_todo_dummify) + ['description_language']\n",
    "categorical_cols_todo_dummify = set(categorical_cols_todo_dummify)\n",
    "categorical_cols_todo_dummify = list(categorical_cols_todo_dummify)\n",
    "categorical_cols_todo_dummify"
   ]
  },
  {
   "cell_type": "code",
   "execution_count": 94,
   "id": "78010a5b-a83d-4d3c-bab9-471f900328be",
   "metadata": {},
   "outputs": [
    {
     "name": "stdout",
     "output_type": "stream",
     "text": [
      "Column already removed!\n"
     ]
    }
   ],
   "source": [
    "# Remove the description text\n",
    "try:\n",
    "    X.drop('description',axis=1,inplace=True)\n",
    "except KeyError as err:\n",
    "    print(\"Column already removed!\")"
   ]
  },
  {
   "cell_type": "markdown",
   "id": "72324b6a-c1a6-40e8-95c7-b9fd993da04a",
   "metadata": {},
   "source": [
    "#### Special: `categorical_cols_todo_special`: `'bathrooms_text'`"
   ]
  },
  {
   "cell_type": "code",
   "execution_count": 69,
   "id": "b73f5010-6398-4ca0-a2d3-627d957fcaca",
   "metadata": {},
   "outputs": [
    {
     "data": {
      "text/plain": [
       "['bathrooms_text', 'amenities', 'calculated_host_listings_count_shared_rooms']"
      ]
     },
     "execution_count": 69,
     "metadata": {},
     "output_type": "execute_result"
    }
   ],
   "source": [
    "categorical_cols_todo_special"
   ]
  },
  {
   "cell_type": "code",
   "execution_count": 72,
   "id": "6fad53d2-a5e4-4ad6-8077-a7e11d787a76",
   "metadata": {},
   "outputs": [
    {
     "data": {
      "text/plain": [
       "['1 bath',\n",
       " '1 private bath',\n",
       " '2 baths',\n",
       " '3.5 baths',\n",
       " '5 baths',\n",
       " '2 shared baths',\n",
       " '3 baths',\n",
       " 'Shared half-bath',\n",
       " '2.5 baths',\n",
       " '1 shared bath',\n",
       " '1.5 baths',\n",
       " '1.5 shared baths',\n",
       " 'Half-bath',\n",
       " '3 shared baths',\n",
       " '0 shared baths',\n",
       " '4.5 baths',\n",
       " '8 baths',\n",
       " '4 baths',\n",
       " '0 baths',\n",
       " '7.5 shared baths',\n",
       " '6.5 baths',\n",
       " '7 shared baths',\n",
       " '5 shared baths',\n",
       " '6 baths',\n",
       " '3.5 shared baths',\n",
       " '4.5 shared baths',\n",
       " '2.5 shared baths',\n",
       " '9.5 baths',\n",
       " '5.5 baths',\n",
       " '6 shared baths',\n",
       " '4 shared baths',\n",
       " '8 shared baths',\n",
       " '5.5 shared baths',\n",
       " '7.5 baths',\n",
       " '8.5 baths']"
      ]
     },
     "execution_count": 72,
     "metadata": {},
     "output_type": "execute_result"
    }
   ],
   "source": [
    "# Observation: all texts contain a number + bath and then optionally the word shared/private\n",
    "# We use that to extract:\n",
    "# - bathrooms_number\n",
    "# - bathrooms_shared\n",
    "# - bathrooms_private\n",
    "list(X['bathrooms_text'].unique())"
   ]
  },
  {
   "cell_type": "code",
   "execution_count": 73,
   "id": "da1f64f7-8367-41ad-90a8-471bba16b3e8",
   "metadata": {},
   "outputs": [],
   "source": [
    "# Map the exception categories: 'Shared half-bath', 'Half-bath'\n",
    "X['bathrooms_text'].replace({'Shared half-bath':'0.5 shared baths',\n",
    "                             'Half-bath':'0.5 shared baths'},inplace=True)"
   ]
  },
  {
   "cell_type": "code",
   "execution_count": 75,
   "id": "90e62c78-ca3e-4793-a67a-8a479af172a9",
   "metadata": {},
   "outputs": [
    {
     "data": {
      "text/plain": [
       "['1 bath',\n",
       " '1 private bath',\n",
       " '2 baths',\n",
       " '3.5 baths',\n",
       " '5 baths',\n",
       " '2 shared baths',\n",
       " '3 baths',\n",
       " '0.5 shared baths',\n",
       " '2.5 baths',\n",
       " '1 shared bath',\n",
       " '1.5 baths',\n",
       " '1.5 shared baths',\n",
       " '3 shared baths',\n",
       " '0 shared baths',\n",
       " '4.5 baths',\n",
       " '8 baths',\n",
       " '4 baths',\n",
       " '0 baths',\n",
       " '7.5 shared baths',\n",
       " '6.5 baths',\n",
       " '7 shared baths',\n",
       " '5 shared baths',\n",
       " '6 baths',\n",
       " '3.5 shared baths',\n",
       " '4.5 shared baths',\n",
       " '2.5 shared baths',\n",
       " '9.5 baths',\n",
       " '5.5 baths',\n",
       " '6 shared baths',\n",
       " '4 shared baths',\n",
       " '8 shared baths',\n",
       " '5.5 shared baths',\n",
       " '7.5 baths',\n",
       " '8.5 baths']"
      ]
     },
     "execution_count": 75,
     "metadata": {},
     "output_type": "execute_result"
    }
   ],
   "source": [
    "list(X['bathrooms_text'].unique())"
   ]
  },
  {
   "cell_type": "code",
   "execution_count": 77,
   "id": "45b56e05-3771-40f9-af08-cb2e6e85152e",
   "metadata": {},
   "outputs": [],
   "source": [
    "X['bathrooms_number'] = X['bathrooms_text'].apply(lambda text: float(text.split(' ')[0]))"
   ]
  },
  {
   "cell_type": "code",
   "execution_count": 80,
   "id": "a0a78572-3e39-44c0-8a68-29f3a6cd7e0d",
   "metadata": {},
   "outputs": [
    {
     "data": {
      "text/plain": [
       "<AxesSubplot:ylabel='Frequency'>"
      ]
     },
     "execution_count": 80,
     "metadata": {},
     "output_type": "execute_result"
    },
    {
     "data": {
      "image/png": "[encoded data removed]",
      "text/plain": [
       "<Figure size 432x288 with 1 Axes>"
      ]
     },
     "metadata": {
      "needs_background": "light"
     },
     "output_type": "display_data"
    }
   ],
   "source": [
    "X['bathrooms_number'].plot(kind=\"hist\")"
   ]
  },
  {
   "cell_type": "code",
   "execution_count": 81,
   "id": "e7c7a139-9183-4c40-ba6a-b4802530b359",
   "metadata": {},
   "outputs": [
    {
     "data": {
      "text/plain": [
       "0"
      ]
     },
     "execution_count": 81,
     "metadata": {},
     "output_type": "execute_result"
    }
   ],
   "source": [
    "X['bathrooms_number'].isnull().sum()"
   ]
  },
  {
   "cell_type": "code",
   "execution_count": 83,
   "id": "9fabda74-f386-4a6a-aa49-5cf1fcd0403d",
   "metadata": {},
   "outputs": [
    {
     "data": {
      "text/plain": [
       "False"
      ]
     },
     "execution_count": 83,
     "metadata": {},
     "output_type": "execute_result"
    }
   ],
   "source": [
    "'private' in '6 shared baths'"
   ]
  },
  {
   "cell_type": "code",
   "execution_count": 84,
   "id": "40f2d272-8e92-4258-a346-cb49705afb5a",
   "metadata": {},
   "outputs": [],
   "source": [
    "X['bathrooms_private'] = X['bathrooms_text'].apply(lambda text: 1 if 'private' in text else 0)"
   ]
  },
  {
   "cell_type": "code",
   "execution_count": 85,
   "id": "2e29784a-f1ac-456a-b448-36f2c8d27155",
   "metadata": {},
   "outputs": [],
   "source": [
    "X['bathrooms_shared'] = X['bathrooms_text'].apply(lambda text: 1 if 'shared' in text else 0)"
   ]
  },
  {
   "cell_type": "code",
   "execution_count": 86,
   "id": "48997aa0-5b35-41a1-b8ab-f814c80b90a4",
   "metadata": {},
   "outputs": [
    {
     "data": {
      "text/plain": [
       "0"
      ]
     },
     "execution_count": 86,
     "metadata": {},
     "output_type": "execute_result"
    }
   ],
   "source": [
    "X['bathrooms_private'].isnull().sum()"
   ]
  },
  {
   "cell_type": "code",
   "execution_count": 87,
   "id": "cbc7709f-1f05-47b2-b727-c2869b328124",
   "metadata": {},
   "outputs": [
    {
     "data": {
      "text/plain": [
       "0"
      ]
     },
     "execution_count": 87,
     "metadata": {},
     "output_type": "execute_result"
    }
   ],
   "source": [
    "X['bathrooms_shared'].isnull().sum()"
   ]
  },
  {
   "cell_type": "code",
   "execution_count": 88,
   "id": "20d433f4-e5ec-4c52-b1ab-770f724f9056",
   "metadata": {},
   "outputs": [
    {
     "data": {
      "text/plain": [
       "<AxesSubplot:>"
      ]
     },
     "execution_count": 88,
     "metadata": {},
     "output_type": "execute_result"
    },
    {
     "data": {
      "image/png": "[encoded data removed]",
      "text/plain": [
       "<Figure size 432x288 with 1 Axes>"
      ]
     },
     "metadata": {
      "needs_background": "light"
     },
     "output_type": "display_data"
    }
   ],
   "source": [
    "X['bathrooms_private'].value_counts().plot(kind=\"bar\")"
   ]
  },
  {
   "cell_type": "code",
   "execution_count": 89,
   "id": "27bdbd97-c2c1-4d0d-9f93-344daa0008eb",
   "metadata": {},
   "outputs": [
    {
     "data": {
      "text/plain": [
       "<AxesSubplot:>"
      ]
     },
     "execution_count": 89,
     "metadata": {},
     "output_type": "execute_result"
    },
    {
     "data": {
      "image/png": "[encoded data removed]",
      "text/plain": [
       "<Figure size 432x288 with 1 Axes>"
      ]
     },
     "metadata": {
      "needs_background": "light"
     },
     "output_type": "display_data"
    }
   ],
   "source": [
    "X['bathrooms_shared'].value_counts().plot(kind=\"bar\")"
   ]
  },
  {
   "cell_type": "code",
   "execution_count": 95,
   "id": "55a52f3f-5b3c-43a0-9029-74b2e8c5707c",
   "metadata": {},
   "outputs": [],
   "source": [
    "# Remove the bathrooms text\n",
    "try:\n",
    "    X.drop('bathrooms_text',axis=1,inplace=True)\n",
    "except KeyError as err:\n",
    "    print(\"Column already removed!\")"
   ]
  },
  {
   "cell_type": "markdown",
   "id": "7cec07e3-dcb4-4ccf-a74f-17007c259025",
   "metadata": {},
   "source": [
    "#### Special: `categorical_cols_todo_special`: `'amenities'`"
   ]
  },
  {
   "cell_type": "markdown",
   "id": "4687484c-388f-4ffb-a6c7-9df987a497f3",
   "metadata": {},
   "source": [
    "We need to create a set of all amenities that exist. Then, each amenity will be a dummy variable."
   ]
  },
  {
   "cell_type": "code",
   "execution_count": 98,
   "id": "e7d1cf10-5ba9-4a41-9988-b735ebb766e0",
   "metadata": {},
   "outputs": [
    {
     "data": {
      "text/plain": [
       "0       [\"Cooking basics\", \"Iron\", \"Host greets you\", ...\n",
       "1       [\"Dishwasher\", \"Laundromat nearby\", \"Drying ra...\n",
       "2       [\"Dishwasher\", \"Private patio or balcony\", \"Co...\n",
       "3       [\"Dishwasher\", \"Backyard\", \"Cooking basics\", \"...\n",
       "4       [\"Dishwasher\", \"Cooking basics\", \"Air conditio...\n",
       "                              ...                        \n",
       "3926    [\"Dishwasher\", \"Freezer\", \"Pocket wifi\", \"Cook...\n",
       "3927    [\"Iron\", \"Patio or balcony\", \"Long term stays ...\n",
       "3928    [\"Drying rack for clothing\", \"Freezer\", \"Cloth...\n",
       "3929    [\"Smart lock\", \"Private patio or balcony\", \"Ir...\n",
       "3930    [\"Indoor fireplace\", \"Dishwasher\", \"Cooking ba...\n",
       "Name: amenities, Length: 3931, dtype: object"
      ]
     },
     "execution_count": 98,
     "metadata": {},
     "output_type": "execute_result"
    }
   ],
   "source": [
    "X['amenities']"
   ]
  },
  {
   "cell_type": "code",
   "execution_count": 114,
   "id": "2b3c789c-8493-4eb9-849b-28937531ec77",
   "metadata": {},
   "outputs": [
    {
     "name": "stdout",
     "output_type": "stream",
     "text": [
      "Cooking basics\n",
      "Iron\n",
      "Host greets you\n",
      "Patio or balcony\n",
      "Long term stays allowed\n",
      "Shampoo\n",
      "Coffee maker\n",
      "Luggage dropoff allowed\n",
      "Kitchen\n",
      "Dedicated workspace\n",
      "Wifi\n",
      "Heating\n",
      "Crib\n",
      "Elevator\n",
      "TV\n",
      "Essentials\n",
      "Refrigerator\n",
      "First aid kit\n",
      "Dishes and silverware\n",
      "Free parking on premises\n",
      "Washer\n",
      "Stove\n",
      "Hangers\n",
      "Hot water\n",
      "Children\\u2019s books and toys\n",
      "Hair dryer\n",
      "Microwave\n",
      "Oven\n"
     ]
    }
   ],
   "source": [
    "index = 0\n",
    "amenity_types = X['amenities'].iloc[index].split(\",\")\n",
    "for amenity in amenity_types:\n",
    "    print(amenity.split('\"')[1])"
   ]
  },
  {
   "cell_type": "code",
   "execution_count": 121,
   "id": "36460436-4346-49bf-9f6e-99ab77ccd2d8",
   "metadata": {},
   "outputs": [],
   "source": [
    "amenities_set = set()\n",
    "for i in range(X.shape[0]):\n",
    "    amenity_types = X['amenities'].iloc[i].split(\",\")\n",
    "    for amenity in amenity_types:\n",
    "        try:\n",
    "            amenity_item = amenity.split('\"')\n",
    "            if len(amenity_item) == 1:\n",
    "                amenities_set.add(amenity_item[0][1:])\n",
    "            else:\n",
    "                amenities_set.add(amenity_item[1])                \n",
    "        except IndexError as err:\n",
    "            print(len(amenity_item))\n",
    "            print('.'+amenity_item[0]+'.')\n",
    "            print(len(amenity_item[0]))"
   ]
  },
  {
   "cell_type": "code",
   "execution_count": 123,
   "id": "4c435e1b-345d-4d29-9bc9-8729d1a0bc11",
   "metadata": {},
   "outputs": [
    {
     "data": {
      "text/plain": [
       "636"
      ]
     },
     "execution_count": 123,
     "metadata": {},
     "output_type": "execute_result"
    }
   ],
   "source": [
    "len(amenities_set)"
   ]
  },
  {
   "cell_type": "code",
   "execution_count": 124,
   "id": "b0a5573a-9d13-4023-9c76-1ba4b0ce8a22",
   "metadata": {},
   "outputs": [
    {
     "data": {
      "text/plain": [
       "{'',\n",
       " '- body soap',\n",
       " '2-5 years old',\n",
       " '20\\\\',\n",
       " '21\\\\',\n",
       " '24\\\\',\n",
       " '27\\\\',\n",
       " '28\\\\',\n",
       " '30\\\\',\n",
       " '31\\\\',\n",
       " '32\\\\',\n",
       " '34\\\\',\n",
       " '35\\\\',\n",
       " '37\\\\',\n",
       " '39\\\\',\n",
       " '40\\\\',\n",
       " '42\\\\',\n",
       " '43\\\\',\n",
       " '45\\\\',\n",
       " '46\\\\',\n",
       " '47\\\\',\n",
       " '48\\\\',\n",
       " '49\\\\',\n",
       " '5-10 years old',\n",
       " '50\\\\',\n",
       " '52\\\\',\n",
       " '54\\\\',\n",
       " '55\\\\',\n",
       " '60\\\\',\n",
       " '65\\\\',\n",
       " '75\\\\',\n",
       " '77\\\\',\n",
       " '80\\\\',\n",
       " 'AEG refrigerator',\n",
       " 'AEG stainless steel oven',\n",
       " 'AESOP body soap',\n",
       " 'Acero inox refrigerator',\n",
       " 'Air conditioning',\n",
       " 'Altavoz - Blouutood Bluetooth sound system',\n",
       " 'Amazon Prime Video',\n",
       " 'Amenities para la primera noche. body soap',\n",
       " 'Amigo de la Naturaleza body soap',\n",
       " 'Amigo de la Naturaleza conditioner',\n",
       " 'Amigo de la Naturaleza shampoo',\n",
       " 'Aminities body soap',\n",
       " 'Apple TV',\n",
       " 'Axe body soap',\n",
       " 'BBQ grill',\n",
       " 'BOSCH induction stove',\n",
       " 'BOSCH refrigerator',\n",
       " 'Baby bath',\n",
       " 'Baby monitor',\n",
       " 'Baby safety gates',\n",
       " 'Babysitter recommendations',\n",
       " 'Backyard',\n",
       " 'Baking sheet',\n",
       " 'Balay  electric stove',\n",
       " 'Balay  oven',\n",
       " 'Balay (compartido)  refrigerator',\n",
       " 'Balay electric stove',\n",
       " 'Balay induction stove',\n",
       " 'Balay oven',\n",
       " 'Balay refrigerator',\n",
       " 'Balay stainless steel electric stove',\n",
       " 'Balay stainless steel induction stove',\n",
       " 'Balay stainless steel oven',\n",
       " 'Balay stove',\n",
       " 'Barbecue utensils',\n",
       " 'Bathroom essentials',\n",
       " 'Bathtub',\n",
       " 'Beach essentials',\n",
       " 'Beachfront',\n",
       " 'Bed linens',\n",
       " 'Bedroom comforts',\n",
       " 'Beko  stainless steel oven',\n",
       " 'Beko oven',\n",
       " 'Belle body soap',\n",
       " 'BeoSound 2 Bang & Olufsen  sound system with aux',\n",
       " 'BeoSound2 Bang&Olufsen Bluetooth sound system',\n",
       " 'Bidet',\n",
       " 'Bikes',\n",
       " 'Blanca  body soap',\n",
       " 'Blanca body soap',\n",
       " 'Blanca conditioner',\n",
       " 'Blanca shampoo',\n",
       " 'Bluetooth sound system',\n",
       " 'Board games',\n",
       " 'Boat slip',\n",
       " 'Body soap',\n",
       " 'Bosch induction stove',\n",
       " 'Bosch oven',\n",
       " 'Bosch refrigerator',\n",
       " 'Bosch stainless steel oven',\n",
       " 'Bosh  induction stove',\n",
       " 'Bosh oven',\n",
       " 'Bosh refrigerator',\n",
       " 'Bread maker',\n",
       " 'Breakfast',\n",
       " 'Buena body soap',\n",
       " 'Building staff',\n",
       " 'Cable TV',\n",
       " 'Carbon monoxide alarm',\n",
       " 'Ceiling fan',\n",
       " 'Central air conditioning',\n",
       " 'Central heating',\n",
       " 'Champ\\\\u00fa y gel para primer d\\\\u00eda  shampoo',\n",
       " 'Changing table',\n",
       " 'Children\\\\u2019s books and toys',\n",
       " 'Children\\\\u2019s books and toys for ages 0-2 years old',\n",
       " 'Children\\\\u2019s books and toys for ages 0-2 years old and 2-5 years old',\n",
       " 'Children\\\\u2019s books and toys for ages 10+ years old',\n",
       " 'Children\\\\u2019s books and toys for ages 2-5 years old',\n",
       " 'Children\\\\u2019s books and toys for ages 2-5 years old and 10+ years old',\n",
       " 'Children\\\\u2019s books and toys for ages 2-5 years old and 5-10 years old',\n",
       " 'Children\\\\u2019s books and toys for ages 5-10 years old',\n",
       " 'Children\\\\u2019s books and toys for ages 5-10 years old and 10+ years old',\n",
       " 'Children\\\\u2019s dinnerware',\n",
       " 'Chromecast',\n",
       " 'Classic body soap',\n",
       " 'Classic shampoo',\n",
       " 'Cleaning before checkout',\n",
       " 'Cleaning products',\n",
       " 'Clothing storage',\n",
       " 'Clothing storage: closet',\n",
       " 'Clothing storage: closet and dresser',\n",
       " 'Clothing storage: closet and walk-in closet',\n",
       " 'Clothing storage: closet and wardrobe',\n",
       " 'Clothing storage: dresser',\n",
       " 'Clothing storage: dresser and closet',\n",
       " 'Clothing storage: dresser and wardrobe',\n",
       " 'Clothing storage: walk-in closet',\n",
       " 'Clothing storage: walk-in closet and closet',\n",
       " 'Clothing storage: walk-in closet and dresser',\n",
       " 'Clothing storage: wardrobe',\n",
       " 'Clothing storage: wardrobe and closet',\n",
       " 'Clothing storage: wardrobe and dresser',\n",
       " 'Clothing storage: wardrobe and walk-in closet',\n",
       " 'Coffee maker',\n",
       " 'Combi Balay  refrigerator',\n",
       " 'Conditioner',\n",
       " 'Cooking basics',\n",
       " 'Crib',\n",
       " 'Damana body soap',\n",
       " 'Damana shampoo',\n",
       " 'De Dietrich  induction stove',\n",
       " 'Dedicated workspace',\n",
       " 'Dedicated workspace: ',\n",
       " 'Dedicated workspace: desk',\n",
       " 'Dedicated workspace: desk and office chair',\n",
       " 'Dedicated workspace: desk and table',\n",
       " 'Dedicated workspace: monitor',\n",
       " 'Dedicated workspace: office chair',\n",
       " 'Dedicated workspace: office chair and desk',\n",
       " 'Dedicated workspace: office chair and table',\n",
       " 'Dedicated workspace: table',\n",
       " 'Dedicated workspace: table and desk',\n",
       " 'Dedicated workspace: table and office chair',\n",
       " 'Deliplus body soap',\n",
       " 'Deliplus conditioner',\n",
       " 'Deliplus shampoo',\n",
       " 'Depende el momento  body soap',\n",
       " 'Dining table',\n",
       " 'Dishes and silverware',\n",
       " 'Dishwasher',\n",
       " 'Dove body soap',\n",
       " 'Dryer',\n",
       " 'Dryer \\\\u2013 In building',\n",
       " 'Dryer \\\\u2013\\\\u00a0In unit',\n",
       " 'Drying rack for clothing',\n",
       " 'Duschgel body soap',\n",
       " 'EGUI mando y altavoces 5\\\\',\n",
       " 'EGi Audio Solutions Bluetooth sound system',\n",
       " 'ELEGANCE refrigerator',\n",
       " 'ELVIVE shampoo',\n",
       " 'EV charger',\n",
       " 'EXtremme conditioner',\n",
       " 'Eco Organic shampoo',\n",
       " 'Eco body soap',\n",
       " 'Eco shampoo',\n",
       " 'Edesa refrigerator',\n",
       " 'Edifier Bluetooth sound system',\n",
       " 'Electric stove',\n",
       " 'Elevator',\n",
       " 'Essentials',\n",
       " 'Estandar miele refrigerator',\n",
       " 'Ethernet connection',\n",
       " 'Extra pillows and blankets',\n",
       " 'Fagor  refrigerator',\n",
       " 'Fagor induction stove',\n",
       " 'Fagor refrigerator',\n",
       " 'Fagor stainless steel oven',\n",
       " 'Fagor stove',\n",
       " 'Fast wifi \\\\u2013 101 Mbps',\n",
       " 'Fast wifi \\\\u2013 102 Mbps',\n",
       " 'Fast wifi \\\\u2013 103 Mbps',\n",
       " 'Fast wifi \\\\u2013 109 Mbps',\n",
       " 'Fast wifi \\\\u2013 111 Mbps',\n",
       " 'Fast wifi \\\\u2013 112 Mbps',\n",
       " 'Fast wifi \\\\u2013 115 Mbps',\n",
       " 'Fast wifi \\\\u2013 117 Mbps',\n",
       " 'Fast wifi \\\\u2013 119 Mbps',\n",
       " 'Fast wifi \\\\u2013 125 Mbps',\n",
       " 'Fast wifi \\\\u2013 140 Mbps',\n",
       " 'Fast wifi \\\\u2013 142 Mbps',\n",
       " 'Fast wifi \\\\u2013 143 Mbps',\n",
       " 'Fast wifi \\\\u2013 144 Mbps',\n",
       " 'Fast wifi \\\\u2013 145 Mbps',\n",
       " 'Fast wifi \\\\u2013 148 Mbps',\n",
       " 'Fast wifi \\\\u2013 153 Mbps',\n",
       " 'Fast wifi \\\\u2013 169 Mbps',\n",
       " 'Fast wifi \\\\u2013 170 Mbps',\n",
       " 'Fast wifi \\\\u2013 186 Mbps',\n",
       " 'Fast wifi \\\\u2013 195 Mbps',\n",
       " 'Fast wifi \\\\u2013 210 Mbps',\n",
       " 'Fast wifi \\\\u2013 235 Mbps',\n",
       " 'Fast wifi \\\\u2013 249 Mbps',\n",
       " 'Fast wifi \\\\u2013 253 Mbps',\n",
       " 'Fast wifi \\\\u2013 255 Mbps',\n",
       " 'Fast wifi \\\\u2013 256 Mbps',\n",
       " 'Fast wifi \\\\u2013 259 Mbps',\n",
       " 'Fast wifi \\\\u2013 265 Mbps',\n",
       " 'Fast wifi \\\\u2013 268 Mbps',\n",
       " 'Fast wifi \\\\u2013 269 Mbps',\n",
       " 'Fast wifi \\\\u2013 278 Mbps',\n",
       " 'Fast wifi \\\\u2013 290 Mbps',\n",
       " 'Fast wifi \\\\u2013 303 Mbps',\n",
       " 'Fast wifi \\\\u2013 305 Mbps',\n",
       " 'Fast wifi \\\\u2013 311 Mbps',\n",
       " 'Fast wifi \\\\u2013 318 Mbps',\n",
       " 'Fast wifi \\\\u2013 321 Mbps',\n",
       " 'Fast wifi \\\\u2013 351 Mbps',\n",
       " 'Fast wifi \\\\u2013 394 Mbps',\n",
       " 'Fast wifi \\\\u2013 395 Mbps',\n",
       " 'Fast wifi \\\\u2013 452 Mbps',\n",
       " 'Fast wifi \\\\u2013 464 Mbps',\n",
       " 'Fast wifi \\\\u2013 491 Mbps',\n",
       " 'Fast wifi \\\\u2013 497 Mbps',\n",
       " 'Fast wifi \\\\u2013 504 Mbps',\n",
       " 'Fast wifi \\\\u2013 511 Mbps',\n",
       " 'Fast wifi \\\\u2013 537 Mbps',\n",
       " 'Fast wifi \\\\u2013 65 Mbps',\n",
       " 'Fast wifi \\\\u2013 75 Mbps',\n",
       " 'Fast wifi \\\\u2013 78 Mbps',\n",
       " 'Fast wifi \\\\u2013 92 Mbps',\n",
       " 'Fast wifi \\\\u2013 96 Mbps',\n",
       " 'Fenced garden or backyard',\n",
       " 'Finas yervas  body soap',\n",
       " 'Fire extinguisher',\n",
       " 'Fire pit',\n",
       " 'Fireplace guards',\n",
       " 'First aid kit',\n",
       " 'Free carport on premises',\n",
       " 'Free carport on premises \\\\u2013 1 space',\n",
       " 'Free driveway parking on premises',\n",
       " 'Free driveway parking on premises \\\\u2013 1 space',\n",
       " 'Free driveway parking on premises \\\\u2013 3 spaces',\n",
       " 'Free driveway parking on premises \\\\u2013 6 spaces',\n",
       " 'Free dryer',\n",
       " 'Free dryer \\\\u2013 In building',\n",
       " 'Free dryer \\\\u2013 In unit',\n",
       " 'Free parking garage on premises',\n",
       " 'Free parking garage on premises \\\\u2013 1 space',\n",
       " 'Free parking garage on premises \\\\u2013 2 spaces',\n",
       " 'Free parking on premises',\n",
       " 'Free parking on premises \\\\u2013 1 space',\n",
       " 'Free parking on premises \\\\u2013 10 spaces',\n",
       " 'Free parking on premises \\\\u2013 2 spaces',\n",
       " 'Free parking on premises \\\\u2013 3 spaces',\n",
       " 'Free parking on premises \\\\u2013 5 spaces',\n",
       " 'Free residential garage on premises',\n",
       " 'Free residential garage on premises \\\\u2013 1 space',\n",
       " 'Free residential garage on premises \\\\u2013 2 spaces',\n",
       " 'Free residential garage on premises \\\\u2013 3 spaces',\n",
       " 'Free street parking',\n",
       " 'Free washer',\n",
       " 'Free washer \\\\u2013 In building',\n",
       " 'Free washer \\\\u2013 In unit',\n",
       " 'Freezer',\n",
       " 'Full kitchen',\n",
       " 'Game console',\n",
       " 'Game console: Nintendo Wii',\n",
       " 'Game console: PS3',\n",
       " 'Garnier conditioner',\n",
       " 'Gas stove',\n",
       " 'Gel body soap',\n",
       " 'Gel de Ducha body soap',\n",
       " 'Gel de ba\\\\u00f1o;champ\\\\u00fa  body soap',\n",
       " 'Gel de ducha body soap',\n",
       " 'Gel y champ\\\\u00fa body soap',\n",
       " 'Gel-champ\\\\u00fa ecol\\\\u00f3gico shampoo',\n",
       " 'Gen\\\\u00e9rica body soap',\n",
       " 'Gen\\\\u00e9rica conditioner',\n",
       " 'Gen\\\\u00e9rica shampoo',\n",
       " 'Gen\\\\u00e9rico body soap',\n",
       " 'Generic body soap',\n",
       " 'Grill stainless steel oven',\n",
       " 'Grown Alchemist body soap',\n",
       " 'Gym',\n",
       " 'Gym nearby',\n",
       " 'H&S shampoo',\n",
       " 'H&s body soap',\n",
       " 'HBO Max',\n",
       " 'HDTV',\n",
       " 'HDTV with ',\n",
       " 'HDTV with Amazon Prime Video',\n",
       " 'HDTV with Apple TV',\n",
       " 'HDTV with Chromecast',\n",
       " 'HDTV with HBO Max',\n",
       " 'HDTV with Netflix',\n",
       " 'HDTV with standard cable',\n",
       " 'HENO PRAVIA body soap',\n",
       " 'Hair dryer',\n",
       " 'Hangers',\n",
       " 'Heating',\n",
       " 'High chair',\n",
       " 'Hilo musical sound system',\n",
       " 'Hisense refrigerator',\n",
       " 'Home body soap',\n",
       " 'Horno sobremesa oven',\n",
       " 'Host greets you',\n",
       " 'Hot tub',\n",
       " 'Hot water',\n",
       " 'Hot water kettle',\n",
       " 'Hs shampoo',\n",
       " 'IKEA refrigerator',\n",
       " 'Ikea  stainless steel oven',\n",
       " 'Indoor fireplace',\n",
       " 'Induction stove',\n",
       " 'Iron',\n",
       " 'Jab\\\\u00f3n la toja gel  body soap',\n",
       " 'John Lewis iPod and Radio sound system with aux',\n",
       " 'KENWOOD sound system with aux',\n",
       " 'Karisma body soap',\n",
       " 'Kayak',\n",
       " 'Keurig coffee machine',\n",
       " 'Keypad',\n",
       " 'Kitchen',\n",
       " 'LG refrigerator',\n",
       " 'LG sound system with aux',\n",
       " 'LIEBHERR refrigerator',\n",
       " 'L\\\\u00b4Occitane  body soap',\n",
       " 'L\\\\u00b4Occitane  conditioner',\n",
       " 'L\\\\u00b4Occitane  shampoo',\n",
       " 'L\\\\u00b4Occitane conditioner',\n",
       " 'La toja body soap',\n",
       " 'Lactovit body soap',\n",
       " 'Lake access',\n",
       " 'Laundromat nearby',\n",
       " 'Lg refrigerator',\n",
       " 'Lieberr refrigerator',\n",
       " 'Liebherr  refrigerator',\n",
       " 'Liebherr refrigerator',\n",
       " 'Lock on bedroom door',\n",
       " 'Lockbox',\n",
       " 'Logitech sound system with aux',\n",
       " 'Long term stays allowed',\n",
       " 'Loreal champ\\\\u00fa y acondicionador  shampoo',\n",
       " 'Loreal conditioner',\n",
       " 'Luggage dropoff allowed',\n",
       " 'Lux body soap',\n",
       " 'Lux shampoo',\n",
       " 'Makro body soap',\n",
       " 'Makro conditioner',\n",
       " 'Makro shampoo',\n",
       " 'Marca blanca del Eroski shampoo',\n",
       " 'Mercadona  body soap',\n",
       " 'Mercadona  shampoo',\n",
       " 'Mercadona body soap',\n",
       " 'Mercadona conditioner',\n",
       " 'Mercadona shampoo',\n",
       " 'Microondas con funci\\\\u00f3n Gril oven',\n",
       " 'Microwave',\n",
       " 'Miele refrigerator',\n",
       " 'Miele stainless steel oven',\n",
       " 'Mini fridge',\n",
       " 'Minihorno stainless steel oven',\n",
       " 'Mosquito net',\n",
       " 'Moussel  body soap',\n",
       " 'Natura  body soap',\n",
       " 'Natura / HS Champ\\\\u00fa shampoo',\n",
       " 'Natural Honey body soap',\n",
       " 'Natural body soap',\n",
       " 'Neff  stainless steel oven',\n",
       " 'Neff induction stove',\n",
       " 'Nespresso machine',\n",
       " 'Netflix',\n",
       " 'Nivea body soap',\n",
       " 'Nivea shampoo',\n",
       " 'OptimaNoFROST refrigerator',\n",
       " 'Orbegozo oven',\n",
       " 'Outdoor dining area',\n",
       " 'Outdoor furniture',\n",
       " 'Outdoor infinity pool',\n",
       " 'Outdoor shower',\n",
       " 'Outlet covers',\n",
       " 'Oven',\n",
       " 'PANDO induction stove',\n",
       " 'PANDO stainless steel oven',\n",
       " 'Pack \\\\u2019n play/Travel crib',\n",
       " 'Paid dryer',\n",
       " 'Paid dryer \\\\u2013 In building',\n",
       " 'Paid dryer \\\\u2013 In unit',\n",
       " 'Paid parking garage off premises',\n",
       " 'Paid parking garage on premises',\n",
       " 'Paid parking garage on premises \\\\u2013 1 space',\n",
       " 'Paid parking garage on premises \\\\u2013 2 spaces',\n",
       " 'Paid parking lot off premises',\n",
       " 'Paid parking lot on premises',\n",
       " 'Paid parking lot on premises \\\\u2013 1 space',\n",
       " 'Paid parking lot on premises \\\\u2013 2 spaces',\n",
       " 'Paid parking lot on premises \\\\u2013 6 spaces',\n",
       " 'Paid parking off premises',\n",
       " 'Paid parking on premises',\n",
       " 'Paid parking on premises \\\\u2013 1 space',\n",
       " 'Paid street parking off premises',\n",
       " 'Paid washer',\n",
       " 'Paid washer \\\\u2013 In building',\n",
       " 'Paid washer \\\\u2013 In unit',\n",
       " 'Palay no forts  refrigerator',\n",
       " 'Pantene conditioner',\n",
       " 'Pantene shampoo',\n",
       " 'Patio or balcony',\n",
       " 'Pets allowed',\n",
       " 'Philips sound system with aux',\n",
       " 'Piano',\n",
       " 'Ping pong table',\n",
       " 'Pioneer sound system',\n",
       " 'Pioneer sound system with aux',\n",
       " 'Placa de inducci\\\\u00f3n stove',\n",
       " 'Pocket wifi',\n",
       " 'Pool',\n",
       " 'Pool table',\n",
       " 'Portable air conditioning',\n",
       " 'Portable fans',\n",
       " 'Portable heater',\n",
       " 'Pour-over coffee',\n",
       " 'Private entrance',\n",
       " 'Private fenced garden or backyard',\n",
       " 'Private garden or backyard',\n",
       " 'Private gym',\n",
       " 'Private gym nearby',\n",
       " 'Private heated pool',\n",
       " 'Private hot tub',\n",
       " 'Private outdoor heated saltwater pool',\n",
       " 'Private outdoor infinity pool',\n",
       " 'Private outdoor pool',\n",
       " 'Private outdoor saltwater pool',\n",
       " 'Private patio or balcony',\n",
       " 'Private pool',\n",
       " 'Private sauna',\n",
       " 'Productos Naturales 100%  shampoo',\n",
       " 'Radiant heating',\n",
       " 'Record player',\n",
       " 'Refrigerator',\n",
       " 'Revlon hidratante avena body soap',\n",
       " 'Rice maker',\n",
       " 'Ringana body soap',\n",
       " 'Ringana shampoo',\n",
       " 'Roku',\n",
       " 'Room-darkening shades',\n",
       " 'SIEMENS refrigerator',\n",
       " 'SIEMENS stainless steel induction stove',\n",
       " 'SIEMENS stainless steel oven',\n",
       " 'SMEG refrigerator',\n",
       " 'SMEG stainless steel oven',\n",
       " 'Sadermo 3 en 1 shampoo',\n",
       " 'Sadermo body soap',\n",
       " 'Safe',\n",
       " 'Sanex  body soap',\n",
       " 'Sanex Zero Zero body soap',\n",
       " 'Sanex body soap',\n",
       " 'Sanex o similar body soap',\n",
       " 'Sanex shampoo',\n",
       " 'Sauna',\n",
       " 'Se deja para uso privado shampoo',\n",
       " 'Se dejara para uso privado body soap',\n",
       " 'Security cameras on property',\n",
       " 'Self check-in',\n",
       " 'Shampoo',\n",
       " 'Shampoo shampoo',\n",
       " 'Shared fenced garden or backyard',\n",
       " 'Shared garden or backyard',\n",
       " 'Shared gym in building',\n",
       " 'Shared gym nearby',\n",
       " 'Shared hot tub',\n",
       " 'Shared indoor heated olympic-sized pool',\n",
       " 'Shared indoor heated saltwater pool',\n",
       " 'Shared outdoor lap pool',\n",
       " 'Shared outdoor pool',\n",
       " 'Shared outdoor rooftop pool',\n",
       " 'Shared patio or balcony',\n",
       " 'Shared pool',\n",
       " 'Shared sauna',\n",
       " 'Shower gel',\n",
       " 'Siemens induction stove',\n",
       " 'Siemens refrigerator',\n",
       " 'Siemens stainless steel induction stove',\n",
       " 'Siemens stainless steel oven',\n",
       " 'Sin definir body soap',\n",
       " 'Sin definir shampoo',\n",
       " 'Single level home',\n",
       " 'Ski-in/Ski-out',\n",
       " 'Smart lock',\n",
       " 'Smeg  refrigerator',\n",
       " 'Smoke alarm',\n",
       " 'Sonos Bluetooth sound system',\n",
       " 'Sony Bluetooth sound system',\n",
       " 'Sony sound system',\n",
       " 'Sony sound system with Bluetooth and aux',\n",
       " 'Sound system',\n",
       " 'Sound system with Bluetooth and aux',\n",
       " 'Sound system with aux',\n",
       " 'Spanish local brand body soap',\n",
       " 'Stainless steel electric stove',\n",
       " 'Stainless steel gas stove',\n",
       " 'Stainless steel induction stove',\n",
       " 'Stainless steel oven',\n",
       " 'Stainless steel stove',\n",
       " 'Stove',\n",
       " 'TECA refrigerator',\n",
       " 'TEKA stainless steel oven',\n",
       " 'TV',\n",
       " 'TV with Amazon Prime Video',\n",
       " 'TV with Apple TV',\n",
       " 'TV with Chromecast',\n",
       " 'TV with Netflix',\n",
       " 'TV with premium cable',\n",
       " 'TV with standard cable',\n",
       " 'Table corner guards',\n",
       " 'Teka induction stove',\n",
       " 'Teka oven',\n",
       " 'Teka refrigerator',\n",
       " 'Teka stainless steel oven',\n",
       " 'Timotei shampoo',\n",
       " 'Toaster',\n",
       " 'Trash compactor',\n",
       " 'Tresseme conditioner',\n",
       " 'Tresseme shampoo',\n",
       " 'VARIOS body soap',\n",
       " 'VITROCER\\\\u00c1MICA electric stove',\n",
       " 'Variable body soap',\n",
       " 'Varios body soap',\n",
       " 'Varios shampoo',\n",
       " 'Vitro cer\\\\u00e1mica  electric stove',\n",
       " 'Vitrocer\\\\u00e1mica electric stove',\n",
       " 'WHIRLPOOL stainless steel oven',\n",
       " 'Washer',\n",
       " 'Washer \\\\u2013\\\\u00a0In building',\n",
       " 'Washer \\\\u2013\\\\u00a0In unit',\n",
       " 'Waterfront',\n",
       " 'Whirlpool  induction stove',\n",
       " 'Wifi',\n",
       " 'Wifi \\\\u2013 10 Mbps',\n",
       " 'Wifi \\\\u2013 20 Mbps',\n",
       " 'Wifi \\\\u2013 23 Mbps',\n",
       " 'Wifi \\\\u2013 24 Mbps',\n",
       " 'Wifi \\\\u2013 26 Mbps',\n",
       " 'Wifi \\\\u2013 27 Mbps',\n",
       " 'Wifi \\\\u2013 35 Mbps',\n",
       " 'Wifi \\\\u2013 42 Mbps',\n",
       " 'Wifi \\\\u2013 43 Mbps',\n",
       " 'Wifi \\\\u2013 48 Mbps',\n",
       " 'Wifi \\\\u2013 9 Mbps',\n",
       " 'Window AC unit',\n",
       " 'Window guards',\n",
       " 'Wine glasses',\n",
       " 'Yamaha sound system with aux',\n",
       " 'ZANUSSI refrigerator',\n",
       " 'Zanussi refrigerator',\n",
       " '\\\\u00c1loe vera  body soap',\n",
       " ']',\n",
       " 'balay electric stove',\n",
       " 'balay refrigerator',\n",
       " 'balay stainless steel oven',\n",
       " 'blanca body soap',\n",
       " 'blanca conditioner',\n",
       " 'boch induction stove',\n",
       " 'bosch induction stove',\n",
       " 'bosch stainless steel oven',\n",
       " 'candy refrigerator',\n",
       " 'champ\\\\u00fa acondicionador  shampoo',\n",
       " 'classic body soap',\n",
       " 'closet',\n",
       " 'con congelador refrigerator',\n",
       " 'corbero oven',\n",
       " 'corbero refrigerator',\n",
       " 'delonghi stainless steel oven',\n",
       " 'dermatologco body soap',\n",
       " 'desk',\n",
       " 'diferentes marcas de gel ahora uno de Zara home  body soap',\n",
       " 'dresser',\n",
       " 'fagor oven',\n",
       " 'fagor refrigerator',\n",
       " 'gel de ducha la Toja body soap',\n",
       " 'gel y chaampu body soap',\n",
       " 'gel y champu shampoo',\n",
       " 'head & shoulers shampoo',\n",
       " 'hys shampoo',\n",
       " 'inducci\\\\u00f3n electric stove',\n",
       " 'induccion electric stove',\n",
       " 'lactovit body soap',\n",
       " 'lg Bluetooth sound system',\n",
       " 'lg sound system',\n",
       " 'lg stainless steel oven',\n",
       " 'liebherr zona  bio fresh y congelador i refrigerator',\n",
       " 'loreal  conditioner',\n",
       " 'marca blanca body soap',\n",
       " 'mercadona body soap',\n",
       " 'mercadona shampoo',\n",
       " 'monitor',\n",
       " 'office chair',\n",
       " 'palmolive body soap',\n",
       " 'pantene shampoo',\n",
       " 'philips refrigerator',\n",
       " 'premium cable',\n",
       " 'sanex body soap',\n",
       " 'satandard refrigerator',\n",
       " 'siemens refrigerator',\n",
       " 'siemens stainless steel oven',\n",
       " 'sonos sound system',\n",
       " 'sony Bluetooth sound system',\n",
       " 'standard cable',\n",
       " 'standard stainless steel oven',\n",
       " 'table',\n",
       " 'technis sound system with aux',\n",
       " 'tresemme shampoo',\n",
       " 'varias body soap',\n",
       " 'varias shampoo',\n",
       " 'vitrocer\\\\u00e1mica electric stove',\n",
       " 'walk-in closet',\n",
       " 'wardrobe',\n",
       " 'whirlpool refrigerator',\n",
       " 'whirlpool stainless steel oven',\n",
       " 'whirlpool stove',\n",
       " 'zanussi refrigerator',\n",
       " 'zanussi stainless steel oven'}"
      ]
     },
     "execution_count": 124,
     "metadata": {},
     "output_type": "execute_result"
    }
   ],
   "source": [
    "amenities_set"
   ]
  },
  {
   "cell_type": "code",
   "execution_count": null,
   "id": "50e039d4-8323-4f14-8487-6cc9c1c5c054",
   "metadata": {},
   "outputs": [],
   "source": []
  }
 ],
 "metadata": {
  "kernelspec": {
   "display_name": "Python 3 (ipykernel)",
   "language": "python",
   "name": "python3"
  },
  "language_info": {
   "codemirror_mode": {
    "name": "ipython",
    "version": 3
   },
   "file_extension": ".py",
   "mimetype": "text/x-python",
   "name": "python",
   "nbconvert_exporter": "python",
   "pygments_lexer": "ipython3",
   "version": "3.7.13"
  }
 },
 "nbformat": 4,
 "nbformat_minor": 5
}
