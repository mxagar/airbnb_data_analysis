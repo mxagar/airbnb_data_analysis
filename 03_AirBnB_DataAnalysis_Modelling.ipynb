{
 "cells": [
  {
   "cell_type": "markdown",
   "id": "eb8b02bd-3bbf-4a85-9560-94d91c235f7f",
   "metadata": {},
   "source": [
    "# AirBnB Data Analysis: Modelling & Inference"
   ]
  },
  {
   "cell_type": "markdown",
   "id": "3ca84a3d-c3e9-4c14-aac6-1426bdcb0689",
   "metadata": {},
   "source": [
    "In the current repository, I will analyze the [AirBnB dataset from the Basque Country / Euskadi](http://insideairbnb.com/get-the-data/). The [Basque Country](https://en.wikipedia.org/wiki/Basque_Country_(autonomous_community)) is the region from Spain I am from; after many years living in Germany, I moved back here in 2020. As a popular touristic target on the seaside, the analysis might be valuable for many visitors :-)\n",
    "\n",
    "The first notebook `00_AirBnB_DataAnalysis_Initial_Tests.ipynb` has defined the main business questions, related to:\n",
    "\n",
    "1. Most important features for price prediction (= target)\n",
    "2. Difference in features between the two most important cities: Donostia-San Sebastian & Bilbao\n",
    "3. Difference in features between cities with beach access and without\n",
    "4. EXTRA: Predict review score from review texts\n",
    "\n",
    "Now, the usual data science process continues:\n",
    "\n",
    "1. Data cleaning and Preparation\n",
    "2. Exploratory Data Analysis\n",
    "3. Feature Engineering\n",
    "4. Feature Selection\n",
    "5. **Modelling**\n",
    "6. **Model Scoring & Inferences**\n",
    "7. Answering and presenting the Business Questions\n",
    "\n",
    "The previous notebook `02_AirBnB_DataAnalysis_DataCleaning_EDA.ipynb` has performed the Feature Engineering and Selection.\n",
    "\n",
    "This notebook focuses on the next two steps: **Modelling** and **Model Scoring & Inference**. The processed train/test splits are loaded here, together with additional files (e.g., scaler, mappings, selected features, etc.).\n",
    "\n",
    "### Overview of Contents in the Current Notebook\n",
    "\n",
    "1. Load Dataset & Additional Files"
   ]
  },
  {
   "cell_type": "code",
   "execution_count": 19,
   "id": "3f5223ec-5aeb-41a9-bfff-b2f3880ff79f",
   "metadata": {},
   "outputs": [],
   "source": [
    "import numpy as np\n",
    "import pandas as pd\n",
    "import matplotlib.pyplot as plt\n",
    "import seaborn as sns\n",
    "import scipy.stats as stats\n",
    "import datetime\n",
    "\n",
    "from sklearn.preprocessing import MinMaxScaler\n",
    "\n",
    "from sklearn.linear_model import LinearRegression, Lasso, Ridge\n",
    "from sklearn.model_selection import train_test_split\n",
    "from sklearn.metrics import r2_score, mean_squared_error\n",
    "\n",
    "# To save the model\n",
    "import joblib\n",
    "\n",
    "# Display all the columns of the dataframe in the notebook\n",
    "pd.pandas.set_option('display.max_columns', None)"
   ]
  },
  {
   "cell_type": "markdown",
   "id": "18cd9905-8b06-4bf3-8c53-4b7353c3ff8c",
   "metadata": {},
   "source": [
    "## 1. Load Dataset & Additional Files"
   ]
  },
  {
   "cell_type": "code",
   "execution_count": 13,
   "id": "638d3bf7-95ba-42fb-a724-a6f170586a26",
   "metadata": {},
   "outputs": [],
   "source": [
    "filepath = './data/euskadi_2022_03_31/'\n",
    "\n",
    "y_train = pd.read_csv(filepath+'listings_y_train.csv')\n",
    "X_train = pd.read_csv(filepath+'listings_X_train.csv')\n",
    "\n",
    "y_test = pd.read_csv(filepath+'listings_y_test.csv')\n",
    "X_test = pd.read_csv(filepath+'listings_X_test.csv')"
   ]
  },
  {
   "cell_type": "code",
   "execution_count": 14,
   "id": "a08728e3-da0c-412f-b1c9-6e08f69f3314",
   "metadata": {},
   "outputs": [],
   "source": [
    "scaler = joblib.load(filepath+'minmax_scaler.joblib', mmap_mode='r')"
   ]
  },
  {
   "cell_type": "code",
   "execution_count": 15,
   "id": "27d01122-fbf6-40b2-a07e-70d1dca0ff27",
   "metadata": {},
   "outputs": [],
   "source": [
    "property_types = joblib.load(filepath+'property_types.joblib', mmap_mode='r')"
   ]
  },
  {
   "cell_type": "code",
   "execution_count": 25,
   "id": "e3f866a7-ae13-4302-a486-c6685b0f8d82",
   "metadata": {},
   "outputs": [],
   "source": [
    "selected_features = joblib.load(filepath+'selected_features.joblib', mmap_mode='r')"
   ]
  },
  {
   "cell_type": "code",
   "execution_count": 26,
   "id": "87cbab16-8795-4b04-9065-91601225c298",
   "metadata": {},
   "outputs": [],
   "source": [
    "numerical_transform_params = joblib.load(filepath+'numerical_transform_params.joblib', mmap_mode='r')"
   ]
  },
  {
   "cell_type": "markdown",
   "id": "39e91ba5-bb5e-4f71-aa50-919f16707761",
   "metadata": {},
   "source": [
    "## 2. Model: Linear Regression"
   ]
  },
  {
   "cell_type": "markdown",
   "id": "26eae6c4-16ea-49bc-8015-e9fbb21b3e0c",
   "metadata": {},
   "source": [
    "### 2.1 Training and Evaluation"
   ]
  },
  {
   "cell_type": "markdown",
   "id": "90e8623f-6702-4270-b8dd-fcabcb5a3890",
   "metadata": {},
   "source": [
    "#### Select Features"
   ]
  },
  {
   "cell_type": "code",
   "execution_count": 65,
   "id": "40a3b4d0-ae17-4b04-9ca1-3be678b245e0",
   "metadata": {},
   "outputs": [],
   "source": [
    "X_train = X_train[selected_features]\n",
    "X_test = X_test[selected_features]"
   ]
  },
  {
   "cell_type": "markdown",
   "id": "4b43360b-f5ff-4b4f-b479-17e88bc1bab5",
   "metadata": {},
   "source": [
    "#### Fit Model"
   ]
  },
  {
   "cell_type": "code",
   "execution_count": 108,
   "id": "8eb50f9a-755c-444e-834e-023204dad5ce",
   "metadata": {},
   "outputs": [
    {
     "data": {
      "text/plain": [
       "Ridge(alpha=0.001, random_state=0)"
      ]
     },
     "execution_count": 108,
     "metadata": {},
     "output_type": "execute_result"
    }
   ],
   "source": [
    "#lm = Lasso(alpha=0.001, random_state=0)\n",
    "lm = Ridge(alpha=0.001, random_state=0)\n",
    "#lm = LinearRegression()\n",
    "\n",
    "# Lasso: Train\n",
    "lm.fit(X_train, y_train)"
   ]
  },
  {
   "cell_type": "markdown",
   "id": "596ed611-76ca-45ab-83c2-8e13a5f6ad74",
   "metadata": {},
   "source": [
    "#### Inference"
   ]
  },
  {
   "cell_type": "code",
   "execution_count": 109,
   "id": "8f03bc5f-c3cf-4fec-8bdc-d7e6ff4404ce",
   "metadata": {},
   "outputs": [],
   "source": [
    "# Lasso: Predictions\n",
    "pred_train = lm.predict(X_train)\n",
    "pred_test = lm.predict(X_test)"
   ]
  },
  {
   "cell_type": "markdown",
   "id": "b142d701-5489-454c-88ef-f9d48c29b46a",
   "metadata": {},
   "source": [
    "#### Evaluate"
   ]
  },
  {
   "cell_type": "code",
   "execution_count": 110,
   "id": "61f143cf-038f-4329-bef0-0f7ed7cb717b",
   "metadata": {},
   "outputs": [
    {
     "name": "stdout",
     "output_type": "stream",
     "text": [
      "Train RMSE: 240\n",
      "Train R2: 0.5417346530485132\n",
      "Test RMSE: 225\n",
      "test r2: 0.5411595676179022\n",
      "\n",
      "Average listing price:  194\n"
     ]
    }
   ],
   "source": [
    "# Train: RMSE, R2\n",
    "print('Train RMSE: {}'.format(int(\n",
    "    mean_squared_error(np.exp(y_train), np.exp(pred_train), squared=False))))\n",
    "print('Train R2: {}'.format(\n",
    "    r2_score(np.exp(y_train), np.exp(pred_train))))\n",
    "\n",
    "print('Test RMSE: {}'.format(int(\n",
    "    mean_squared_error(np.exp(y_test), np.exp(pred_test), squared=False))))\n",
    "print('test r2: {}'.format(\n",
    "    r2_score(np.exp(y_test), np.exp(pred_test))))\n",
    "print()\n",
    "\n",
    "print('Average listing price: ', int(np.exp(y_train).median()))"
   ]
  },
  {
   "cell_type": "markdown",
   "id": "875c831d-8461-4276-8355-4dfc17c4778a",
   "metadata": {},
   "source": [
    "#### Scatterplot: True vs. Predicted"
   ]
  },
  {
   "cell_type": "code",
   "execution_count": 111,
   "id": "07656fdc-6020-41a9-8296-45f84fe1a949",
   "metadata": {},
   "outputs": [
    {
     "data": {
      "text/plain": [
       "price    484.307767\n",
       "Name: 0.85, dtype: float64"
      ]
     },
     "execution_count": 111,
     "metadata": {},
     "output_type": "execute_result"
    }
   ],
   "source": [
    "np.exp(y_train).quantile(0.85)"
   ]
  },
  {
   "cell_type": "code",
   "execution_count": 112,
   "id": "37a0f5c6-3da7-4a78-9293-0f97909bbde3",
   "metadata": {},
   "outputs": [
    {
     "data": {
      "text/plain": [
       "(-142.83619002763672,\n",
       " 2999.559990580371,\n",
       " -173.32121945335768,\n",
       " 3639.745608520511)"
      ]
     },
     "execution_count": 112,
     "metadata": {},
     "output_type": "execute_result"
    },
    {
     "data": {
      "image/png": "[encoded data removed]",
      "text/plain": [
       "<Figure size 576x576 with 1 Axes>"
      ]
     },
     "metadata": {
      "needs_background": "light"
     },
     "output_type": "display_data"
    }
   ],
   "source": [
    "# Real vs. Predicted\n",
    "# The R2 is only 0.54\n",
    "# We can see that as the price increases, the prediction error increases\n",
    "# For large prices (> 500 USD) teh model underpredicts the price.\n",
    "# That is to be expected, since +85% of the listings used to train are below 500 USD\n",
    "plt.figure(figsize=(8,8))\n",
    "x = np.exp(y_test)\n",
    "y = np.exp(lm_lasso.predict(X_test))\n",
    "plt.scatter(x, y)\n",
    "plt.plot(np.array([0,np.max(x)],dtype='object'),np.array([0,np.max(x)],dtype='object'),'r-')\n",
    "plt.xlabel('True Listing Price, USD')\n",
    "plt.ylabel('Predicted Listing Price, USD')\n",
    "plt.title('Evaluation of Regression Predictions')\n",
    "plt.axis('equal')"
   ]
  },
  {
   "cell_type": "markdown",
   "id": "a75ec429-f965-4a5b-9689-27a3886d8dde",
   "metadata": {},
   "source": [
    "#### Error Histogram"
   ]
  },
  {
   "cell_type": "markdown",
   "id": "e0d46b0b-f70a-4f22-9e83-190cea2f29cb",
   "metadata": {},
   "source": [
    "The errors are clearly not normally disturbuted. There are large deviations for low and, specially, for large price values."
   ]
  },
  {
   "cell_type": "code",
   "execution_count": 113,
   "id": "7d40ef63-38a3-4eae-ac4a-4efd536b955b",
   "metadata": {},
   "outputs": [
    {
     "data": {
      "text/plain": [
       "array([[<AxesSubplot:title={'center':'price'}>]], dtype=object)"
      ]
     },
     "execution_count": 113,
     "metadata": {},
     "output_type": "execute_result"
    },
    {
     "data": {
      "image/png": "[encoded data removed]",
      "text/plain": [
       "<Figure size 432x288 with 1 Axes>"
      ]
     },
     "metadata": {
      "needs_background": "light"
     },
     "output_type": "display_data"
    }
   ],
   "source": [
    "error = x - y\n",
    "error.hist(bins=50,figsize=(6,4))"
   ]
  },
  {
   "cell_type": "code",
   "execution_count": 114,
   "id": "68c9c120-be0b-4982-8420-3f083e343276",
   "metadata": {},
   "outputs": [
    {
     "data": {
      "image/png": "[encoded data removed]",
      "text/plain": [
       "<Figure size 576x576 with 1 Axes>"
      ]
     },
     "metadata": {
      "needs_background": "light"
     },
     "output_type": "display_data"
    }
   ],
   "source": [
    "plt.figure(figsize=(8,8))\n",
    "stats.probplot(error['price'], dist=\"norm\", plot=plt);"
   ]
  },
  {
   "cell_type": "markdown",
   "id": "5f76c796-a5cb-4028-82b7-fa4fb8feee11",
   "metadata": {},
   "source": [
    "### 2.2 Feature Importance"
   ]
  },
  {
   "cell_type": "code",
   "execution_count": 118,
   "id": "2cb5a397-24d9-43a9-9841-9ebd753c7950",
   "metadata": {},
   "outputs": [
    {
     "data": {
      "text/plain": [
       "Text(0.5, 1.0, 'Feature Importance')"
      ]
     },
     "execution_count": 118,
     "metadata": {},
     "output_type": "execute_result"
    },
    {
     "data": {
      "image/png": "[encoded data removed]",
      "text/plain": [
       "<Figure size 1296x432 with 1 Axes>"
      ]
     },
     "metadata": {
      "needs_background": "light"
     },
     "output_type": "display_data"
    }
   ],
   "source": [
    "importance = pd.Series(np.abs(lm.coef_.ravel()))\n",
    "importance.index = selected_features\n",
    "importance.sort_values(inplace=True, ascending=False)\n",
    "importance.iloc[:30].plot.bar(figsize=(18,6))\n",
    "plt.ylabel('Coefficients')\n",
    "plt.title('Feature Importance')"
   ]
  },
  {
   "cell_type": "code",
   "execution_count": 126,
   "id": "5be73906-6e45-4081-b288-f5b57b656517",
   "metadata": {},
   "outputs": [
    {
     "data": {
      "text/html": [
       "<div>\n",
       "<style scoped>\n",
       "    .dataframe tbody tr th:only-of-type {\n",
       "        vertical-align: middle;\n",
       "    }\n",
       "\n",
       "    .dataframe tbody tr th {\n",
       "        vertical-align: top;\n",
       "    }\n",
       "\n",
       "    .dataframe thead th {\n",
       "        text-align: right;\n",
       "    }\n",
       "</style>\n",
       "<table border=\"1\" class=\"dataframe\">\n",
       "  <thead>\n",
       "    <tr style=\"text-align: right;\">\n",
       "      <th></th>\n",
       "      <th>accommodates</th>\n",
       "      <th>bathrooms_number</th>\n",
       "      <th>room_type_room_shared</th>\n",
       "      <th>property_type_54</th>\n",
       "      <th>property_type_49</th>\n",
       "      <th>review_scores_average</th>\n",
       "      <th>reviews_per_month</th>\n",
       "      <th>property_type_21</th>\n",
       "      <th>calculated_host_has_shared_rooms</th>\n",
       "      <th>neighbourhood_cleansed_Laguardia</th>\n",
       "      <th>last_review</th>\n",
       "      <th>bedrooms</th>\n",
       "      <th>calculated_host_listings_count_entire_homes</th>\n",
       "      <th>bathrooms_shared</th>\n",
       "      <th>availability_30</th>\n",
       "      <th>property_type_43</th>\n",
       "      <th>neighbourhood_cleansed_Ibarrangelu</th>\n",
       "      <th>number_of_reviews_l30d</th>\n",
       "      <th>neighbourhood_cleansed_Oiartzun</th>\n",
       "      <th>neighbourhood_cleansed_Pasaia</th>\n",
       "      <th>neighbourhood_cleansed_Donostia-San_Sebastian</th>\n",
       "      <th>neighbourhood_cleansed_Bilbao</th>\n",
       "      <th>property_type_36</th>\n",
       "      <th>amenity_walk-in_closet</th>\n",
       "      <th>property_type_28</th>\n",
       "      <th>property_type_15</th>\n",
       "      <th>property_type_13</th>\n",
       "      <th>host_location_nearby</th>\n",
       "      <th>property_type_19</th>\n",
       "      <th>amenity_rice_maker</th>\n",
       "      <th>property_type_9</th>\n",
       "      <th>calculated_host_listings_count</th>\n",
       "      <th>neighbourhood_cleansed_Getxo</th>\n",
       "      <th>neighbourhood_cleansed_Gorliz</th>\n",
       "      <th>amenity_mosquito_net</th>\n",
       "      <th>maximum_minimum_nights</th>\n",
       "      <th>neighbourhood_cleansed_Irun</th>\n",
       "      <th>amenity_indoor_fireplace</th>\n",
       "      <th>neighbourhood_cleansed_Sopelana</th>\n",
       "      <th>neighbourhood_cleansed_Lekeitio</th>\n",
       "      <th>amenity_paid_street_parking_off_premises</th>\n",
       "      <th>amenity_hot_tub</th>\n",
       "      <th>neighbourhood_group_cleansed_Araba</th>\n",
       "      <th>amenity_drying_rack_for_clothing</th>\n",
       "      <th>property_type_33</th>\n",
       "      <th>host_acceptance_rate</th>\n",
       "      <th>property_type_52</th>\n",
       "      <th>room_type_home</th>\n",
       "      <th>neighbourhood_cleansed_Bermeo</th>\n",
       "      <th>amenity_beachfront</th>\n",
       "      <th>amenity_cooking_basics</th>\n",
       "      <th>amenity_lock_on_bedroom_door</th>\n",
       "      <th>amenity_free_street_parking</th>\n",
       "      <th>amenity_hair_dryer</th>\n",
       "      <th>neighbourhood_group_cleansed_Gipuzkoa</th>\n",
       "      <th>host_response_rate</th>\n",
       "      <th>amenity_bbq_grill</th>\n",
       "      <th>neighbourhood_cleansed_Zarautz</th>\n",
       "      <th>host_response_time_day</th>\n",
       "      <th>amenity_hangers</th>\n",
       "      <th>amenity_conditioner</th>\n",
       "      <th>amenity_air_conditioning</th>\n",
       "      <th>amenity_bidet</th>\n",
       "      <th>amenity_nespresso_machine</th>\n",
       "      <th>amenity_mini_fridge</th>\n",
       "      <th>availability_90</th>\n",
       "      <th>amenity_outdoor_furniture</th>\n",
       "      <th>minimum_minimum_nights</th>\n",
       "      <th>amenity_dishwasher</th>\n",
       "      <th>amenity_sound_system</th>\n",
       "      <th>license_reported</th>\n",
       "      <th>amenity_long_term_stays_allowed</th>\n",
       "      <th>amenity_kitchen</th>\n",
       "      <th>amenity_washer</th>\n",
       "      <th>amenity_backyard</th>\n",
       "      <th>amenity_ethernet_connection</th>\n",
       "      <th>amenity_keypad</th>\n",
       "      <th>amenity_dishes_and_silverware</th>\n",
       "      <th>amenity_babysitter_recommendations</th>\n",
       "      <th>maximum_nights</th>\n",
       "      <th>amenity_wine_glasses</th>\n",
       "      <th>first_review</th>\n",
       "      <th>host_response_time_few_days</th>\n",
       "      <th>amenity_security_cameras_on_property</th>\n",
       "      <th>minimum_nights</th>\n",
       "      <th>amenity_carbon_monoxide_alarm</th>\n",
       "      <th>host_is_superhost</th>\n",
       "      <th>amenity_toaster</th>\n",
       "      <th>amenity_gym</th>\n",
       "      <th>amenity_clothing_storage</th>\n",
       "      <th>amenity_freezer</th>\n",
       "      <th>amenity_paid_parking_off_premises</th>\n",
       "      <th>host_total_listings_count</th>\n",
       "      <th>amenity_microwave</th>\n",
       "      <th>amenity_changing_table</th>\n",
       "      <th>amenity_single_level_home</th>\n",
       "      <th>amenity_beach_essentials</th>\n",
       "      <th>host_response_time_hour</th>\n",
       "      <th>amenity_hdtv</th>\n",
       "      <th>property_type_40</th>\n",
       "      <th>number_of_reviews_ltm</th>\n",
       "      <th>amenity_luggage_dropoff_allowed</th>\n",
       "      <th>amenity_induction_stove</th>\n",
       "      <th>amenity_coffee_maker</th>\n",
       "      <th>amenity_heating</th>\n",
       "      <th>amenity_bathtub</th>\n",
       "      <th>has_beach</th>\n",
       "      <th>amenity_host_greets_you</th>\n",
       "      <th>amenity_first_aid_kit</th>\n",
       "      <th>amenity_patio_or_balcony</th>\n",
       "      <th>amenity_hot_water</th>\n",
       "      <th>amenity_room-darkening_shades</th>\n",
       "      <th>amenity_shampoo</th>\n",
       "      <th>amenity_breakfast</th>\n",
       "      <th>amenity_central_heating</th>\n",
       "      <th>description_language_en</th>\n",
       "      <th>amenity_cleaning_before_checkout</th>\n",
       "      <th>amenity_outdoor_dining_area</th>\n",
       "      <th>amenity_refrigerator</th>\n",
       "      <th>instant_bookable</th>\n",
       "      <th>amenity_bed_linens</th>\n",
       "      <th>amenity_body_soap</th>\n",
       "      <th>amenity_table</th>\n",
       "      <th>amenity_cleaning_products</th>\n",
       "      <th>amenity_hot_water_kettle</th>\n",
       "      <th>amenity_private_entrance</th>\n",
       "      <th>host_identity_verified</th>\n",
       "      <th>calculated_host_listings_count_private_rooms</th>\n",
       "      <th>amenity_extra_pillows_and_blankets</th>\n",
       "      <th>amenity_waterfront</th>\n",
       "      <th>amenity_tv</th>\n",
       "      <th>amenity_paid_parking_on_premises</th>\n",
       "      <th>amenity_pool</th>\n",
       "      <th>amenity_private_patio_or_balcony</th>\n",
       "      <th>host_response_time_few_hours</th>\n",
       "      <th>amenity_free_parking_on_premises</th>\n",
       "    </tr>\n",
       "  </thead>\n",
       "  <tbody>\n",
       "    <tr>\n",
       "      <th>importance</th>\n",
       "      <td>1.326301</td>\n",
       "      <td>1.135279</td>\n",
       "      <td>0.852761</td>\n",
       "      <td>0.711921</td>\n",
       "      <td>0.700703</td>\n",
       "      <td>0.679624</td>\n",
       "      <td>0.590208</td>\n",
       "      <td>0.502276</td>\n",
       "      <td>0.499251</td>\n",
       "      <td>0.452228</td>\n",
       "      <td>0.424219</td>\n",
       "      <td>0.350205</td>\n",
       "      <td>0.34746</td>\n",
       "      <td>0.342448</td>\n",
       "      <td>0.341759</td>\n",
       "      <td>0.33637</td>\n",
       "      <td>0.321145</td>\n",
       "      <td>0.310727</td>\n",
       "      <td>0.296607</td>\n",
       "      <td>0.285389</td>\n",
       "      <td>0.283705</td>\n",
       "      <td>0.273355</td>\n",
       "      <td>0.267504</td>\n",
       "      <td>0.24456</td>\n",
       "      <td>0.241519</td>\n",
       "      <td>0.241242</td>\n",
       "      <td>0.232761</td>\n",
       "      <td>0.21889</td>\n",
       "      <td>0.209143</td>\n",
       "      <td>0.206325</td>\n",
       "      <td>0.205751</td>\n",
       "      <td>0.190923</td>\n",
       "      <td>0.180544</td>\n",
       "      <td>0.176955</td>\n",
       "      <td>0.176511</td>\n",
       "      <td>0.167823</td>\n",
       "      <td>0.163328</td>\n",
       "      <td>0.158449</td>\n",
       "      <td>0.155746</td>\n",
       "      <td>0.149351</td>\n",
       "      <td>0.149081</td>\n",
       "      <td>0.147871</td>\n",
       "      <td>0.144289</td>\n",
       "      <td>0.143995</td>\n",
       "      <td>0.141766</td>\n",
       "      <td>0.132931</td>\n",
       "      <td>0.130598</td>\n",
       "      <td>0.128008</td>\n",
       "      <td>0.125288</td>\n",
       "      <td>0.121489</td>\n",
       "      <td>0.117678</td>\n",
       "      <td>0.117532</td>\n",
       "      <td>0.116646</td>\n",
       "      <td>0.106361</td>\n",
       "      <td>0.105515</td>\n",
       "      <td>0.103092</td>\n",
       "      <td>0.099725</td>\n",
       "      <td>0.099391</td>\n",
       "      <td>0.098279</td>\n",
       "      <td>0.092234</td>\n",
       "      <td>0.089092</td>\n",
       "      <td>0.086367</td>\n",
       "      <td>0.082642</td>\n",
       "      <td>0.081213</td>\n",
       "      <td>0.073801</td>\n",
       "      <td>0.073637</td>\n",
       "      <td>0.073316</td>\n",
       "      <td>0.072341</td>\n",
       "      <td>0.072232</td>\n",
       "      <td>0.070596</td>\n",
       "      <td>0.067652</td>\n",
       "      <td>0.067401</td>\n",
       "      <td>0.067347</td>\n",
       "      <td>0.064423</td>\n",
       "      <td>0.064289</td>\n",
       "      <td>0.064228</td>\n",
       "      <td>0.063428</td>\n",
       "      <td>0.061945</td>\n",
       "      <td>0.06043</td>\n",
       "      <td>0.060027</td>\n",
       "      <td>0.058793</td>\n",
       "      <td>0.056803</td>\n",
       "      <td>0.056054</td>\n",
       "      <td>0.05571</td>\n",
       "      <td>0.051729</td>\n",
       "      <td>0.050823</td>\n",
       "      <td>0.050616</td>\n",
       "      <td>0.050015</td>\n",
       "      <td>0.049066</td>\n",
       "      <td>0.048753</td>\n",
       "      <td>0.048505</td>\n",
       "      <td>0.04778</td>\n",
       "      <td>0.047358</td>\n",
       "      <td>0.047193</td>\n",
       "      <td>0.04669</td>\n",
       "      <td>0.046066</td>\n",
       "      <td>0.045901</td>\n",
       "      <td>0.044587</td>\n",
       "      <td>0.040463</td>\n",
       "      <td>0.039878</td>\n",
       "      <td>0.039144</td>\n",
       "      <td>0.038922</td>\n",
       "      <td>0.038739</td>\n",
       "      <td>0.03599</td>\n",
       "      <td>0.035691</td>\n",
       "      <td>0.035188</td>\n",
       "      <td>0.03515</td>\n",
       "      <td>0.034473</td>\n",
       "      <td>0.033558</td>\n",
       "      <td>0.033509</td>\n",
       "      <td>0.032998</td>\n",
       "      <td>0.030243</td>\n",
       "      <td>0.030125</td>\n",
       "      <td>0.029214</td>\n",
       "      <td>0.028603</td>\n",
       "      <td>0.027379</td>\n",
       "      <td>0.02734</td>\n",
       "      <td>0.026093</td>\n",
       "      <td>0.025702</td>\n",
       "      <td>0.024038</td>\n",
       "      <td>0.023894</td>\n",
       "      <td>0.023204</td>\n",
       "      <td>0.022937</td>\n",
       "      <td>0.022056</td>\n",
       "      <td>0.021887</td>\n",
       "      <td>0.01866</td>\n",
       "      <td>0.017973</td>\n",
       "      <td>0.017019</td>\n",
       "      <td>0.016466</td>\n",
       "      <td>0.014345</td>\n",
       "      <td>0.012645</td>\n",
       "      <td>0.011216</td>\n",
       "      <td>0.00691</td>\n",
       "      <td>0.006482</td>\n",
       "      <td>0.002362</td>\n",
       "      <td>0.000038</td>\n",
       "    </tr>\n",
       "  </tbody>\n",
       "</table>\n",
       "</div>"
      ],
      "text/plain": [
       "            accommodates  bathrooms_number  room_type_room_shared  \\\n",
       "importance      1.326301          1.135279               0.852761   \n",
       "\n",
       "            property_type_54  property_type_49  review_scores_average  \\\n",
       "importance          0.711921          0.700703               0.679624   \n",
       "\n",
       "            reviews_per_month  property_type_21  \\\n",
       "importance           0.590208          0.502276   \n",
       "\n",
       "            calculated_host_has_shared_rooms  \\\n",
       "importance                          0.499251   \n",
       "\n",
       "            neighbourhood_cleansed_Laguardia  last_review  bedrooms  \\\n",
       "importance                          0.452228     0.424219  0.350205   \n",
       "\n",
       "            calculated_host_listings_count_entire_homes  bathrooms_shared  \\\n",
       "importance                                      0.34746          0.342448   \n",
       "\n",
       "            availability_30  property_type_43  \\\n",
       "importance         0.341759           0.33637   \n",
       "\n",
       "            neighbourhood_cleansed_Ibarrangelu  number_of_reviews_l30d  \\\n",
       "importance                            0.321145                0.310727   \n",
       "\n",
       "            neighbourhood_cleansed_Oiartzun  neighbourhood_cleansed_Pasaia  \\\n",
       "importance                         0.296607                       0.285389   \n",
       "\n",
       "            neighbourhood_cleansed_Donostia-San_Sebastian  \\\n",
       "importance                                       0.283705   \n",
       "\n",
       "            neighbourhood_cleansed_Bilbao  property_type_36  \\\n",
       "importance                       0.273355          0.267504   \n",
       "\n",
       "            amenity_walk-in_closet  property_type_28  property_type_15  \\\n",
       "importance                 0.24456          0.241519          0.241242   \n",
       "\n",
       "            property_type_13  host_location_nearby  property_type_19  \\\n",
       "importance          0.232761               0.21889          0.209143   \n",
       "\n",
       "            amenity_rice_maker  property_type_9  \\\n",
       "importance            0.206325         0.205751   \n",
       "\n",
       "            calculated_host_listings_count  neighbourhood_cleansed_Getxo  \\\n",
       "importance                        0.190923                      0.180544   \n",
       "\n",
       "            neighbourhood_cleansed_Gorliz  amenity_mosquito_net  \\\n",
       "importance                       0.176955              0.176511   \n",
       "\n",
       "            maximum_minimum_nights  neighbourhood_cleansed_Irun  \\\n",
       "importance                0.167823                     0.163328   \n",
       "\n",
       "            amenity_indoor_fireplace  neighbourhood_cleansed_Sopelana  \\\n",
       "importance                  0.158449                         0.155746   \n",
       "\n",
       "            neighbourhood_cleansed_Lekeitio  \\\n",
       "importance                         0.149351   \n",
       "\n",
       "            amenity_paid_street_parking_off_premises  amenity_hot_tub  \\\n",
       "importance                                  0.149081         0.147871   \n",
       "\n",
       "            neighbourhood_group_cleansed_Araba  \\\n",
       "importance                            0.144289   \n",
       "\n",
       "            amenity_drying_rack_for_clothing  property_type_33  \\\n",
       "importance                          0.143995          0.141766   \n",
       "\n",
       "            host_acceptance_rate  property_type_52  room_type_home  \\\n",
       "importance              0.132931          0.130598        0.128008   \n",
       "\n",
       "            neighbourhood_cleansed_Bermeo  amenity_beachfront  \\\n",
       "importance                       0.125288            0.121489   \n",
       "\n",
       "            amenity_cooking_basics  amenity_lock_on_bedroom_door  \\\n",
       "importance                0.117678                      0.117532   \n",
       "\n",
       "            amenity_free_street_parking  amenity_hair_dryer  \\\n",
       "importance                     0.116646            0.106361   \n",
       "\n",
       "            neighbourhood_group_cleansed_Gipuzkoa  host_response_rate  \\\n",
       "importance                               0.105515            0.103092   \n",
       "\n",
       "            amenity_bbq_grill  neighbourhood_cleansed_Zarautz  \\\n",
       "importance           0.099725                        0.099391   \n",
       "\n",
       "            host_response_time_day  amenity_hangers  amenity_conditioner  \\\n",
       "importance                0.098279         0.092234             0.089092   \n",
       "\n",
       "            amenity_air_conditioning  amenity_bidet  \\\n",
       "importance                  0.086367       0.082642   \n",
       "\n",
       "            amenity_nespresso_machine  amenity_mini_fridge  availability_90  \\\n",
       "importance                   0.081213             0.073801         0.073637   \n",
       "\n",
       "            amenity_outdoor_furniture  minimum_minimum_nights  \\\n",
       "importance                   0.073316                0.072341   \n",
       "\n",
       "            amenity_dishwasher  amenity_sound_system  license_reported  \\\n",
       "importance            0.072232              0.070596          0.067652   \n",
       "\n",
       "            amenity_long_term_stays_allowed  amenity_kitchen  amenity_washer  \\\n",
       "importance                         0.067401         0.067347        0.064423   \n",
       "\n",
       "            amenity_backyard  amenity_ethernet_connection  amenity_keypad  \\\n",
       "importance          0.064289                     0.064228        0.063428   \n",
       "\n",
       "            amenity_dishes_and_silverware  amenity_babysitter_recommendations  \\\n",
       "importance                       0.061945                             0.06043   \n",
       "\n",
       "            maximum_nights  amenity_wine_glasses  first_review  \\\n",
       "importance        0.060027              0.058793      0.056803   \n",
       "\n",
       "            host_response_time_few_days  amenity_security_cameras_on_property  \\\n",
       "importance                     0.056054                               0.05571   \n",
       "\n",
       "            minimum_nights  amenity_carbon_monoxide_alarm  host_is_superhost  \\\n",
       "importance        0.051729                       0.050823           0.050616   \n",
       "\n",
       "            amenity_toaster  amenity_gym  amenity_clothing_storage  \\\n",
       "importance         0.050015     0.049066                  0.048753   \n",
       "\n",
       "            amenity_freezer  amenity_paid_parking_off_premises  \\\n",
       "importance         0.048505                            0.04778   \n",
       "\n",
       "            host_total_listings_count  amenity_microwave  \\\n",
       "importance                   0.047358           0.047193   \n",
       "\n",
       "            amenity_changing_table  amenity_single_level_home  \\\n",
       "importance                 0.04669                   0.046066   \n",
       "\n",
       "            amenity_beach_essentials  host_response_time_hour  amenity_hdtv  \\\n",
       "importance                  0.045901                 0.044587      0.040463   \n",
       "\n",
       "            property_type_40  number_of_reviews_ltm  \\\n",
       "importance          0.039878               0.039144   \n",
       "\n",
       "            amenity_luggage_dropoff_allowed  amenity_induction_stove  \\\n",
       "importance                         0.038922                 0.038739   \n",
       "\n",
       "            amenity_coffee_maker  amenity_heating  amenity_bathtub  has_beach  \\\n",
       "importance               0.03599         0.035691         0.035188    0.03515   \n",
       "\n",
       "            amenity_host_greets_you  amenity_first_aid_kit  \\\n",
       "importance                 0.034473               0.033558   \n",
       "\n",
       "            amenity_patio_or_balcony  amenity_hot_water  \\\n",
       "importance                  0.033509           0.032998   \n",
       "\n",
       "            amenity_room-darkening_shades  amenity_shampoo  amenity_breakfast  \\\n",
       "importance                       0.030243         0.030125           0.029214   \n",
       "\n",
       "            amenity_central_heating  description_language_en  \\\n",
       "importance                 0.028603                 0.027379   \n",
       "\n",
       "            amenity_cleaning_before_checkout  amenity_outdoor_dining_area  \\\n",
       "importance                           0.02734                     0.026093   \n",
       "\n",
       "            amenity_refrigerator  instant_bookable  amenity_bed_linens  \\\n",
       "importance              0.025702          0.024038            0.023894   \n",
       "\n",
       "            amenity_body_soap  amenity_table  amenity_cleaning_products  \\\n",
       "importance           0.023204       0.022937                   0.022056   \n",
       "\n",
       "            amenity_hot_water_kettle  amenity_private_entrance  \\\n",
       "importance                  0.021887                   0.01866   \n",
       "\n",
       "            host_identity_verified  \\\n",
       "importance                0.017973   \n",
       "\n",
       "            calculated_host_listings_count_private_rooms  \\\n",
       "importance                                      0.017019   \n",
       "\n",
       "            amenity_extra_pillows_and_blankets  amenity_waterfront  \\\n",
       "importance                            0.016466            0.014345   \n",
       "\n",
       "            amenity_tv  amenity_paid_parking_on_premises  amenity_pool  \\\n",
       "importance    0.012645                          0.011216       0.00691   \n",
       "\n",
       "            amenity_private_patio_or_balcony  host_response_time_few_hours  \\\n",
       "importance                          0.006482                      0.002362   \n",
       "\n",
       "            amenity_free_parking_on_premises  \n",
       "importance                          0.000038  "
      ]
     },
     "execution_count": 126,
     "metadata": {},
     "output_type": "execute_result"
    }
   ],
   "source": [
    "pd.DataFrame(importance,columns=['importance']).T"
   ]
  },
  {
   "cell_type": "code",
   "execution_count": null,
   "id": "ef51f215-0d4a-4cb9-999f-d2a5e12cface",
   "metadata": {},
   "outputs": [],
   "source": []
  }
 ],
 "metadata": {
  "kernelspec": {
   "display_name": "Python 3 (ipykernel)",
   "language": "python",
   "name": "python3"
  },
  "language_info": {
   "codemirror_mode": {
    "name": "ipython",
    "version": 3
   },
   "file_extension": ".py",
   "mimetype": "text/x-python",
   "name": "python",
   "nbconvert_exporter": "python",
   "pygments_lexer": "ipython3",
   "version": "3.7.13"
  }
 },
 "nbformat": 4,
 "nbformat_minor": 5
}
